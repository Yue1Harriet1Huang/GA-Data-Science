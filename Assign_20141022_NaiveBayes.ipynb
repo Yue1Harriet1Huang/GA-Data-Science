{
 "metadata": {
  "name": "",
  "signature": "sha256:418f702e80c5f9e48e71dfe30852b88b7baa942f7ba9d4e36392cf542c7facd0"
 },
 "nbformat": 3,
 "nbformat_minor": 0,
 "worksheets": [
  {
   "cells": [
    {
     "cell_type": "markdown",
     "metadata": {},
     "source": [
      "# Assignment: Naive Bayes Classification\n",
      "## Shirin Hashim\n",
      "## October 22, 2014"
     ]
    },
    {
     "cell_type": "markdown",
     "metadata": {},
     "source": [
      "### Read and explore the data"
     ]
    },
    {
     "cell_type": "code",
     "collapsed": false,
     "input": [
      "import json\n",
      "\n",
      "import requests\n",
      "import sklearn\n",
      "import pandas as pd\n",
      "import numpy as np\n",
      "import matplotlib.pyplot as plt\n",
      "\n",
      "pd.set_option('display.width', 500)\n",
      "pd.set_option('display.max_columns', 30)"
     ],
     "language": "python",
     "metadata": {},
     "outputs": [],
     "prompt_number": 1
    },
    {
     "cell_type": "code",
     "collapsed": false,
     "input": [
      "train_data = pd.read_csv('https://gist.githubusercontent.com/datadave/47ed59dd8733b2063dc6/raw/583615c70a1167fcd72899b2d2830493f1c616e6/sts_gold_tweet.csv', sep=';')\n",
      "\n",
      "train_data.head()"
     ],
     "language": "python",
     "metadata": {},
     "outputs": [
      {
       "html": [
        "<div style=\"max-height:1000px;max-width:1500px;overflow:auto;\">\n",
        "<table border=\"1\" class=\"dataframe\">\n",
        "  <thead>\n",
        "    <tr style=\"text-align: right;\">\n",
        "      <th></th>\n",
        "      <th>id</th>\n",
        "      <th>polarity</th>\n",
        "      <th>tweet</th>\n",
        "    </tr>\n",
        "  </thead>\n",
        "  <tbody>\n",
        "    <tr>\n",
        "      <th>0</th>\n",
        "      <td> 1467933112</td>\n",
        "      <td> 0</td>\n",
        "      <td> the angel is going to miss the athlete this we...</td>\n",
        "    </tr>\n",
        "    <tr>\n",
        "      <th>1</th>\n",
        "      <td> 2323395086</td>\n",
        "      <td> 0</td>\n",
        "      <td> It looks as though Shaq is getting traded to C...</td>\n",
        "    </tr>\n",
        "    <tr>\n",
        "      <th>2</th>\n",
        "      <td> 1467968979</td>\n",
        "      <td> 0</td>\n",
        "      <td>    @clarianne APRIL 9TH ISN'T COMING SOON ENOUGH </td>\n",
        "    </tr>\n",
        "    <tr>\n",
        "      <th>3</th>\n",
        "      <td> 1990283756</td>\n",
        "      <td> 0</td>\n",
        "      <td> drinking a McDonalds coffee and not understand...</td>\n",
        "    </tr>\n",
        "    <tr>\n",
        "      <th>4</th>\n",
        "      <td> 1988884918</td>\n",
        "      <td> 0</td>\n",
        "      <td> So dissapointed Taylor Swift doesnt have a Twi...</td>\n",
        "    </tr>\n",
        "  </tbody>\n",
        "</table>\n",
        "</div>"
       ],
       "metadata": {},
       "output_type": "pyout",
       "prompt_number": 2,
       "text": [
        "           id  polarity                                              tweet\n",
        "0  1467933112         0  the angel is going to miss the athlete this we...\n",
        "1  2323395086         0  It looks as though Shaq is getting traded to C...\n",
        "2  1467968979         0     @clarianne APRIL 9TH ISN'T COMING SOON ENOUGH \n",
        "3  1990283756         0  drinking a McDonalds coffee and not understand...\n",
        "4  1988884918         0  So dissapointed Taylor Swift doesnt have a Twi..."
       ]
      }
     ],
     "prompt_number": 2
    },
    {
     "cell_type": "code",
     "collapsed": false,
     "input": [
      "from twitter import *\n",
      "\n",
      "t = Twitter(\n",
      "    auth=OAuth(\n",
      "        token='514766394-lSFZUi4xAQ3G9ydcxJYrr9mhUvR3BGnxawjNpdW1',\n",
      "        token_secret='nHdMAaAB2NqaxD6pqpVC3Qv38wwqFFTsCLEmiNrZqh5S3',\n",
      "        consumer_key='oAiXwPKcIIG8h4nRMYzxrTap6',\n",
      "        consumer_secret='tXtSY7IUE33JaekSDfwLIg9gRzN5tgFiIU6R5spz9wh0VZY6ws')\n",
      "    )\n",
      "\n",
      "hashtags=[\n",
      "    u'deblasio'\n",
      "]\n",
      "\n",
      "tweet_ids = []\n",
      "tweets = []\n",
      "tweet_tags = []\n",
      "for hashtag in hashtags:\n",
      "    results = t.search.tweets(q='#'+hashtag, count=100, result_type='mixed')\n",
      "    for r in results['statuses']:\n",
      "        try:\n",
      "            clean_tweet = unicode(r['text']).encode('utf-8').replace('\\n', ' ').replace('\\r', ' ').replace('\"', \"'\")\n",
      "            tweet_id = unicode(r['id'])\n",
      "            tweet_tag = hashtag\n",
      "            tweets.append(clean_tweet)\n",
      "            tweet_ids.append(tweet_id)\n",
      "            tweet_tags.append(tweet_tag)\n",
      "        except UnicodeDecodeError:\n",
      "            pass\n",
      "ids = np.array(tweet_ids)\n",
      "tweets = np.array(tweets)\n",
      "hashtags = np.array(tweet_tags)\n",
      "\n",
      "all_results = pd.DataFrame({'id': ids, 'tweet': tweets, 'hashtag': hashtags})"
     ],
     "language": "python",
     "metadata": {},
     "outputs": [],
     "prompt_number": 3
    },
    {
     "cell_type": "code",
     "collapsed": false,
     "input": [
      "all_results.head()"
     ],
     "language": "python",
     "metadata": {},
     "outputs": [
      {
       "html": [
        "<div style=\"max-height:1000px;max-width:1500px;overflow:auto;\">\n",
        "<table border=\"1\" class=\"dataframe\">\n",
        "  <thead>\n",
        "    <tr style=\"text-align: right;\">\n",
        "      <th></th>\n",
        "      <th>hashtag</th>\n",
        "      <th>id</th>\n",
        "      <th>tweet</th>\n",
        "    </tr>\n",
        "  </thead>\n",
        "  <tbody>\n",
        "    <tr>\n",
        "      <th>0</th>\n",
        "      <td> deblasio</td>\n",
        "      <td> 529423562721865730</td>\n",
        "      <td> Two years after Sandy, de Blasio says city is ...</td>\n",
        "    </tr>\n",
        "    <tr>\n",
        "      <th>1</th>\n",
        "      <td> deblasio</td>\n",
        "      <td> 529423481927000064</td>\n",
        "      <td> Bill de Blasio must get a grip on #NYC cops fo...</td>\n",
        "    </tr>\n",
        "    <tr>\n",
        "      <th>2</th>\n",
        "      <td> deblasio</td>\n",
        "      <td> 529423317065678848</td>\n",
        "      <td> @nicolegelinas Since #SoonCome #DeBlasio doesn...</td>\n",
        "    </tr>\n",
        "    <tr>\n",
        "      <th>3</th>\n",
        "      <td> deblasio</td>\n",
        "      <td> 529423037725044736</td>\n",
        "      <td> How Cuomo co  http://t.co/b06IDnRIrS   #blasio...</td>\n",
        "    </tr>\n",
        "    <tr>\n",
        "      <th>4</th>\n",
        "      <td> deblasio</td>\n",
        "      <td> 529421809930600449</td>\n",
        "      <td> Cuomo, de Blasio announce incentive program fo...</td>\n",
        "    </tr>\n",
        "  </tbody>\n",
        "</table>\n",
        "</div>"
       ],
       "metadata": {},
       "output_type": "pyout",
       "prompt_number": 4,
       "text": [
        "    hashtag                  id                                              tweet\n",
        "0  deblasio  529423562721865730  Two years after Sandy, de Blasio says city is ...\n",
        "1  deblasio  529423481927000064  Bill de Blasio must get a grip on #NYC cops fo...\n",
        "2  deblasio  529423317065678848  @nicolegelinas Since #SoonCome #DeBlasio doesn...\n",
        "3  deblasio  529423037725044736  How Cuomo co  http://t.co/b06IDnRIrS   #blasio...\n",
        "4  deblasio  529421809930600449  Cuomo, de Blasio announce incentive program fo..."
       ]
      }
     ],
     "prompt_number": 4
    },
    {
     "cell_type": "code",
     "collapsed": false,
     "input": [
      "def tweet_uniqueness(all_results):\n",
      "    return float(len(set(all_results)) / float(len(all_results)))\n",
      "\n",
      "print tweet_uniqueness(all_results.id)"
     ],
     "language": "python",
     "metadata": {},
     "outputs": [
      {
       "output_type": "stream",
       "stream": "stdout",
       "text": [
        "1.0\n"
       ]
      }
     ],
     "prompt_number": 5
    },
    {
     "cell_type": "code",
     "collapsed": false,
     "input": [
      "unique_tweets = all_results.drop_duplicates(cols=['id'])\n",
      "\n",
      "print len(unique_tweets)\n",
      "print tweet_uniqueness(unique_tweets.id)\n",
      "print tweet_uniqueness(unique_tweets.tweet)"
     ],
     "language": "python",
     "metadata": {},
     "outputs": [
      {
       "output_type": "stream",
       "stream": "stdout",
       "text": [
        "100\n",
        "1.0\n",
        "0.57\n"
       ]
      },
      {
       "output_type": "stream",
       "stream": "stderr",
       "text": [
        "//anaconda/lib/python2.7/site-packages/pandas/util/decorators.py:53: FutureWarning: cols is deprecated, use subset instead\n",
        "  warnings.warn(msg, FutureWarning)\n"
       ]
      }
     ],
     "prompt_number": 6
    },
    {
     "cell_type": "markdown",
     "metadata": {},
     "source": [
      "### Vectorize with SK-Learn"
     ]
    },
    {
     "cell_type": "code",
     "collapsed": false,
     "input": [
      "from sklearn.cross_validation import train_test_split\n",
      "from sklearn.naive_bayes import MultinomialNB\n",
      "from sklearn.feature_extraction.text import CountVectorizer"
     ],
     "language": "python",
     "metadata": {},
     "outputs": [],
     "prompt_number": 7
    },
    {
     "cell_type": "code",
     "collapsed": false,
     "input": [
      "vectorizer = CountVectorizer(ngram_range=(1,2))"
     ],
     "language": "python",
     "metadata": {},
     "outputs": [],
     "prompt_number": 8
    },
    {
     "cell_type": "code",
     "collapsed": false,
     "input": [
      "#Create a vector where each row is bag-of-words for a single tweet\n",
      "X = vectorizer.fit_transform(train_data.tweet)\n",
      "\n",
      "#Create an array for polarity\n",
      "Y = (train_data.polarity == 4).values.astype(np.int)"
     ],
     "language": "python",
     "metadata": {},
     "outputs": [],
     "prompt_number": 9
    },
    {
     "cell_type": "markdown",
     "metadata": {},
     "source": [
      "###Test-Train-Split"
     ]
    },
    {
     "cell_type": "code",
     "collapsed": false,
     "input": [
      "xtrain, xtest, ytrain, ytest = train_test_split(X, Y)"
     ],
     "language": "python",
     "metadata": {},
     "outputs": [],
     "prompt_number": 10
    },
    {
     "cell_type": "code",
     "collapsed": false,
     "input": [
      "def accuracy_report(_clf):\n",
      "    print \"Accuracy: %0.2f%%\" % (100 * _clf.score(xtest, ytest))\n",
      "\n",
      "    training_accuracy = _clf.score(xtrain, ytrain)\n",
      "    test_accuracy = _clf.score(xtest, ytest)\n",
      "\n",
      "    print \"Accuracy on training data: %0.2f\" % (training_accuracy)\n",
      "    print \"Accuracy on test data:     %0.2f\" % (test_accuracy)"
     ],
     "language": "python",
     "metadata": {},
     "outputs": [],
     "prompt_number": 11
    },
    {
     "cell_type": "markdown",
     "metadata": {},
     "source": [
      "###Create classifier"
     ]
    },
    {
     "cell_type": "code",
     "collapsed": false,
     "input": [
      "from sklearn.naive_bayes import MultinomialNB\n",
      "\n",
      "print \"MultinomialNB:\"\n",
      "clf = MultinomialNB().fit(xtrain, ytrain)\n",
      "accuracy_report(clf)"
     ],
     "language": "python",
     "metadata": {},
     "outputs": [
      {
       "output_type": "stream",
       "stream": "stdout",
       "text": [
        "MultinomialNB:\n",
        "Accuracy: 83.69%\n",
        "Accuracy on training data: 0.99\n",
        "Accuracy on test data:     0.84\n"
       ]
      }
     ],
     "prompt_number": 12
    },
    {
     "cell_type": "code",
     "collapsed": false,
     "input": [
      "from sklearn.naive_bayes import BernoulliNB\n",
      "\n",
      "print \"BernoulliNB:\"\n",
      "clf = BernoulliNB().fit(xtrain, ytrain)\n",
      "accuracy_report(clf)"
     ],
     "language": "python",
     "metadata": {},
     "outputs": [
      {
       "output_type": "stream",
       "stream": "stdout",
       "text": [
        "BernoulliNB:\n",
        "Accuracy: 72.10%\n",
        "Accuracy on training data: 0.82\n",
        "Accuracy on test data:     0.72\n"
       ]
      }
     ],
     "prompt_number": 13
    },
    {
     "cell_type": "code",
     "collapsed": false,
     "input": [
      "from sklearn.linear_model import LogisticRegression\n",
      "\n",
      "print \"Logistic Regression:\"\n",
      "clf = LogisticRegression().fit(xtrain, ytrain)\n",
      "accuracy_report(clf)"
     ],
     "language": "python",
     "metadata": {},
     "outputs": [
      {
       "output_type": "stream",
       "stream": "stdout",
       "text": [
        "Logistic Regression:\n",
        "Accuracy: 86.05%\n",
        "Accuracy on training data: 1.00\n",
        "Accuracy on test data:     0.86\n"
       ]
      }
     ],
     "prompt_number": 14
    },
    {
     "cell_type": "markdown",
     "metadata": {},
     "source": [
      "Logistic regression and multinomial both have similar results, but logistic does slightly better on the test data."
     ]
    },
    {
     "cell_type": "markdown",
     "metadata": {},
     "source": [
      "### Try using test data"
     ]
    },
    {
     "cell_type": "code",
     "collapsed": false,
     "input": [
      "def AnalyzeTweet(testtweet):\n",
      "    testtweet = vectorizer.transform([testtweet])\n",
      "    return clf.predict(testtweet)"
     ],
     "language": "python",
     "metadata": {},
     "outputs": [],
     "prompt_number": 15
    },
    {
     "cell_type": "code",
     "collapsed": false,
     "input": [
      "unique_tweets['sentiment'] = unique_tweets['tweet'].map(lambda x: AnalyzeTweet(x))"
     ],
     "language": "python",
     "metadata": {},
     "outputs": [],
     "prompt_number": 16
    },
    {
     "cell_type": "code",
     "collapsed": false,
     "input": [
      "unique_tweets['tweet'][1]"
     ],
     "language": "python",
     "metadata": {},
     "outputs": [
      {
       "metadata": {},
       "output_type": "pyout",
       "prompt_number": 17,
       "text": [
        "'Bill de Blasio must get a grip on #NYC cops force http://t.co/mWhroW3kEk #DeBlasio #NYPD'"
       ]
      }
     ],
     "prompt_number": 17
    },
    {
     "cell_type": "code",
     "collapsed": false,
     "input": [
      "unique_tweets['sentiment'][1]"
     ],
     "language": "python",
     "metadata": {},
     "outputs": [
      {
       "metadata": {},
       "output_type": "pyout",
       "prompt_number": 18,
       "text": [
        "array([0])"
       ]
      }
     ],
     "prompt_number": 18
    },
    {
     "cell_type": "code",
     "collapsed": false,
     "input": [
      "positives = unique_tweets.ix[(unique_tweets['sentiment'] == 1)]"
     ],
     "language": "python",
     "metadata": {},
     "outputs": [],
     "prompt_number": 19
    },
    {
     "cell_type": "code",
     "collapsed": false,
     "input": [
      "positives.tweet"
     ],
     "language": "python",
     "metadata": {},
     "outputs": [
      {
       "metadata": {},
       "output_type": "pyout",
       "prompt_number": 20,
       "text": [
        "6     @deBlasioNYC NYC's first publicly cycled mayor...\n",
        "88    Me listening to this crock of shit love fest b...\n",
        "Name: tweet, dtype: object"
       ]
      }
     ],
     "prompt_number": 20
    },
    {
     "cell_type": "code",
     "collapsed": false,
     "input": [
      "unique_tweets['tweet'][88]"
     ],
     "language": "python",
     "metadata": {},
     "outputs": [
      {
       "metadata": {},
       "output_type": "pyout",
       "prompt_number": 21,
       "text": [
        "'Me listening to this crock of shit love fest between @BilldeBlasio &amp; @CommissBratton #deblasio #NYPD @NYPDChiefBanks http://t.co/94jxzyGTPL'"
       ]
      }
     ],
     "prompt_number": 21
    },
    {
     "cell_type": "code",
     "collapsed": false,
     "input": [
      "negatives = unique_tweets.ix[(unique_tweets['sentiment'] == 0)]"
     ],
     "language": "python",
     "metadata": {},
     "outputs": [],
     "prompt_number": 22
    },
    {
     "cell_type": "code",
     "collapsed": false,
     "input": [
      "negatives.tweet"
     ],
     "language": "python",
     "metadata": {},
     "outputs": [
      {
       "metadata": {},
       "output_type": "pyout",
       "prompt_number": 23,
       "text": [
        "0     Two years after Sandy, de Blasio says city is ...\n",
        "1     Bill de Blasio must get a grip on #NYC cops fo...\n",
        "2     @nicolegelinas Since #SoonCome #DeBlasio doesn...\n",
        "3     How Cuomo co  http://t.co/b06IDnRIrS   #blasio...\n",
        "4     Cuomo, de Blasio announce incentive program fo...\n",
        "5     How Cuomo co  http://t.co/b06IDnRIrS   #blasio...\n",
        "7     Has there ever been a more racially divise May...\n",
        "8     How Cuomo co  http://t.co/b06IDnRIrS   #blasio...\n",
        "9     RT @reenaroy: #DeBlasio announcing 150 mil dol...\n",
        "10    RT @reenaroy: #DeBlasio announcing 150 mil dol...\n",
        "11    RT @reenaroy: #DeBlasio announcing 150 mil dol...\n",
        "12    Avast! De Blasio\u2019s Halloween p ... #Abracadabr...\n",
        "13    How Cuomo co  http://t.co/b06IDnRIrS   #blasio...\n",
        "14    5-year-old boy who tested negative for Ebola.....\n",
        "15    RT @RikTheBosnian: #RIPRyan #DeBlasio #NeverFo...\n",
        "...\n",
        "84    How Cuomo could lose on Election Day ... #DeBl...\n",
        "85    hw Cuomo cud lose on Ele... #Blasio #DeBlasio ...\n",
        "86    New York governor seeks to tamp down criticism...\n",
        "87    New York governor seeks to tamp down criticism...\n",
        "89    #deblasio should just step down and let his wi...\n",
        "90    Mayor #deblasio #bratton both on way out Strin...\n",
        "91    Two years after Sandy, de Blasio says city is ...\n",
        "92    New York governor seeks to tamp down criticism...\n",
        "93    5-year-old boy who tested negative for Ebola.....\n",
        "94    RT @Msirota1: NYC needs to be safe and bill br...\n",
        "95    NYC needs to be safe and bill bratton can do i...\n",
        "96    New York governor seeks to tamp down criticism...\n",
        "97    RT @Kcim13: @DCIPalestine 'Those who stayed in...\n",
        "98    @nypost nobody looks @BilldeBlasio as the mayo...\n",
        "99    RT @Kcim13: @DCIPalestine 'Those who stayed in...\n",
        "Name: tweet, Length: 98, dtype: object"
       ]
      }
     ],
     "prompt_number": 23
    },
    {
     "cell_type": "code",
     "collapsed": false,
     "input": [
      "unique_tweets['tweet'][91]"
     ],
     "language": "python",
     "metadata": {},
     "outputs": [
      {
       "metadata": {},
       "output_type": "pyout",
       "prompt_number": 24,
       "text": [
        "'Two years after Sandy, de Blasio says city is better prepared - ... http://t.co/Ea5YthpBjV  #DeBlasio #MayorMichaelBloomberg #OceanBreeze'"
       ]
      }
     ],
     "prompt_number": 24
    },
    {
     "cell_type": "markdown",
     "metadata": {},
     "source": [
      "If we were to take the predictor for what it is, it seems like most of the tweets about Mayor Bill De Blasio are negative. However, taking a closer look, it definitely look like there are some areas (such as the one above, which is not necessarily a negative tweet, but is getting classified as a negative tweet.)"
     ]
    }
   ],
   "metadata": {}
  }
 ]
}