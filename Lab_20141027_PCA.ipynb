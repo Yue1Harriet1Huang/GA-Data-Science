{
 "metadata": {
  "name": "",
  "signature": "sha256:6a0e8ef3f4d775ebbdc03cc900e77dba82f74f3321526fc0591926efe24e00ec"
 },
 "nbformat": 3,
 "nbformat_minor": 0,
 "worksheets": [
  {
   "cells": [
    {
     "cell_type": "markdown",
     "metadata": {},
     "source": [
      "#Principal Component Analysis\n",
      "##Shirin Hashim\n",
      "##October 27, 2014"
     ]
    },
    {
     "cell_type": "code",
     "collapsed": false,
     "input": [
      "import numpy as np\n",
      "%pylab inline"
     ],
     "language": "python",
     "metadata": {},
     "outputs": [
      {
       "output_type": "stream",
       "stream": "stdout",
       "text": [
        "Populating the interactive namespace from numpy and matplotlib\n"
       ]
      }
     ],
     "prompt_number": 6
    },
    {
     "cell_type": "markdown",
     "metadata": {},
     "source": [
      "#####Set up data"
     ]
    },
    {
     "cell_type": "code",
     "collapsed": false,
     "input": [
      "#Creates arrays x1 and x2 that are randomly distributed\n",
      "x1 = np.random.normal(loc=40, scale=8, size=100)\n",
      "x2 = x1 - 10 + np.random.normal(scale=3, size=100)\n",
      "scatter(x1, x2)"
     ],
     "language": "python",
     "metadata": {},
     "outputs": [
      {
       "metadata": {},
       "output_type": "pyout",
       "prompt_number": 7,
       "text": [
        "<matplotlib.collections.PathCollection at 0x1081a4710>"
       ]
      },
      {
       "metadata": {},
       "output_type": "display_data",
       "png": "[encoded data removed]",
       "text": [
        "<matplotlib.figure.Figure at 0x10adf6710>"
       ]
      }
     ],
     "prompt_number": 7
    },
    {
     "cell_type": "code",
     "collapsed": false,
     "input": [
      "#Creates a 2-D array (columns x1 and x2)\n",
      "X = np.column_stack((x1, x2))\n",
      "X.shape"
     ],
     "language": "python",
     "metadata": {},
     "outputs": [
      {
       "metadata": {},
       "output_type": "pyout",
       "prompt_number": 9,
       "text": [
        "(100, 2)"
       ]
      }
     ],
     "prompt_number": 9
    },
    {
     "cell_type": "code",
     "collapsed": false,
     "input": [
      "#Creates a standard normal from the data\n",
      "X.mean(axis=0)\n",
      "X_centered = X - X.mean(axis=0)"
     ],
     "language": "python",
     "metadata": {},
     "outputs": [],
     "prompt_number": 14
    },
    {
     "cell_type": "code",
     "collapsed": false,
     "input": [
      "#Covariance matrix of X\n",
      "print np.cov(X, rowvar=0)\n",
      "print np.cov(X_centered, rowvar=0)"
     ],
     "language": "python",
     "metadata": {},
     "outputs": [
      {
       "output_type": "stream",
       "stream": "stdout",
       "text": [
        "[[ 65.75446377  66.03750435]\n",
        " [ 66.03750435  74.86372584]]\n",
        "[[ 65.75446377  66.03750435]\n",
        " [ 66.03750435  74.86372584]]\n"
       ]
      }
     ],
     "prompt_number": 20
    },
    {
     "cell_type": "code",
     "collapsed": false,
     "input": [
      "#Dot product\n",
      "#Dot product of the standardized values is same as covariance matrix\n",
      "print np.dot(X.T, X)\n",
      "print np.dot(X_centered.T, X_centered)\n",
      "print np.dot(X_centered.T, X_centered)/99"
     ],
     "language": "python",
     "metadata": {},
     "outputs": [
      {
       "output_type": "stream",
       "stream": "stdout",
       "text": [
        "[[ 177365.94428869  134647.4499346 ]\n",
        " [ 134647.4499346   103469.4785677 ]]\n",
        "[[ 6509.69191328  6537.71293019]\n",
        " [ 6537.71293019  7411.5088583 ]]\n",
        "[[ 65.75446377  66.03750435]\n",
        " [ 66.03750435  74.86372584]]\n"
       ]
      }
     ],
     "prompt_number": 23
    },
    {
     "cell_type": "markdown",
     "metadata": {},
     "source": [
      "#####PCA time"
     ]
    },
    {
     "cell_type": "code",
     "collapsed": false,
     "input": [
      "eig_vals, Q = np.linalg.eig(np.cov(X_centered, rowvar=0)*99)\n",
      "np.dot(Q, np.dot(np.diag(eig_vals), np.linalg.inv(Q)))\n",
      "np.cov(X_centered, rowvar=0)*99"
     ],
     "language": "python",
     "metadata": {},
     "outputs": [
      {
       "metadata": {},
       "output_type": "pyout",
       "prompt_number": 19,
       "text": [
        "array([[ 6509.69191328,  6537.71293019],\n",
        "       [ 6537.71293019,  7411.5088583 ]])"
       ]
      }
     ],
     "prompt_number": 19
    },
    {
     "cell_type": "code",
     "collapsed": false,
     "input": [
      "ordered = sorted(zip(eig_vals, Q.T), reverse=True)\n",
      "eig_vals = np.array([_[0] for _ in ordered])\n",
      "Q = np.column_stack((_[1] for _ in ordered))"
     ],
     "language": "python",
     "metadata": {},
     "outputs": [],
     "prompt_number": 24
    },
    {
     "cell_type": "code",
     "collapsed": false,
     "input": [
      "X_transformed = np.dot(Q[:, 0].reshape(2, 1).T, X_centered.T)"
     ],
     "language": "python",
     "metadata": {},
     "outputs": [],
     "prompt_number": 25
    },
    {
     "cell_type": "code",
     "collapsed": false,
     "input": [
      "X_reconstituted = np.dot(X_transformed.reshape(100, 1),\n",
      "                         Q[:, 0].reshape(1, 2))"
     ],
     "language": "python",
     "metadata": {},
     "outputs": [],
     "prompt_number": 26
    },
    {
     "cell_type": "code",
     "collapsed": false,
     "input": [
      "scatter(X_centered[:, 0], X_centered[:, 1])\n",
      "scatter(X_reconstituted[:, 0], X_reconstituted[:, 1], c='r')"
     ],
     "language": "python",
     "metadata": {},
     "outputs": [
      {
       "metadata": {},
       "output_type": "pyout",
       "prompt_number": 27,
       "text": [
        "<matplotlib.collections.PathCollection at 0x10614cf50>"
       ]
      },
      {
       "metadata": {},
       "output_type": "display_data",
       "png": "[encoded data removed]",
       "text": [
        "<matplotlib.figure.Figure at 0x1081c0bd0>"
       ]
      }
     ],
     "prompt_number": 27
    },
    {
     "cell_type": "markdown",
     "metadata": {},
     "source": [
      "#####SVD"
     ]
    },
    {
     "cell_type": "code",
     "collapsed": false,
     "input": [
      "U, singular_vals, V_T = np.linalg.svd(X_centered)\n",
      "Sigma = np.zeros((100, 2))\n",
      "Sigma[:2, :2] = np.diag(singular_vals)\n",
      "np.dot(U, np.dot(Sigma, V_T))[:5, :]\n",
      "X_centered[:5, :]"
     ],
     "language": "python",
     "metadata": {},
     "outputs": [
      {
       "metadata": {},
       "output_type": "pyout",
       "prompt_number": 28,
       "text": [
        "array([[  8.76620899,  12.89734473],\n",
        "       [ -2.54301072,  -2.03171647],\n",
        "       [ -5.37337781,  -5.42854734],\n",
        "       [  8.1316826 ,   5.43749197],\n",
        "       [-16.06336519, -14.39303911]])"
       ]
      }
     ],
     "prompt_number": 28
    },
    {
     "cell_type": "code",
     "collapsed": false,
     "input": [
      "singular_vals**2\n",
      "eig_vals"
     ],
     "language": "python",
     "metadata": {},
     "outputs": [
      {
       "metadata": {},
       "output_type": "pyout",
       "prompt_number": 29,
       "text": [
        "array([ 13513.84452958,    407.356242  ])"
       ]
      }
     ],
     "prompt_number": 29
    },
    {
     "cell_type": "code",
     "collapsed": false,
     "input": [
      "np.dot(U[:,0].reshape(100, 1), Sigma[0, 0])[:5]\n",
      "X_transformed[:, :5]"
     ],
     "language": "python",
     "metadata": {},
     "outputs": [
      {
       "metadata": {},
       "output_type": "pyout",
       "prompt_number": 30,
       "text": [
        "array([[-15.40992425,   3.22045783,   7.6349305 ,  -9.52358849,\n",
        "         21.48250819]])"
       ]
      }
     ],
     "prompt_number": 30
    },
    {
     "cell_type": "code",
     "collapsed": false,
     "input": [
      "np.dot(U[:,0].reshape(100, 1), Sigma[0, 0]).dot(V_T[0, :].reshape(1, 2))[:5, :]\n",
      "X_reconstituted[:5, :]"
     ],
     "language": "python",
     "metadata": {},
     "outputs": [
      {
       "metadata": {},
       "output_type": "pyout",
       "prompt_number": 31,
       "text": [
        "array([[ 10.51490561,  11.2651021 ],\n",
        "       [ -2.19746765,  -2.35424819],\n",
        "       [ -5.20966698,  -5.5813559 ],\n",
        "       [  6.49838587,   6.96201973],\n",
        "       [-14.65851112, -15.7043373 ]])"
       ]
      }
     ],
     "prompt_number": 31
    },
    {
     "cell_type": "markdown",
     "metadata": {},
     "source": [
      "##Exercise"
     ]
    },
    {
     "cell_type": "markdown",
     "metadata": {},
     "source": [
      "###Predict whether bacteria are gram positive or gram negative based on mass spectrometry data"
     ]
    },
    {
     "cell_type": "code",
     "collapsed": false,
     "input": [
      "from __future__ import division\n",
      "import numpy as np\n",
      "import pandas as pd\n",
      "from sklearn.decomposition import PCA\n",
      "from sklearn.tree import DecisionTreeClassifier"
     ],
     "language": "python",
     "metadata": {},
     "outputs": [],
     "prompt_number": 32
    },
    {
     "cell_type": "code",
     "collapsed": false,
     "input": [
      "X = pd.read_csv('/Users/shirinhashim/Dropbox/Columbia/Fall 2014/GA Data Science/pure_spectra_matrix.csv',sep=';',header=None)"
     ],
     "language": "python",
     "metadata": {},
     "outputs": [],
     "prompt_number": 33
    },
    {
     "cell_type": "code",
     "collapsed": false,
     "input": [
      "#What fraction of the data is non-zero?\n",
      "print 'fraction non-zero:', (X!=0).sum().sum() / np.prod(X.shape)"
     ],
     "language": "python",
     "metadata": {},
     "outputs": [
      {
       "output_type": "stream",
       "stream": "stdout",
       "text": [
        "fraction non-zero: 0.0775683685841\n"
       ]
      }
     ],
     "prompt_number": 35
    },
    {
     "cell_type": "code",
     "collapsed": false,
     "input": [
      "Y = pd.read_csv('/Users/shirinhashim/Dropbox/Columbia/Fall 2014/GA Data Science/pure_spectra_metadata.csv', sep=';')"
     ],
     "language": "python",
     "metadata": {},
     "outputs": [],
     "prompt_number": 42
    },
    {
     "cell_type": "code",
     "collapsed": false,
     "input": [
      "Y['gram'] = Y['Species'].map(lambda x: x.split('.')[0] in ['QWP', 'VVJ', 'QBG', 'RTO'])"
     ],
     "language": "python",
     "metadata": {},
     "outputs": [],
     "prompt_number": 43
    },
    {
     "cell_type": "code",
     "collapsed": false,
     "input": [
      "print 'fraction gram positive:', np.mean(Y.gram)"
     ],
     "language": "python",
     "metadata": {},
     "outputs": [
      {
       "output_type": "stream",
       "stream": "stdout",
       "text": [
        "fraction gram positive: 0.309982486865\n"
       ]
      }
     ],
     "prompt_number": 40
    },
    {
     "cell_type": "code",
     "collapsed": false,
     "input": [
      "tree = DecisionTreeClassifier(max_depth=1)\n",
      "tree.fit(X, Y.gram)\n",
      "print 'stump accuracy on all data:', tree.score(X, Y.gram)"
     ],
     "language": "python",
     "metadata": {},
     "outputs": [
      {
       "output_type": "stream",
       "stream": "stdout",
       "text": [
        "stump accuracy on all data: 0.837127845884\n"
       ]
      }
     ],
     "prompt_number": 45
    },
    {
     "cell_type": "code",
     "collapsed": false,
     "input": [
      "pca = PCA(n_components=1)\n",
      "X1 = pca.fit_transform(X)\n",
      "tree.fit(X1, Y.gram)\n",
      "print 'stump accuracy on one principal component', tree.score(X1, Y.gram)"
     ],
     "language": "python",
     "metadata": {},
     "outputs": [
      {
       "output_type": "stream",
       "stream": "stdout",
       "text": [
        "stump accuracy on one principal component 0.950963222417\n"
       ]
      }
     ],
     "prompt_number": 46
    }
   ],
   "metadata": {}
  }
 ]
}