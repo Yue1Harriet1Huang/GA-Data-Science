{
 "metadata": {
  "name": "",
  "signature": "sha256:7e1fea9e56a0eb25a42b9eee9a9a913c700444b6ca21896d02553f2882eb8751"
 },
 "nbformat": 3,
 "nbformat_minor": 0,
 "worksheets": [
  {
   "cells": [
    {
     "cell_type": "markdown",
     "metadata": {},
     "source": [
      "#Can Anyone Hear Me? <br /> Analyzing 311 Noise Complaints in NYC\n",
      "###Shirin Hashim  <br /> General Assembly: Data Science <br /> November 19, 2014  "
     ]
    },
    {
     "cell_type": "markdown",
     "metadata": {},
     "source": [
      "###Introduction\n",
      "Hundreds of people call into NYC's 311 line to make noise complaints every day. This data, along with information about all other 311 calls, are made available by the City through NYC Open Data. \n",
      "\n",
      "I decided to focus on the length of time it takes for the police to respond to any of these noise complaints depending on where the call is coming, when it's being called in, and what type of complaint it is.\n",
      "\n",
      "This could be beneficial for the City to better plan its allocation of officers in various areas at various times, as well as to better prepare officers on duty to anticipate certain kinds of calls that they may receive. Additionally, it can also help people to determine whether it is worth calling in about a noise complaint or whether it would be more effective to get ear plugs!\n",
      "\n",
      "###Data\n",
      "The data I used were the noise complaints that had been closed out as of September 20, 2014 and had been called in to the 311 line in NYC over the period between September 21, 2013 to September 20, 2014. Data were accessed through NYC OpenData, which has records for all 311 calls since 2010.\n",
      "\n",
      "My target variable is the number of hours it takes for responders to deal with a noise complaint. "
     ]
    },
    {
     "cell_type": "markdown",
     "metadata": {},
     "source": [
      "#####Split dataset into closed-out and open"
     ]
    },
    {
     "cell_type": "markdown",
     "metadata": {},
     "source": [
      "I split my dataset into complaints that had been resolved and those that hadn't, so that I could later use the model I created fitted to the closed-out complaints to predict the amount of time it would take for the ones that are still open to be resolved. This would also provide a test to see if the model was behaving as expected.\n",
      "<br\\>\n",
      "\n",
      "After splitting the data, the number of observations I had were as follows:\n",
      "<br\\>\n",
      "\n",
      "Raw Data: 136080\n",
      "<br\\>Closed Only: 113522\n",
      "<br\\>Open Only: 22558"
     ]
    },
    {
     "cell_type": "markdown",
     "metadata": {},
     "source": [
      "#####Calculate close-out time"
     ]
    },
    {
     "cell_type": "markdown",
     "metadata": {},
     "source": [
      "After significant cleaning of the variables, in particular the date variables, I calculated the close-out time to be the number of hours that it takes between the creation and close of a complaint. For example, a complaint made at 2:30pm and resolved at 4:15pm would have a close-out time of 1.75 hours."
     ]
    },
    {
     "cell_type": "markdown",
     "metadata": {},
     "source": [
      "###Exploration"
     ]
    },
    {
     "cell_type": "markdown",
     "metadata": {},
     "source": [
      "#####Frequencies and close-out times by complaint type"
     ]
    },
    {
     "cell_type": "markdown",
     "metadata": {},
     "source": [
      "First, I look at the overall number of complaints and statistics about the overall close-out times.\n",
      "<br\\>\n",
      "\n",
      "Total Number of Complaints: 113522\n",
      "<br\\>Mean Close-Out Hours: 18:26:03.368455\n",
      "<br\\>Median Close-Out Hours: 02:30:59\n",
      "<br\\>Max Close-Out Hours: 91 days, 19:24:20\n",
      "<br\\>Min Close-Out Hours: 0 days"
     ]
    },
    {
     "cell_type": "markdown",
     "metadata": {},
     "source": [
      "On average, for all complaint types, the average length of time before a complaint is closed out is about 18 hours, while the median is about 2 1/2. The maximum (likely an outlier) is 91 days.\n",
      "\n",
      "Moving forward, I had to convert the timedelta (closeout_time) to a float for number of hours (closeout_hrs) because currently pandas does not allow aggregate functions (like groupby) on timedeltas and floats were easier to work with."
     ]
    },
    {
     "cell_type": "markdown",
     "metadata": {},
     "source": [
      "![Alt text](https://raw.githubusercontent.com/shirin0604/GA-Data-Science/master/Screenshots/close_distribution.png)"
     ]
    },
    {
     "cell_type": "markdown",
     "metadata": {},
     "source": [
      "* Above, we can see that the distribution of hours that it takes to a close-out a noise complaint is heavily skewed with a long right tail, as well as quite a few outliers. This reiterates the difference observed in the mean and median above. \n",
      "* This indicates that the majority of complaints are closed within about 5 hours. \n",
      "* This also suggests that a linear regression model may not be the most predictive of the number of hours because the data are not linear. \n",
      "* This was important when creating a predictive model later on because a linear model would have limited predictability.\n",
      "\n",
      "Next, I look at the various types of complaints that are being reported at the most general level, which is by complaint type. Because I am interested in close-out times for these complaints, I also calculate the mean and median for the number of hours it takes to close-out a complaint."
     ]
    },
    {
     "cell_type": "markdown",
     "metadata": {},
     "source": [
      "![Alt text](https://raw.githubusercontent.com/shirin0604/GA-Data-Science/master/Screenshots/table_by_type.png)"
     ]
    },
    {
     "cell_type": "markdown",
     "metadata": {},
     "source": [
      "* Commercial noise is the most frequent, but the ambigious \"Noise\" is also quite common, which is not surprising since it appears to be a catch-all. \n",
      "* This led me to further look into what specific types of noise complaints are categorized under the general \"Noise\" type and the commercial noise category. \n",
      "* The data provided a more granular description of the type of noise, called the \"descriptor,\" so I looked at how these statistics looked using this next.\n",
      "* It was also interesting that the median is lower than the mean across the board, indicating that there may be some high outliers. \n",
      "* It also looks like Helicopter noise is an outlier with extremely high closeout times. This was important to keep in mind for future analyses so as not to skew the results."
     ]
    },
    {
     "cell_type": "markdown",
     "metadata": {},
     "source": [
      "Below are the top 10 (by frequency) descriptions for Noise and Commercial:\n",
      "\n",
      "![Alt text](https://raw.githubusercontent.com/shirin0604/GA-Data-Science/master/Screenshots/table_by_desc.png)"
     ]
    },
    {
     "cell_type": "markdown",
     "metadata": {},
     "source": [
      "* Under \"Noise,\" the most common type of complaint was about construction, followed by barking dog. For \"Commercial\" noise, the most common descriptor was loud music/party.\n",
      "* Next I wanted to see how the complaints varied by the day of the week, because we may expect that there is more loud music/party noise at night or on the weekends, whereas construction noise may occur mostly during the week. On the other hand, people may only complain when they hear unexpected noise, and thus complain about construction noise on the weekends or at night when they do not expect it, rather than during the day."
     ]
    },
    {
     "cell_type": "heading",
     "level": 5,
     "metadata": {},
     "source": [
      "Frequencies and close-out times by day of the week"
     ]
    },
    {
     "cell_type": "markdown",
     "metadata": {},
     "source": [
      "First I look at just the first week of data for the two largest complaint types: construction and loud music/party to see what the distribution of complaints throughout the day looks like on different days of the week. I focuse on just the first week of the data first, to be able to see details about any patterns that emerge."
     ]
    },
    {
     "cell_type": "markdown",
     "metadata": {},
     "source": [
      "![Alt text](https://raw.githubusercontent.com/shirin0604/GA-Data-Science/master/Screenshots/type_by_1week.png)"
     ]
    },
    {
     "cell_type": "markdown",
     "metadata": {},
     "source": [
      "* The above plot ranging from Sunday to Saturday indicates that there are more loud noise/music complaints all day Sunday than any other day, which makes sense since people are sleeping in and at home, more sensitive to noise, and we would expect that there would also be more unwanted music/noise since people are not at work. \n",
      "* There is of course more construction noise during the week than on the weekend, especially as compared to Sunday, but also much more during weeknights than weekdays (both not too surprising). \n",
      "* The most number of complaints seems to happen on Saturday, however, both Loud Music/Party, as well as Construction, increasing throughout the day.\n",
      "\n",
      "Next I wanted a bigger picture look at all of the complaints to confirm that this pattern holds true by day of the week."
     ]
    },
    {
     "cell_type": "markdown",
     "metadata": {},
     "source": [
      "![Alt text](https://raw.githubusercontent.com/shirin0604/GA-Data-Science/master/Screenshots/freq_by_day.png)"
     ]
    },
    {
     "cell_type": "markdown",
     "metadata": {},
     "source": [
      "As expected, there are a lot more Noise (construction) complaints during the weeek when there is likely to be construction occurring, whereas the Street/Sidewalk and Commercial (loud music/party) noise complaints occur mostly on the weekends.\n",
      "\n",
      "Next, I wanted to see if there was any relationship between the day of the week and the length of time it takes it close out a noise complaint. I thought that perhaps on the weekends, there are many more complaints coming through, so it make take longer for the police to respond."
     ]
    },
    {
     "cell_type": "code",
     "collapsed": false,
     "input": [
      "wd_data = pd.DataFrame({'median_hours' : noise_c.groupby( [ 'create_weekday'] )['closeout_hrs'].median(),\n",
      "                        'mean_hours': noise_c.groupby( [ 'create_weekday' ])['closeout_hrs'].mean()\n",
      "                        }).reset_index()\n",
      "wd_data = wd_data.sort(['create_weekday'],ascending=True)"
     ],
     "language": "python",
     "metadata": {},
     "outputs": [],
     "prompt_number": 21
    },
    {
     "cell_type": "markdown",
     "metadata": {},
     "source": [
      "![Alt text](https://raw.githubusercontent.com/shirin0604/GA-Data-Science/master/Screenshots/mean_med_by_day.png)"
     ]
    },
    {
     "cell_type": "markdown",
     "metadata": {},
     "source": [
      "* Contrary to my hypothesis, it looks like noise complaints on Sunday are the quickest to be closed out. \n",
      "* However, it could be that this is just attributable to the type of complaints that occur on Sunday versus during the week. \n",
      "* As seen previously, there are many more Loud Music/Party complaints on the weekend, particularly Sunday, in comparison to Construction (the majority of \"Noise\"). \n",
      "* Also seen previously, the average time to close out a complaint for a Loud Music/Party complaint was much lower than that of Construction. This may be the driving force of the pattern seen above.\n",
      "* Another important observation is the stark difference in the mean close-out hours and the median. The mean may be heavily skewed by the helicopter noise complaints observed previously. This may suggest that the median is the better statistic to use here if not taking the type of noise complaint into consideration."
     ]
    },
    {
     "cell_type": "markdown",
     "metadata": {},
     "source": [
      "#####Close-out times by hour of the day"
     ]
    },
    {
     "cell_type": "markdown",
     "metadata": {},
     "source": [
      "I wanted to see whether the length of time it takes to closeout a complaint was different depending on when the call was made. I expected that during regular business hours, there may be more police on duty, and thus we may see that it takes less time during the day versus at night. On the other hand, calls being made at night may be more urgent and thus be dealt with faster.\n",
      "\n",
      "I also thought it would be important to look at the number of complaints that occur at each of these hours, to see if there is a relationship between the number of complaints and the closeout time. (Although, looking at the previous analysis, if anything, there appears to be a negative relationship because there are more complaints occuring during the weekend, but the close-out times are lower. Again, it is difficult to determine whether this is just because of the types of of complaints rather than because of the day of the week or the number of complaints)."
     ]
    },
    {
     "cell_type": "markdown",
     "metadata": {},
     "source": [
      "![Alt text](https://raw.githubusercontent.com/shirin0604/GA-Data-Science/master/Screenshots/freq_med_by_time.png)"
     ]
    },
    {
     "cell_type": "markdown",
     "metadata": {},
     "source": [
      "In line with the previous observation, it does appear that the time it takes to close-out complaints is longest in the middle of the day, which is also when there are the least complaints. Again, it is difficult to tell whether this just has to do with the type of complaint occuring at these times."
     ]
    },
    {
     "cell_type": "markdown",
     "metadata": {},
     "source": [
      "![Alt text](https://raw.githubusercontent.com/shirin0604/GA-Data-Science/master/Screenshots/freq_by_type.png)"
     ]
    },
    {
     "cell_type": "markdown",
     "metadata": {},
     "source": [
      "Even broken out by the type of complaints, it still looks like there are the fewest complaints during working hours, and the most at night, regardless of the type of complaint. This is not surprising, but could be interesting in relation to the close-out times by complaint throughout the day."
     ]
    },
    {
     "cell_type": "markdown",
     "metadata": {},
     "source": [
      "![Alt text](https://raw.githubusercontent.com/shirin0604/GA-Data-Science/master/Screenshots/med_by_type.png)"
     ]
    },
    {
     "cell_type": "markdown",
     "metadata": {},
     "source": [
      "* It does not look like there is a big difference between the response times for different types of complaints throughout the day. \n",
      "* Although it is difficult to see here, Noise looks like it follows the same pattern of response time as the other types of complaints (but on a different scale).\n",
      "* Helicopter and Collection Truck noise seem to have a slighlty different pattern of response times, but these are also the two types of complaints with the fewest records in the data and are the source of most of the outliers.\n",
      "* This is interesting because it shows that there is likely some pattern between close-out times and the time of the day, even after controlling for the type of complaint."
     ]
    },
    {
     "cell_type": "heading",
     "level": 5,
     "metadata": {},
     "source": [
      "Complaints by Location"
     ]
    },
    {
     "cell_type": "markdown",
     "metadata": {},
     "source": [
      "Next, I wanted to explore whether there were any observable trends in noise complaints by location. I look at the difference in the frequency and close-out times for complaints by borough, and then bring in external data to map the zipcodes of the complaints to the specific neighborhoods in New York."
     ]
    },
    {
     "cell_type": "markdown",
     "metadata": {},
     "source": [
      "![Alt text](https://raw.githubusercontent.com/shirin0604/GA-Data-Science/master/Screenshots/table_by_borough.png)"
     ]
    },
    {
     "cell_type": "markdown",
     "metadata": {},
     "source": [
      "The mean hours again looks like it may be skewed and less informative. The median hours of close-out time looks closer to what we may expect. Manhattan has the shortest close-out time, followed by Brooklyn and Queens. Interestingly, Manhattan also has far more complaints than the other boroughs."
     ]
    },
    {
     "cell_type": "markdown",
     "metadata": {},
     "source": [
      "![Alt text](https://raw.githubusercontent.com/shirin0604/GA-Data-Science/master/Screenshots/freq_by_neighborhood.png)"
     ]
    },
    {
     "cell_type": "markdown",
     "metadata": {},
     "source": [
      "![Alt text](https://raw.githubusercontent.com/shirin0604/GA-Data-Science/master/Screenshots/mean_by_neigborhood.png)"
     ]
    },
    {
     "cell_type": "markdown",
     "metadata": {},
     "source": [
      "![Alt text](https://raw.githubusercontent.com/shirin0604/GA-Data-Science/master/Screenshots/med_by_neighborhood.png)"
     ]
    },
    {
     "cell_type": "markdown",
     "metadata": {},
     "source": [
      "Above, we see that Inwood/Washington Heights in Manhattan has the most noise complaints, followed by the Lower East Side and Chelsea/Clinton in Manhattan. However, these do not correspond to the average close-out times. If anything, we see a hint of the previous trend that was observed when looking at time (that when there are more complaints, the close-out time is in fact shorter), in that in neighborhoods where thare are more complaints, close-out times are shorter.\n",
      "\n",
      "One thing to note, is that the median close-out hours for the Lower East Side is dramatically higher than any other neighborhood. I wanted to see what types of complaints were originating from LES."
     ]
    },
    {
     "cell_type": "code",
     "collapsed": false,
     "input": [
      "![Alt text](https://raw.githubusercontent.com/shirin0604/GA-Data-Science/master/Screenshots/med_by_type.png)"
     ],
     "language": "python",
     "metadata": {},
     "outputs": [
      {
       "output_type": "stream",
       "stream": "stdout",
       "text": [
        "Noise Complaints in the Lower East Side (Manhattan):\n",
        "                       type  count  mean_hours  median_hours\n",
        "0    Collection Truck Noise      3   28.016667     33.750000\n",
        "1                     Noise   1508  113.801017     99.616667\n",
        "2        Noise - Commercial   2932    1.513084      0.965556\n",
        "3        Noise - Helicopter     31  399.013889    303.579167\n",
        "4  Noise - House of Worship     19    2.465307      2.082778\n",
        "5              Noise - Park    446    1.905746      1.194167\n",
        "6   Noise - Street/Sidewalk   1224    1.948588      1.212917\n",
        "7           Noise - Vehicle    429    1.809454      1.176944\n"
       ]
      }
     ],
     "prompt_number": 37
    },
    {
     "cell_type": "markdown",
     "metadata": {},
     "source": [
      "Again it seems to be that the type of complaint is driving the time it takes for a complaint to be closed out, and it just happens to be that the Helicopter and Construction complaints are heavily represented in the LES. The average and median close out times for these types does not appear to be significantly different from the overall average and median for these types.\n",
      "\n",
      "Next I brought in the population by zipcode from http://zipatlas.com/ beause I wanted to see if that could explain the variance between the number of complaints or the close-out times."
     ]
    },
    {
     "cell_type": "code",
     "collapsed": false,
     "input": [
      "zippop = pd.read_csv(\"https://raw.githubusercontent.com/shirin0604/GA-Data-Science/master/nyc_pop_by_zip.csv\")\n",
      "\n",
      "zippop.columns.values"
     ],
     "language": "python",
     "metadata": {},
     "outputs": [
      {
       "metadata": {},
       "output_type": "pyout",
       "prompt_number": 38,
       "text": [
        "array(['id', 'zip', 'location', 'city', 'population', 'people_per_sqmi',\n",
        "       'rank'], dtype=object)"
       ]
      }
     ],
     "prompt_number": 38
    },
    {
     "cell_type": "code",
     "collapsed": false,
     "input": [
      "zippop.drop(['id','location','city','rank'], axis=1, inplace=True)"
     ],
     "language": "python",
     "metadata": {},
     "outputs": [],
     "prompt_number": 39
    },
    {
     "cell_type": "code",
     "collapsed": false,
     "input": [
      "noise_zip = pd.merge(noise_c_use, zippop, left_on='zip', right_on='zip', how='left')\n",
      "\n",
      "zip_data = pd.DataFrame({'count' : noise_zip.groupby( [ 'zip'] ).size(),\n",
      "                           'mean_hours' : noise_zip.groupby( [ 'zip' ] )['closeout_hrs'].mean(),\n",
      "                           'median_hours' : noise_zip.groupby( [ 'zip' ] )['closeout_hrs'].median(),\n",
      "                           'population' : noise_zip.groupby( [ 'zip' ] )['population'].max(),\n",
      "                           'people_per_sqmi' : noise_zip.groupby( ['zip'] )['people_per_sqmi'].max()\n",
      "                           }).reset_index()"
     ],
     "language": "python",
     "metadata": {},
     "outputs": [],
     "prompt_number": 40
    },
    {
     "cell_type": "code",
     "collapsed": false,
     "input": [
      "fig = plt.figure(figsize=(25,5))\n",
      "ax1 = fig.add_subplot(1, 3, 1)\n",
      "ax2 = fig.add_subplot(1, 3, 2)\n",
      "ax3 = fig.add_subplot(1, 3, 3)\n",
      "ax1.set_xlim(0,110000)\n",
      "ax1.set_ylim(0,160)\n",
      "ax2.set_xlim(0,110000)\n",
      "ax2.set_ylim(0,3500)\n",
      "ax3.set_xlim(0,3500)\n",
      "ax3.set_ylim(0,160)\n",
      "\n",
      "ax1.set_xlabel(\"People per Square Mile\")\n",
      "ax2.set_xlabel(\"People per Square Mile\")\n",
      "ax3.set_xlabel(\"Number of Complaints in Zipcode\")\n",
      "ax1.set_ylabel(\"Count of Complaints\")\n",
      "ax2.set_ylabel(\"Count of Complaints\")\n",
      "ax3.set_ylabel(\"Mean Hours to Close Complaint\")\n",
      "ax1.set_title(\"Average Close-Out Time by Zipcode Population Density\")\n",
      "ax2.set_title(\"Number of Complaints by Zipcode Population Density\")\n",
      "ax3.set_title(\"Number of Complaints by Number of Complaints in Zipcode\")\n",
      "\n",
      "ax1.scatter(zip_data['people_per_sqmi'], zip_data['mean_hours'],color='b')\n",
      "ax2.scatter(zip_data['people_per_sqmi'], zip_data['count'],color='c')\n",
      "ax3.scatter(zip_data['count'], zip_data['mean_hours'],color='m')\n",
      "plt.show()"
     ],
     "language": "python",
     "metadata": {},
     "outputs": [
      {
       "metadata": {},
       "output_type": "display_data",
       "png": "[encoded data removed]",
       "text": [
        "<matplotlib.figure.Figure at 0x10f129a50>"
       ]
      }
     ],
     "prompt_number": 41
    },
    {
     "cell_type": "markdown",
     "metadata": {},
     "source": [
      "Again, we see that familiar negative relationship between the number of complaints and the average close-out time in a particular zipcode, as we saw with the time of the day and by neighborhood. Here, we also see that the number of complaints increases as population density increases."
     ]
    },
    {
     "cell_type": "markdown",
     "metadata": {},
     "source": [
      "###Modeling the Data"
     ]
    },
    {
     "cell_type": "markdown",
     "metadata": {},
     "source": [
      "#####Structure explanatory variables"
     ]
    },
    {
     "cell_type": "code",
     "collapsed": false,
     "input": [
      "noise_XY = pd.merge(noise_zip[['type','create_weekday','create_hour','borough','closeout_hrs','people_per_sqmi', 'population', 'zip']], zip_data[['zip','count']], left_on='zip', right_on='zip', how='left')"
     ],
     "language": "python",
     "metadata": {},
     "outputs": [],
     "prompt_number": 42
    },
    {
     "cell_type": "code",
     "collapsed": false,
     "input": [
      "noise_XY['weekend'] = (noise_XY['create_weekday'] > 4).astype(int)\n",
      "noise_XY = noise_XY.join(pd.get_dummies(noise_XY.type))\n",
      "noise_XY = noise_XY.join(pd.get_dummies(noise_XY.borough))\n",
      "noise_XY = noise_XY.join(pd.get_dummies(noise_XY.create_weekday))\n",
      "noise_XY['create_dy'] = noise_XY['create_hour'].map(lambda x: 7 <= x < 17).astype(int)\n",
      "noise_XY['create_eg'] = noise_XY['create_hour'].map(lambda x: 17 <= x < 23).astype(int)\n",
      "noise_XY['create_nt'] = noise_XY['create_hour'].map(lambda x: x == 23 or x < 7).astype(int)"
     ],
     "language": "python",
     "metadata": {},
     "outputs": [],
     "prompt_number": 43
    },
    {
     "cell_type": "code",
     "collapsed": false,
     "input": [
      "noise_XY.columns"
     ],
     "language": "python",
     "metadata": {},
     "outputs": [
      {
       "metadata": {},
       "output_type": "pyout",
       "prompt_number": 44,
       "text": [
        "Index([u'type', u'create_weekday', u'create_hour', u'borough', u'closeout_hrs', u'people_per_sqmi', u'population', u'zip', u'count', u'weekend', u'Collection Truck Noise', u'Noise', u'Noise - Commercial', u'Noise - Helicopter', u'Noise - House of Worship', u'Noise - Park', u'Noise - Street/Sidewalk', u'Noise - Vehicle', u'BRONX', u'BROOKLYN', u'MANHATTAN', u'QUEENS', u'STATEN ISLAND', 0, 1, 2, 3, 4, 5, 6, u'create_dy', u'create_eg', u'create_nt'], dtype='object')"
       ]
      }
     ],
     "prompt_number": 44
    },
    {
     "cell_type": "code",
     "collapsed": false,
     "input": [
      "noise_XY = noise_XY.rename(columns={'Collection Truck Noise' : 'Truck', \n",
      "                                    'Noise - Commercial' : 'Commercial', \n",
      "                                    'Noise - Helicopter' : 'Helicopter', \n",
      "                                    'Noise - House of Worship' : 'HoW', \n",
      "                                    'Noise - Park' : 'Park', \n",
      "                                    'Noise - Street/Sidewalk' : 'Street', \n",
      "                                    'Noise - Vehicle' : 'Vehicle',  \n",
      "                                    'STATEN ISLAND' : 'SI',\n",
      "                                    0 : 'Monday',\n",
      "                                    1 : 'Tuesday',\n",
      "                                    2 : 'Wednesday',\n",
      "                                    3 : 'Thursday', \n",
      "                                    4 : 'Friday',\n",
      "                                    5 : 'Saturday',\n",
      "                                    6 : 'Sunday',\n",
      "                                    'count' : 'ct_by_zip'})"
     ],
     "language": "python",
     "metadata": {},
     "outputs": [],
     "prompt_number": 45
    },
    {
     "cell_type": "markdown",
     "metadata": {},
     "source": [
      "#####Create regression model"
     ]
    },
    {
     "cell_type": "code",
     "collapsed": false,
     "input": [
      "import statsmodels.formula.api as smf"
     ],
     "language": "python",
     "metadata": {},
     "outputs": [],
     "prompt_number": 46
    },
    {
     "cell_type": "code",
     "collapsed": false,
     "input": [
      "log_hr_model = smf.ols('np.log(closeout_hrs+1) ~ ct_by_zip + create_eg + create_nt + Truck + Commercial + Helicopter + HoW + Park + Street + Vehicle + Monday + Tuesday + Wednesday + Thursday + Friday + Saturday + BRONX + BROOKLYN + QUEENS + SI', data=noise_XY)\n",
      "log_hr_results = log_hr_model.fit()\n",
      "print log_hr_results.summary()"
     ],
     "language": "python",
     "metadata": {},
     "outputs": [
      {
       "output_type": "stream",
       "stream": "stdout",
       "text": [
        "                               OLS Regression Results                               \n",
        "====================================================================================\n",
        "Dep. Variable:     np.log(closeout_hrs + 1)   R-squared:                       0.761\n",
        "Model:                                  OLS   Adj. R-squared:                  0.761\n",
        "Method:                       Least Squares   F-statistic:                 1.809e+04\n",
        "Date:                      Wed, 19 Nov 2014   Prob (F-statistic):               0.00\n",
        "Time:                              13:11:06   Log-Likelihood:            -1.2690e+05\n",
        "No. Observations:                    113362   AIC:                         2.538e+05\n",
        "Df Residuals:                        113341   BIC:                         2.540e+05\n",
        "Df Model:                                20                                         \n",
        "==============================================================================\n",
        "                 coef    std err          t      P>|t|      [95.0% Conf. Int.]\n",
        "------------------------------------------------------------------------------\n",
        "Intercept      4.1890      0.010    439.354      0.000         4.170     4.208\n",
        "ct_by_zip  -3.239e-05   3.91e-06     -8.292      0.000        -4e-05 -2.47e-05\n",
        "create_eg     -0.0338      0.006     -5.598      0.000        -0.046    -0.022\n",
        "create_nt      0.0398      0.006      6.667      0.000         0.028     0.052\n",
        "Truck         -1.0803      0.057    -18.931      0.000        -1.192    -0.968\n",
        "Commercial    -3.1122      0.007   -468.258      0.000        -3.125    -3.099\n",
        "Helicopter     1.6611      0.024     68.949      0.000         1.614     1.708\n",
        "HoW           -3.0643      0.024   -127.552      0.000        -3.111    -3.017\n",
        "Park          -3.1059      0.013   -237.204      0.000        -3.132    -3.080\n",
        "Street        -3.0600      0.007   -462.497      0.000        -3.073    -3.047\n",
        "Vehicle       -3.0278      0.008   -377.892      0.000        -3.044    -3.012\n",
        "Monday        -0.0627      0.008     -7.683      0.000        -0.079    -0.047\n",
        "Tuesday       -0.0901      0.008    -10.674      0.000        -0.107    -0.074\n",
        "Wednesday     -0.0853      0.008    -10.104      0.000        -0.102    -0.069\n",
        "Thursday      -0.0214      0.008     -2.589      0.010        -0.038    -0.005\n",
        "Friday         0.0628      0.008      8.142      0.000         0.048     0.078\n",
        "Saturday       0.0818      0.007     12.033      0.000         0.069     0.095\n",
        "BRONX          0.1231      0.008     14.968      0.000         0.107     0.139\n",
        "BROOKLYN      -0.0279      0.006     -5.011      0.000        -0.039    -0.017\n",
        "QUEENS        -0.1592      0.008    -20.064      0.000        -0.175    -0.144\n",
        "SI            -0.2738      0.015    -18.149      0.000        -0.303    -0.244\n",
        "==============================================================================\n",
        "Omnibus:                     9426.756   Durbin-Watson:                   1.548\n",
        "Prob(Omnibus):                  0.000   Jarque-Bera (JB):            30496.012\n",
        "Skew:                          -0.418   Prob(JB):                         0.00\n",
        "Kurtosis:                       5.400   Cond. No.                     3.61e+04\n",
        "==============================================================================\n",
        "\n",
        "Warnings:\n",
        "[1] The condition number is large, 3.61e+04. This might indicate that there are\n",
        "strong multicollinearity or other numerical problems.\n"
       ]
      }
     ],
     "prompt_number": 47
    },
    {
     "cell_type": "markdown",
     "metadata": {},
     "source": [
      "* Initially, I attempted to create a linear model on the close-out hours. This, however, was resulting in very low R-squared (or the explanatory power of the model) because the data itself (as seen previously) is not linear.\n",
      "* When I moved to a log-linear model, the R-squared increased substantially.\n",
      "* I also did not end up including population statistics (density or zipcode population) because they were likely overfitting the model when included along with the borough. Including either in fact reduced the R-squared of the model and resulted in multicollinearity. Using them instead of the boroughs resulted in a significant coefficient, but the model still had less explanatory power than if I included the boroughs."
     ]
    },
    {
     "cell_type": "markdown",
     "metadata": {},
     "source": [
      "* As seen above, most of the variation in close-out time (or here, log close-out hours), can be explained by the type of complaint because the coefficients are the largest and all are statistically significant. "
     ]
    },
    {
     "cell_type": "markdown",
     "metadata": {},
     "source": [
      "* The \"Noise\" category is the base here, which consists mostly of construction noise complaints. The table above shows that other than Helicopter noise complaints, when you control for the borough, time, and day of the week, construction complaints take the longest to be addressed. This is in line with what we saw previously.\n",
      "* Sunday is the base day of the week, so this table shows that noise complaints on Monday-Thursday are more quickly answered than on Sunday even after controlling for the type of complaint, time of the complaint, and location.\n",
      "* Manhattan is the base borough, so the table suggests that, other than the Bronx, noise complaints take the longest to be responded to in Manhattan. Manhattan has shorter response times than the Bronx, however. The reason for this is difficult to parse from the data. One thing we do know, however, is that Manhattan has the highest number of complaints per capita, and some of these complaints have sigifnicantly longer response times (e.g. Helicopter). However, the results above account for the type of complaints, and Manhattan still has slower response times than most of the boroughs.\n",
      "* Additionally, as the average number of complaints from a particular area increases, we see a decrease in the expected log hours to close out. This may indicate that the police have already anticipated complaints in particular areas and are able to more effectively respond.\n",
      "* Finally, we see that response time is actaully expected to be less in the evenings than in the mornings, but higher in the middle of the night after taking into account other factors. "
     ]
    },
    {
     "cell_type": "markdown",
     "metadata": {},
     "source": [
      "###Testing the Model"
     ]
    },
    {
     "cell_type": "markdown",
     "metadata": {},
     "source": [
      "To test the model's generalizability, I use the dataset that I split out earlier that had observations for noise complaints that had not yet been resolved to see if the model can make reasonable predictions given these various factors."
     ]
    },
    {
     "cell_type": "markdown",
     "metadata": {},
     "source": [
      "#####Set up out-of-sample data"
     ]
    },
    {
     "cell_type": "code",
     "collapsed": false,
     "input": [
      "noise_open['create'] = noise_open['create'].map(lambda x: datetime.strptime(str(x), '%m/%d/%Y %I:%M:%S %p'))\n",
      "noise_open['create_date'] = noise_open['create'].map(lambda y: datetime.date(y))\n",
      "noise_open['create_weekday'] = noise_open['create_date'].map(lambda x: datetime.weekday(x))\n",
      "noise_open['create_hour'] = noise_open['create'].map(lambda z: datetime.time(z).hour)\n",
      "noise_open_use = noise_open.ix[ (noise_open['borough'] != 'Unspecified') ]"
     ],
     "language": "python",
     "metadata": {},
     "outputs": [],
     "prompt_number": 48
    },
    {
     "cell_type": "code",
     "collapsed": false,
     "input": [
      "noise_test = pd.merge(noise_open_use[['type','create_weekday','create_hour','borough','zip']], zip_data[['zip','count']], left_on='zip', right_on='zip', how='left')"
     ],
     "language": "python",
     "metadata": {},
     "outputs": [],
     "prompt_number": 49
    },
    {
     "cell_type": "code",
     "collapsed": false,
     "input": [
      "noise_test['weekend'] = (noise_test['create_weekday'] > 4).astype(int)\n",
      "noise_test = noise_test.join(pd.get_dummies(noise_test.type))\n",
      "noise_test = noise_test.join(pd.get_dummies(noise_test.borough))\n",
      "noise_test = noise_test.join(pd.get_dummies(noise_test.create_weekday))\n",
      "noise_test['create_dy'] = noise_test['create_hour'].map(lambda x: 7 <= x < 17).astype(int)\n",
      "noise_test['create_eg'] = noise_test['create_hour'].map(lambda x: 17 <= x < 23).astype(int)\n",
      "noise_test['create_nt'] = noise_test['create_hour'].map(lambda x: x == 23 or x < 7).astype(int)"
     ],
     "language": "python",
     "metadata": {},
     "outputs": [],
     "prompt_number": 50
    },
    {
     "cell_type": "code",
     "collapsed": false,
     "input": [
      "noise_test.columns"
     ],
     "language": "python",
     "metadata": {},
     "outputs": [
      {
       "metadata": {},
       "output_type": "pyout",
       "prompt_number": 52,
       "text": [
        "Index([u'type', u'create_weekday', u'create_hour', u'borough', u'zip', u'count', u'weekend', u'Noise', u'Noise - Commercial', u'Noise - Helicopter', u'Noise - House of Worship', u'Noise - Park', u'Noise - Street/Sidewalk', u'Noise - Vehicle', u'BRONX', u'BROOKLYN', u'MANHATTAN', u'QUEENS', u'STATEN ISLAND', 0, 1, 2, 3, 4, 5, 6, u'create_dy', u'create_eg', u'create_nt'], dtype='object')"
       ]
      }
     ],
     "prompt_number": 52
    },
    {
     "cell_type": "code",
     "collapsed": false,
     "input": [
      "noise_test = noise_test.rename(columns={'Collection Truck Noise' : 'Truck', \n",
      "                                    'Noise - Commercial' : 'Commercial', \n",
      "                                    'Noise - Helicopter' : 'Helicopter', \n",
      "                                    'Noise - House of Worship' : 'HoW', \n",
      "                                    'Noise - Park' : 'Park', \n",
      "                                    'Noise - Street/Sidewalk' : 'Street', \n",
      "                                    'Noise - Vehicle' : 'Vehicle',  \n",
      "                                    'STATEN ISLAND' : 'SI',\n",
      "                                    0 : 'Monday',\n",
      "                                    1 : 'Tuesday',\n",
      "                                    2 : 'Wednesday',\n",
      "                                    3 : 'Thursday', \n",
      "                                    4 : 'Friday',\n",
      "                                    5 : 'Saturday',\n",
      "                                    6 : 'Sunday',\n",
      "                                    'count' : 'ct_by_zip'})"
     ],
     "language": "python",
     "metadata": {},
     "outputs": [],
     "prompt_number": 53
    },
    {
     "cell_type": "code",
     "collapsed": false,
     "input": [
      "noise_test_use = noise_test.drop(['type','create_weekday','create_hour','borough','zip','MANHATTAN','Sunday','create_dy'], axis=1, inplace=False)\n",
      "noise_test_use['Truck']=0"
     ],
     "language": "python",
     "metadata": {},
     "outputs": [],
     "prompt_number": 61
    },
    {
     "cell_type": "code",
     "collapsed": false,
     "input": [
      "noise_test_X = noise_test_use.dropna(axis=0)"
     ],
     "language": "python",
     "metadata": {},
     "outputs": [],
     "prompt_number": 62
    },
    {
     "cell_type": "markdown",
     "metadata": {},
     "source": [
      "#####Calculate predicted values"
     ]
    },
    {
     "cell_type": "code",
     "collapsed": false,
     "input": [
      "predict_df = pd.DataFrame({'y_pred': log_hr_results.predict(noise_test_X)}).reset_index()"
     ],
     "language": "python",
     "metadata": {},
     "outputs": [],
     "prompt_number": 81
    },
    {
     "cell_type": "code",
     "collapsed": false,
     "input": [
      "noise_test_XY = noise_test_X.join(predict_df['y_pred'])"
     ],
     "language": "python",
     "metadata": {},
     "outputs": [],
     "prompt_number": 82
    },
    {
     "cell_type": "markdown",
     "metadata": {},
     "source": [
      "#####Test values"
     ]
    },
    {
     "cell_type": "code",
     "collapsed": false,
     "input": [
      "import math\n",
      "\n",
      "print 'Estimated close-out time for Helicopter complaint: %i hours' % math.exp(noise_test_XY.ix[ (noise_test_XY['Helicopter'] == 1) ]['y_pred'].mean())"
     ],
     "language": "python",
     "metadata": {},
     "outputs": [
      {
       "output_type": "stream",
       "stream": "stdout",
       "text": [
        "Estimated close-out time for Helicopter complaint: 326 hours\n"
       ]
      }
     ],
     "prompt_number": 89
    },
    {
     "cell_type": "code",
     "collapsed": false,
     "input": [],
     "language": "python",
     "metadata": {},
     "outputs": []
    }
   ],
   "metadata": {}
  }
 ]
}