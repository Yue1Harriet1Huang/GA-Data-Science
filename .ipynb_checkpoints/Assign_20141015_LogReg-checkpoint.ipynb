{
 "metadata": {
  "name": "",
  "signature": "sha256:4e5ed811511d03a9151aa472b0530ca8e2d93998e59853b5179b016a6440bec9"
 },
 "nbformat": 3,
 "nbformat_minor": 0,
 "worksheets": [
  {
   "cells": [
    {
     "cell_type": "heading",
     "level": 1,
     "metadata": {},
     "source": [
      "Logistic Regression: Noise Complaints in NYC"
     ]
    },
    {
     "cell_type": "heading",
     "level": 2,
     "metadata": {},
     "source": [
      "Shirin Hashim"
     ]
    },
    {
     "cell_type": "heading",
     "level": 2,
     "metadata": {},
     "source": [
      "October 15, 2014"
     ]
    },
    {
     "cell_type": "heading",
     "level": 6,
     "metadata": {},
     "source": [
      "Categorical target: Likelihood that a noise complaint is closed out within an hour."
     ]
    },
    {
     "cell_type": "code",
     "collapsed": false,
     "input": [
      "import numpy as np\n",
      "import pandas as pd\n",
      "import matplotlib.pyplot as plt \n",
      "import statsmodels.api as sm\n",
      "import pylab\n",
      "import matplotlib\n",
      "from sklearn import linear_model, datasets"
     ],
     "language": "python",
     "metadata": {},
     "outputs": [],
     "prompt_number": 108
    },
    {
     "cell_type": "heading",
     "level": 6,
     "metadata": {},
     "source": [
      "Subset of NYC OpenData's 311 call data, limited to noise complaints between 3/21/2014 and 9/20/2014."
     ]
    },
    {
     "cell_type": "code",
     "collapsed": false,
     "input": [
      "noise = pd.read_csv(\"/Users/shirinhashim/Dropbox/Columbia/Fall 2014/GA Data Science/311_Noise_Complaints_20140321_through_20140920.csv\")\n",
      "\n",
      "noise.columns.values"
     ],
     "language": "python",
     "metadata": {},
     "outputs": [
      {
       "metadata": {},
       "output_type": "pyout",
       "prompt_number": 68,
       "text": [
        "array(['Unique Key', 'Created Date', 'Closed Date', 'Agency',\n",
        "       'Agency Name', 'Complaint Type', 'Descriptor', 'Location Type',\n",
        "       'Incident Zip', 'Incident Address', 'Street Name', 'Cross Street 1',\n",
        "       'Cross Street 2', 'Intersection Street 1', 'Intersection Street 2',\n",
        "       'Address Type', 'City', 'Landmark', 'Facility Type', 'Status',\n",
        "       'Due Date', 'Resolution Action Updated Date', 'Community Board',\n",
        "       'Borough', 'X Coordinate (State Plane)',\n",
        "       'Y Coordinate (State Plane)', 'Park Facility Name', 'Park Borough',\n",
        "       'School Name', 'School Number', 'School Region', 'School Code',\n",
        "       'School Phone Number', 'School Address', 'School City',\n",
        "       'School State', 'School Zip', 'School Not Found',\n",
        "       'School or Citywide Complaint', 'Vehicle Type',\n",
        "       'Taxi Company Borough', 'Taxi Pick Up Location',\n",
        "       'Bridge Highway Name', 'Bridge Highway Direction', 'Road Ramp',\n",
        "       'Bridge Highway Segment', 'Garage Lot Name', 'Ferry Direction',\n",
        "       'Ferry Terminal Name', 'Latitude', 'Longitude', 'Location'], dtype=object)"
       ]
      }
     ],
     "prompt_number": 68
    },
    {
     "cell_type": "code",
     "collapsed": false,
     "input": [
      "header_row = ['key', 'create', 'close', 'agency', 'agency_name', 'type', 'descriptor', 'loc_type', 'zip', 'address', 'street', 'cross1', \n",
      "              'cross2', 'inter1', 'inter2', 'add_type', 'city', 'landmark', 'fac_type', 'status', 'due_date', 'res_update', 'comm_board',\n",
      "              'borough', 'x_coord', 'y_coord', 'park_name', 'park_borough', 'school_name', 'school_no', 'school_reg', 'school_code',\n",
      "              'school_phone', 'school_add', 'school_city', 'school_state', 'school_zip', 'school_na', 'schl_city_comp', 'car_type',\n",
      "              'taxi_borough', 'taxi_loc', 'bridge_hw_name', 'bridge_hw_dir', 'road_ramp', 'bridge_hw_seg', 'garage_name', 'ferry_dir',\n",
      "              'ferry_name', 'lat', 'long', 'loc',]\n",
      "\n",
      "noise.columns = header_row"
     ],
     "language": "python",
     "metadata": {},
     "outputs": [],
     "prompt_number": 69
    },
    {
     "cell_type": "heading",
     "level": 6,
     "metadata": {},
     "source": [
      "Drop observations where the create or close date is missing"
     ]
    },
    {
     "cell_type": "code",
     "collapsed": false,
     "input": [
      "noise_clean = noise.dropna(subset=['create','close'])"
     ],
     "language": "python",
     "metadata": {},
     "outputs": [],
     "prompt_number": 70
    },
    {
     "cell_type": "code",
     "collapsed": false,
     "input": [
      "from datetime import datetime,date\n",
      "noise_clean['create'] = noise_clean['create'].map(lambda x: datetime.strptime(str(x), '%m/%d/%Y %H:%M'))\n",
      "noise_clean['close'] = noise_clean['close'].map(lambda x: datetime.strptime(str(x), '%m/%d/%Y %H:%M'))"
     ],
     "language": "python",
     "metadata": {},
     "outputs": [],
     "prompt_number": 71
    },
    {
     "cell_type": "heading",
     "level": 6,
     "metadata": {},
     "source": [
      "Create a dummy variable for case closed within an hour (True = Closed in under an hour)"
     ]
    },
    {
     "cell_type": "code",
     "collapsed": false,
     "input": [
      "noise_clean['close_diff'] = noise_clean['close'] - noise_clean['create']\n",
      "noise_clean['close_hrs'] = noise_clean['close_diff'].map(lambda x: x/np.timedelta64(1,'h'))"
     ],
     "language": "python",
     "metadata": {},
     "outputs": [],
     "prompt_number": 72
    },
    {
     "cell_type": "code",
     "collapsed": false,
     "input": [
      "noise_clean['close_1hr'] = (noise_clean['close_hrs'] < 1).astype(int)\n",
      "\n",
      "close_1hr_count = pd.DataFrame({'count' : noise_clean.groupby( [ \"close_1hr\"] ).size()}).reset_index()\n",
      "close_1hr_count"
     ],
     "language": "python",
     "metadata": {},
     "outputs": [
      {
       "html": [
        "<div style=\"max-height:1000px;max-width:1500px;overflow:auto;\">\n",
        "<table border=\"1\" class=\"dataframe\">\n",
        "  <thead>\n",
        "    <tr style=\"text-align: right;\">\n",
        "      <th></th>\n",
        "      <th>close_1hr</th>\n",
        "      <th>count</th>\n",
        "    </tr>\n",
        "  </thead>\n",
        "  <tbody>\n",
        "    <tr>\n",
        "      <th>0</th>\n",
        "      <td> 0</td>\n",
        "      <td> 48516</td>\n",
        "    </tr>\n",
        "    <tr>\n",
        "      <th>1</th>\n",
        "      <td> 1</td>\n",
        "      <td> 18203</td>\n",
        "    </tr>\n",
        "  </tbody>\n",
        "</table>\n",
        "</div>"
       ],
       "metadata": {},
       "output_type": "pyout",
       "prompt_number": 88,
       "text": [
        "   close_1hr  count\n",
        "0          0  48516\n",
        "1          1  18203"
       ]
      }
     ],
     "prompt_number": 88
    },
    {
     "cell_type": "heading",
     "level": 6,
     "metadata": {},
     "source": [
      "Format additional variables for model"
     ]
    },
    {
     "cell_type": "code",
     "collapsed": false,
     "input": [
      "#Binary for weekend=true\n",
      "noise_clean['create_wkd_number'] = noise_clean['create'].map(lambda x: datetime.weekday(x))\n",
      "\n",
      "noise_clean['create_weekend'] = (noise_clean['create_wkd_number'] > 4).astype(int)"
     ],
     "language": "python",
     "metadata": {},
     "outputs": [],
     "prompt_number": 74
    },
    {
     "cell_type": "code",
     "collapsed": false,
     "input": [
      "#Binaries for each of the boroughs\n",
      "noise_clean['borough_clean'] = ['STATEN ISLAND' if x == 'Unspecified' else x for x in noise_clean['borough']]\n",
      "noise_clean.rename(columns={'STATEN ISLAND':'STATEN_ISLAND'}, inplace=True)\n",
      "\n",
      "dummy_df=pd.get_dummies(noise_clean['borough_clean'])\n",
      "\n",
      "noise_clean = pd.merge(noise_clean, dummy_df, how='left',left_index=True, right_index=True)"
     ],
     "language": "python",
     "metadata": {},
     "outputs": [],
     "prompt_number": 75
    },
    {
     "cell_type": "code",
     "collapsed": false,
     "input": [
      "#Binaries for time of the day: day (7am-5pm), evening (5pm-11pm), night (11pm-7am)\n",
      "\n",
      "noise_clean['create_hr'] = noise_clean['create'].map(lambda y: datetime.time(y).hour)\n",
      "\n",
      "noise_clean['create_dy'] = noise_clean['create_hr'].map(lambda x: 7 <= x < 17).astype(int)\n",
      "noise_clean['create_eg'] = noise_clean['create_hr'].map(lambda x: 17 <= x < 23).astype(int)\n",
      "noise_clean['create_nt'] = noise_clean['create_hr'].map(lambda x: x == 23 or x < 7).astype(int)"
     ],
     "language": "python",
     "metadata": {},
     "outputs": [],
     "prompt_number": 76
    },
    {
     "cell_type": "heading",
     "level": 6,
     "metadata": {},
     "source": [
      "Run logistic regression"
     ]
    },
    {
     "cell_type": "markdown",
     "metadata": {},
     "source": [
      "Hypothesis: Less likely that a noise complaint is closed out in an hour if it is a weekend versus not a weekend; less likely that a noise complaint is closed out in an hour if in a borough other than Manhattan; more likely that a noise complaint is closed out in an hour if it occurs during the day or in the evening rather than at night."
     ]
    },
    {
     "cell_type": "code",
     "collapsed": false,
     "input": [
      "noise_close_mod = sm.formula.logit(\"close_1hr ~ create_weekend + BROOKLYN + STATEN_ISLAND + BRONX + QUEENS + create_dy + create_eg\",noise_clean).fit(disp=0)\n",
      "\n",
      "print(noise_close_mod.summary())"
     ],
     "language": "python",
     "metadata": {},
     "outputs": [
      {
       "output_type": "stream",
       "stream": "stdout",
       "text": [
        "                           Logit Regression Results                           \n",
        "==============================================================================\n",
        "Dep. Variable:              close_1hr   No. Observations:                66719\n",
        "Model:                          Logit   Df Residuals:                    66711\n",
        "Method:                           MLE   Df Model:                            7\n",
        "Date:                Wed, 15 Oct 2014   Pseudo R-squ.:                 0.02916\n",
        "Time:                        20:18:37   Log-Likelihood:                -37961.\n",
        "converged:                       True   LL-Null:                       -39101.\n",
        "                                        LLR p-value:                     0.000\n",
        "==================================================================================\n",
        "                     coef    std err          z      P>|z|      [95.0% Conf. Int.]\n",
        "----------------------------------------------------------------------------------\n",
        "Intercept         -0.7460      0.019    -39.489      0.000        -0.783    -0.709\n",
        "create_weekend     0.2257      0.018     12.711      0.000         0.191     0.260\n",
        "BROOKLYN          -0.4008      0.021    -19.037      0.000        -0.442    -0.360\n",
        "STATEN_ISLAND     -0.6348      0.061    -10.492      0.000        -0.753    -0.516\n",
        "BRONX             -1.1852      0.032    -36.908      0.000        -1.248    -1.122\n",
        "QUEENS            -0.4770      0.026    -18.030      0.000        -0.529    -0.425\n",
        "create_dy         -0.3665      0.025    -14.459      0.000        -0.416    -0.317\n",
        "create_eg          0.1913      0.019      9.821      0.000         0.153     0.229\n",
        "==================================================================================\n"
       ]
      }
     ],
     "prompt_number": 106
    },
    {
     "cell_type": "markdown",
     "metadata": {},
     "source": [
      "Actual: More likely that noise complaint is closed out on the weekend rather than weekday; Less likely that a noise complaint is closed out in the morning than at night (this might be explained by type of complaint - think about adding this to the model)."
     ]
    }
   ],
   "metadata": {}
  }
 ]
}