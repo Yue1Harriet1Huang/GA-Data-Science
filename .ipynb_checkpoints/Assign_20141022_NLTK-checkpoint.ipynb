{
 "metadata": {
  "name": "",
  "signature": "sha256:16af0e2e44a1f4a2aa530f715a4bb2ef16c11849e8fe1cbe966dbac65f7352d8"
 },
 "nbformat": 3,
 "nbformat_minor": 0,
 "worksheets": [
  {
   "cells": [
    {
     "cell_type": "markdown",
     "metadata": {},
     "source": [
      "# Assignment: Natural Language Processing\n",
      "## Shirin Hashim\n",
      "## October 22, 2014"
     ]
    },
    {
     "cell_type": "markdown",
     "metadata": {},
     "source": [
      "#### Get data - Twitter API"
     ]
    },
    {
     "cell_type": "code",
     "collapsed": false,
     "input": [
      "%matplotlib inline\n",
      "import json\n",
      "\n",
      "import requests\n",
      "import sklearn\n",
      "import pandas as pd\n",
      "import numpy as np\n",
      "import matplotlib.pyplot as plt\n",
      "import nltk\n",
      "\n",
      "from __future__ import division\n",
      "from twitter import *\n",
      "\n",
      "pd.set_option('display.width', 500)\n",
      "pd.set_option('display.max_columns', 30)"
     ],
     "language": "python",
     "metadata": {},
     "outputs": [],
     "prompt_number": 12
    },
    {
     "cell_type": "code",
     "collapsed": false,
     "input": [
      "t = Twitter(\n",
      "    auth=OAuth(\n",
      "        token='514766394-lSFZUi4xAQ3G9ydcxJYrr9mhUvR3BGnxawjNpdW1',\n",
      "        token_secret='nHdMAaAB2NqaxD6pqpVC3Qv38wwqFFTsCLEmiNrZqh5S3',\n",
      "        consumer_key='oAiXwPKcIIG8h4nRMYzxrTap6',\n",
      "        consumer_secret='tXtSY7IUE33JaekSDfwLIg9gRzN5tgFiIU6R5spz9wh0VZY6ws')\n",
      "    )\n",
      "\n",
      "hashtags=[\n",
      "    u'hongkong',\n",
      "    u'occupycentral',\n",
      "    u'umbrellarevolution',\n",
      "    u'china',\n",
      "    u'hk',\n",
      "    u'admiralty',\n",
      "    u'occupyhk',\n",
      "]\n",
      "\n",
      "all_results = []\n",
      "for hashtag in hashtags:\n",
      "    results = t.search.tweets(q='#'+hashtag, count=100, result_type='mixed')\n",
      "    for r in results['statuses']:\n",
      "        try:\n",
      "            clean_tweet = unicode(r['text']).encode('utf-8').replace('\\n', ' ').replace('\\r', ' ').replace('\"', \"'\")\n",
      "            print u','.join([unicode(r['id']),'\"'+clean_tweet+'\"', '\"'+hashtag+'\"'])\n",
      "        except UnicodeDecodeError:\n",
      "            pass"
     ],
     "language": "python",
     "metadata": {},
     "outputs": [
      {
       "output_type": "stream",
       "stream": "stdout",
       "text": [
        "526613745825374209,\"A poster made by #HongKong protesters shows a manipulated photo of Chinese President Xi Jinping holding an umbrella http://t.co/Iwsusipv3s\",\"hongkong\"\n",
        "526875787879018496,\"At http://t.co/KuF1hYUapw -- #Yeah #Baby #18th #China #HK #HongKong  #Birthday #Party #eighteen #adult #lad #br... http://t.co/NqjetjfQ1e\",\"hongkong\"\n",
        "526875662691627008,\"RT @GoAwesomePlaces: The Top 20 Hong Kong Restaurant Must Eat List   http://t.co/qE21DA3GsN  #HongKong #foodie #ttot #travel\",\"hongkong\"\n",
        "526875418910285824,\"Only #HongKong Teams left to report their scores @philco9\",\"hongkong\"\n",
        "526874844172787712,\"RT @hongkong_agent: Student leader Alex Chow tells he copes with parental pressure http://t.co/P7aUjuYyVH #hongkong\",\"hongkong\"\n",
        "526874811947954176,\"Over 115K in the GazaStrip urgently need food after 2 weeks of fighting... http://t.co/rGAdowdq3y #Child #Hongkong #TFB #FF\",\"hongkong\"\n",
        "526874765789642752,\"Inventory Control and Shipping Coordinator http://t.co/dLqzTp57OL #HongKong #News\",\"hongkong\"\n",
        "526874097175646208,\"American fights with Kurds against ISIS http://t.co/XXOuoeutPj #HongKong #News\",\"hongkong\"\n",
        "526874093597900802,\"CNN Student News - 10/28/14 http://t.co/K9p9l3Dewh #HongKong #News\",\"hongkong\"\n",
        "526874089743343618,\"Legal cases building against Graham suspect http://t.co/VPFu8XdbD1 #HongKong #News\",\"hongkong\"\n",
        "526874086102683650,\"Don't 'lock up' people who worked with Ebola http://t.co/7vP7iY9Z4y #HongKong #News\",\"hongkong\"\n",
        "526874082789167105,\"Markets react to Brazil election http://t.co/7FgOC4jBRn #HongKong #News\",\"hongkong\"\n",
        "526874079224033281,\"James.Glassman.discusses.ISIS http://t.co/N1ZNyHLLFt #HongKong #News\",\"hongkong\"\n",
        "526874075654676480,\"A doctor's take on Ebola quarantines http://t.co/4U1JXENVZl #HongKong #News\",\"hongkong\"\n",
        "526873704060297216,\"The Top 20 Hong Kong Restaurant Must Eat List   http://t.co/qE21DA3GsN  #HongKong #foodie #ttot #travel\",\"hongkong\"\n",
        "526873554319835136,\"Good #morning! Looking for #mens #fashion #tips? Our #style guru is here to help you get #dressed. http://t.co/1va34JnBbz #HongKong\",\"hongkong\"\n",
        "526873046879961089,\"RT @xolaarts: Everyone loves Free Hong Kong!  #HongKong #UmbrellaRevolution http://t.co/8uychZGqJy\",\"hongkong\"\n",
        "526873041871990787,\"Read one Indonesian maid's tale as she tries to put her life back together after a horrific crime in #HongKong http://t.co/sRof3UZf4h\",\"hongkong\"\n",
        "526872178898513923,\"#HongKong   welcome merci pour les news i love you\",\"hongkong\"\n",
        "526871864359280641,\"Finally ready to fly! #UpInTheAir #HongKong http://t.co/IK674sSVpq\",\"hongkong\"\n",
        "526871700764237825,\"First leg of the trip done. #HongKong Waiting for our last flight to Japan. #MaoriABs http://t.co/U2n8Yd9uOw\",\"hongkong\"\n",
        "526871382227824640,\"RT @hkdemonow: Hope for #HongKong by Chris Patten via @ProSyn #oped http://t.co/yZaDuvEVBd via @po_st #umbrellarevolution #occupyhk\",\"hongkong\"\n",
        "526871162085998594,\"#HongKong #KaiTak Historic Airport  http://t.co/arrivUK0aS via @youtube\",\"hongkong\"\n",
        "526871023367372800,\"Hong Kong Readies for Protester Vote   http://t.co/MISfKkhGBS   #hongkong #hongkongprotesters\",\"hongkong\"\n",
        "526870219654840320,\"RT @xolaarts: Everyone loves Free Hong Kong!  #HongKong #UmbrellaRevolution http://t.co/8uychZGqJy\",\"hongkong\"\n",
        "526870060045189121,\"We're at the Hong Kong International Lighting Fair Autumn Edition... We'd love to meet you! So great to be here!! #customlighting #HongKong\",\"hongkong\"\n",
        "526870044945690625,\"RT @hkdemonow: Hope for #HongKong by Chris Patten via @ProSyn #oped http://t.co/yZaDuvEVBd via @po_st #umbrellarevolution #occupyhk\",\"hongkong\"\n",
        "526869978654707712,\"Arrestan a manifestantes de #HongKong por usar redes sociales para organizarse  @LaGranEpoca  http://t.co/wMJMs7UYuy http://t.co/BmCJCdgtAK\",\"hongkong\"\n",
        "526869606083088384,\"#HongKong Cultural Center. http://t.co/WFPtYUwCNg\",\"hongkong\"\n",
        "526869006087901184,\"RT @SagiOrli: Skyline #HongKong http://t.co/jnXWTYc8lP\",\"hongkong\"\n",
        "526868746401349635,\"#hongkong #china in 2 days! so excited! :D\",\"hongkong\"\n",
        "526868507741274113,\"Over 115K in the GazaStrip urgently need food after 2 weeks of fighting... http://t.co/F8q7s1O5jm #China #FF #Hongkong\",\"hongkong\"\n",
        "526868502481993728,\"@afpfr #HongKong\",\"hongkong\"\n",
        "526868491102474240,\"Hong Kong Readies for Protester Vote   http://t.co/7RCahUEgxd   #hongkong #hongkongprotesters http://t.co/T5QWvhDxdT\",\"hongkong\"\n",
        "526868287057981440,\"RT @SagiOrli: Skyline #HongKong http://t.co/jnXWTYc8lP\",\"hongkong\"\n",
        "526868212148109314,\"RT @SagiOrli: Skyline #HongKong http://t.co/jnXWTYc8lP\",\"hongkong\"\n",
        "526868136188866561,\"Skyline #HongKong http://t.co/jnXWTYc8lP\",\"hongkong\"\n",
        "526867873785184257,\"#HongKong #ferry #central http://t.co/zoNC7ntIGQ\",\"hongkong\"\n",
        "526867547853840384,\"@taliaualiitia Here is another panda pic from #hongkong http://t.co/x0uWtCewBk\",\"hongkong\"\n",
        "526867403620098048,\"Hi @taliaualiitia here are some panda pictures I took this week in #hongkong especially for you! :-) http://t.co/9WBuz1t8u9\",\"hongkong\"\n",
        "526867003311529984,\"Poor Paolo! Sip some warm honey or as the #HongKong doctors say 'drink more warm water'! #medicaldegree #rest #nutini http://t.co/sX1a1pidvv\",\"hongkong\"\n",
        "526866967589044224,\"'Without #democracy, there can be no justice.' Cantonese and Subversion in the #UmbrellaRevolution http://t.co/GOlNpfDBPX #hongkong\",\"hongkong\"\n",
        "526866856632934400,\"RT @hkdemonow: Hope for #HongKong by Chris Patten via @ProSyn #oped http://t.co/yZaDuvEVBd via @po_st #umbrellarevolution #occupyhk\",\"hongkong\"\n",
        "526866766618574848,\"week 4 in the best city in the world. thanks for sharing daniel. and great music! http://t.co/JtUGhkXkeF #hongkong #solotravel #composer\",\"hongkong\"\n",
        "526435909470654465,\"Someone pretended to be soccer star C Ronaldo. Signed on anti #OccupyCentral petition. LOL Got approved #RobertChow http://t.co/XU3HZ0eidH\",\"occupycentral\""
       ]
      },
      {
       "output_type": "stream",
       "stream": "stdout",
       "text": [
        "\n",
        "526519381766209536,\"BREAKING: China's Xinhua made up story, criticizing #OccupyCentral NOT Anti-OC protesters who attached HK journalists http://t.co/dARM3K7dFM\",\"occupycentral\"\n",
        "526377065306529793,\"Admiralty 10:15pm. #OccupyCentral http://t.co/dZH98W2cpz\",\"occupycentral\"\n",
        "526875383195377665,\"RT @kahumphrey: #UmbrellaRevolution sticker spotted on a gate along the East Side Gallery, Berlin #OccupyCentral http://t.co/OXWfRoG9RQ\",\"occupycentral\"\n",
        "526875110322356224,\"RT @george_chen: Op-Ed @SCMP_News: Hongkongers look in vain for the leadership they need http://t.co/sKuoClYcKd #OccupyCentral\",\"occupycentral\"\n",
        "526874677046554624,\"RT @vickywong710: Nathan Law just made a joke about the Alex Chow/Lester Shum ship #OccupyCentral #OccupyHongKong #jmsc\",\"occupycentral\"\n",
        "526873638381707264,\"RT @freakingcat: That's for you and your greed Kenny G #OccupyCentral #UmbrellaRevolution http://t.co/QqxbVeATk6\",\"occupycentral\"\n",
        "526872580196540416,\"Good Grief! Under what circumstances did the HK Govt think they would need so much tear gas? http://t.co/RkNKLNPGrP #OccupyCentral\",\"occupycentral\"\n",
        "526871628488011776,\"An @nytimes editorial ab/ comparing Hong Kong's #OccupyCentral to US' #occupywallstreet http://t.co/01rc3YTf1Q\",\"occupycentral\"\n",
        "526871377509638144,\"RT @top_president: Message Xi Jinping now https://t.co/Jprq5mLRzb #HK #OccupyCentral #OccupyHK http://t.co/mzqvy9HlJn\",\"occupycentral\"\n",
        "526870903334785024,\"@PhelimKine How about others also made to make less by his act? #OccupyCentral makes people inconsiderate.\",\"occupycentral\"\n",
        "526870583967899649,\"RT @george_chen: Op-Ed @SCMP_News: Hongkongers look in vain for the leadership they need http://t.co/sKuoClYcKd #OccupyCentral\",\"occupycentral\"\n",
        "526870062238408704,\"RT @kahumphrey: #UmbrellaRevolution sticker spotted on a gate along the East Side Gallery, Berlin #OccupyCentral http://t.co/OXWfRoG9RQ\",\"occupycentral\"\n",
        "526869751205605376,\"@carolineyu10 A number of homeless, jobless and drug addicts are attracted by the free food and shelters provided by #OccupyCentral\",\"occupycentral\"\n",
        "526869210886971394,\"Op-Ed @SCMP_News: Hongkongers look in vain for the leadership they need http://t.co/sKuoClYcKd #OccupyCentral\",\"occupycentral\"\n",
        "526867627965444096,\"RT @kahumphrey: #UmbrellaRevolution sticker spotted on a gate along the East Side Gallery, Berlin #OccupyCentral http://t.co/OXWfRoG9RQ\",\"occupycentral\"\n",
        "526866722243248128,\"Jackie Chan no friend Hong Kong protesters. via /r/news http://t.co/G6AwAhIKfs #Occupycentral #HK #Mongkok #CWB via @boniemylurv\",\"occupycentral\"\n",
        "526866050064060416,\"RT @kahumphrey: #UmbrellaRevolution sticker spotted on a gate along the East Side Gallery, Berlin #OccupyCentral http://t.co/MdEwrSV7qp\",\"occupycentral\"\n",
        "526865531228274688,\"RT @kahumphrey: #UmbrellaRevolution sticker spotted on a gate along the East Side Gallery, Berlin #OccupyCentral http://t.co/OXWfRoG9RQ\",\"occupycentral\"\n",
        "526865244552200192,\"RT @KasieInCtown: Cutest duet abt the #UmbrellaMovement experience (#Cantonese) http://t.co/WoCS1hzGAK #OccupyCentral\",\"occupycentral\"\n",
        "526864345595400193,\"RT @JoeRangzen: Inspired by #OccupyCentral #occupyhongkong #UmbrellaRevolution  The #YellowUmbrella !  https://t.co/1vCFGRTvS7\",\"occupycentral\"\n",
        "526862415447986177,\"RT @wilfredchan: Admiralty 10:15pm. #OccupyCentral http://t.co/dZH98W2cpz\",\"occupycentral\"\n",
        "526861201356365825,\"RT @tehsg: #OccupyCentral Happening now in Malaysia. student movement - http://t.co/niOceYx80e http://t.co/Wz4bu0gBMK\",\"occupycentral\"\n",
        "526860777278689283,\"RT @kahumphrey: #UmbrellaRevolution sticker spotted on a gate along the East Side Gallery, Berlin #OccupyCentral http://t.co/OXWfRoG9RQ\",\"occupycentral\"\n",
        "526859934760067072,\"Cutest duet abt the #UmbrellaMovement experience (#Cantonese) http://t.co/WoCS1hzGAK #OccupyCentral\",\"occupycentral\"\n",
        "526859661988077569,\"RT @JoeRangzen: Inspired by #OccupyCentral #occupyhongkong #UmbrellaRevolution  The #YellowUmbrella !  https://t.co/1vCFGRTvS7\",\"occupycentral\"\n",
        "526859639947010048,\"RT @kahumphrey: #UmbrellaRevolution sticker spotted on a gate along the East Side Gallery, Berlin #OccupyCentral http://t.co/OXWfRoG9RQ\",\"occupycentral\"\n",
        "526875383195377665,\"RT @kahumphrey: #UmbrellaRevolution sticker spotted on a gate along the East Side Gallery, Berlin #OccupyCentral http://t.co/OXWfRoG9RQ\",\"umbrellarevolution\""
       ]
      },
      {
       "output_type": "stream",
       "stream": "stdout",
       "text": [
        "\n",
        "526873638381707264,\"RT @freakingcat: That's for you and your greed Kenny G #OccupyCentral #UmbrellaRevolution http://t.co/QqxbVeATk6\",\"umbrellarevolution\"\n",
        "526873046879961089,\"RT @xolaarts: Everyone loves Free Hong Kong!  #HongKong #UmbrellaRevolution http://t.co/8uychZGqJy\",\"umbrellarevolution\"\n",
        "526871382227824640,\"RT @hkdemonow: Hope for #HongKong by Chris Patten via @ProSyn #oped http://t.co/yZaDuvEVBd via @po_st #umbrellarevolution #occupyhk\",\"umbrellarevolution\"\n",
        "526870219654840320,\"RT @xolaarts: Everyone loves Free Hong Kong!  #HongKong #UmbrellaRevolution http://t.co/8uychZGqJy\",\"umbrellarevolution\"\n",
        "526870062238408704,\"RT @kahumphrey: #UmbrellaRevolution sticker spotted on a gate along the East Side Gallery, Berlin #OccupyCentral http://t.co/OXWfRoG9RQ\",\"umbrellarevolution\"\n",
        "526870044945690625,\"RT @hkdemonow: Hope for #HongKong by Chris Patten via @ProSyn #oped http://t.co/yZaDuvEVBd via @po_st #umbrellarevolution #occupyhk\",\"umbrellarevolution\"\n",
        "526869399232184320,\"The three battlefields.  #UmbrellaRevolution #UmbrellaMovement #OccupyHongKong #hkdemocracy #hkstudentstrike http://t.co/5jFMprHckB\",\"umbrellarevolution\"\n",
        "526867627965444096,\"RT @kahumphrey: #UmbrellaRevolution sticker spotted on a gate along the East Side Gallery, Berlin #OccupyCentral http://t.co/OXWfRoG9RQ\",\"umbrellarevolution\"\n",
        "526866967589044224,\"'Without #democracy, there can be no justice.' Cantonese and Subversion in the #UmbrellaRevolution http://t.co/GOlNpfDBPX #hongkong\",\"umbrellarevolution\"\n",
        "526866856632934400,\"RT @hkdemonow: Hope for #HongKong by Chris Patten via @ProSyn #oped http://t.co/yZaDuvEVBd via @po_st #umbrellarevolution #occupyhk\",\"umbrellarevolution\"\n",
        "526866050064060416,\"RT @kahumphrey: #UmbrellaRevolution sticker spotted on a gate along the East Side Gallery, Berlin #OccupyCentral http://t.co/MdEwrSV7qp\",\"umbrellarevolution\"\n",
        "526865944258555904,\"+1 RT @xolaarts: Everyone loves Free Hong Kong!  #HongKong #UmbrellaRevolution http://t.co/oyQ3Qn8Aix\",\"umbrellarevolution\"\n",
        "526865531228274688,\"RT @kahumphrey: #UmbrellaRevolution sticker spotted on a gate along the East Side Gallery, Berlin #OccupyCentral http://t.co/OXWfRoG9RQ\",\"umbrellarevolution\"\n",
        "526865344628260864,\"RT @hkdemonow: Hope for #HongKong by Chris Patten via @ProSyn #oped http://t.co/yZaDuvEVBd via @po_st #umbrellarevolution #occupyhk\",\"umbrellarevolution\"\n",
        "526864345595400193,\"RT @JoeRangzen: Inspired by #OccupyCentral #occupyhongkong #UmbrellaRevolution  The #YellowUmbrella !  https://t.co/1vCFGRTvS7\",\"umbrellarevolution\"\n",
        "526862186812301313,\"Good morning, #UmbrellaRevolution #OccupyHK! :) #Sunrise 06:25, noon 12:07, sunset 17:49 HKT (UTC+8), October 28. Day length: 11h 24m.\",\"umbrellarevolution\"\n",
        "526862043706425345,\"RT @hkdemonow: Hope for #HongKong by Chris Patten via @ProSyn #oped http://t.co/yZaDuvEVBd via @po_st #umbrellarevolution #occupyhk\",\"umbrellarevolution\"\n",
        "526861133991673857,\"#UmbrellaRevolution #UmbrellaMovement http://t.co/O6pcsDFXXF\",\"umbrellarevolution\"\n",
        "526861050025492480,\"#umbrellarevolution #hongkong http://t.co/5nfWmjzrNg\",\"umbrellarevolution\"\n",
        "526860866080100352,\"Hope for #HongKong by Chris Patten via @ProSyn #oped http://t.co/yZaDuvEVBd via @po_st #umbrellarevolution #occupyhk\",\"umbrellarevolution\"\n",
        "526860777278689283,\"RT @kahumphrey: #UmbrellaRevolution sticker spotted on a gate along the East Side Gallery, Berlin #OccupyCentral http://t.co/OXWfRoG9RQ\",\"umbrellarevolution\"\n",
        "526860755996790784,\"RT @xolaarts: Everyone loves Free Hong Kong!  #HongKong #UmbrellaRevolution http://t.co/8uychZGqJy\",\"umbrellarevolution\"\n",
        "526860698706382849,\"RT @xolaarts: Everyone loves Free Hong Kong!  #HongKong #UmbrellaRevolution http://t.co/8uychZGqJy\",\"umbrellarevolution\"\n",
        "526859777184636928,\"RT @nagoul1: #HongKong protesters to hold street vote on next steps: http://t.co/9ooYzMYguP l #HK #OccupyHK #UmbrellaRevolution\",\"umbrellarevolution\"\n",
        "526859661988077569,\"RT @JoeRangzen: Inspired by #OccupyCentral #occupyhongkong #UmbrellaRevolution  The #YellowUmbrella !  https://t.co/1vCFGRTvS7\",\"umbrellarevolution\"\n",
        "526859640882335745,\"RT @xolaarts: Everyone loves Free Hong Kong!  #HongKong #UmbrellaRevolution http://t.co/8uychZGqJy\",\"umbrellarevolution\"\n",
        "526859639947010048,\"RT @kahumphrey: #UmbrellaRevolution sticker spotted on a gate along the East Side Gallery, Berlin #OccupyCentral http://t.co/OXWfRoG9RQ\",\"umbrellarevolution\"\n",
        "526858532251918336,\"Everyone loves Free Hong Kong!  #HongKong #UmbrellaRevolution http://t.co/8uychZGqJy\",\"umbrellarevolution\"\n",
        "526858275946369024,\"RT @kahumphrey: #UmbrellaRevolution sticker spotted on a gate along the East Side Gallery, Berlin #OccupyCentral http://t.co/OXWfRoG9RQ\",\"umbrellarevolution\"\n",
        "526858141405683714,\"RT @JoeRangzen: Inspired by #OccupyCentral #occupyhongkong #UmbrellaRevolution  The #YellowUmbrella !  https://t.co/1vCFGRTvS7\",\"umbrellarevolution\"\n",
        "526857659924750336,\"Social media is making history as consumers of media are now producers too. Particulary relevant #UmbrellaRevolution  http://t.co/mmFHcb2Y61\",\"umbrellarevolution\"\n",
        "526857310807674880,\"RT @adriifern: #UmbrellaMovement #UmbrellaRevolution #geohotspot http://t.co/ugYDUnQEWu\",\"umbrellarevolution\"\n",
        "526856761127759873,\"Hope for Hong Kong by Chris Patten - Project Syndicate  http://t.co/5eyWhydX8u #sensible #UmbrellaMovement #UmbrellaRevolution #HKFS\",\"umbrellarevolution\"\n",
        "526856015590215680,\"RT @adriifern: #UmbrellaMovement #UmbrellaRevolution #geohotspot http://t.co/ugYDUnQEWu\",\"umbrellarevolution\"\n",
        "526855833259606016,\"Hong Kong Rising | VICE News | VICE http://t.co/BO00vdBDOl via @VICE #occupyhongkong #UmbrellaRevolution\",\"umbrellarevolution\"\n",
        "526855110622990337,\"RT @nagoul1: #HongKong protesters to hold street vote on next steps: http://t.co/9ooYzMYguP l #HK #OccupyHK #UmbrellaRevolution\",\"umbrellarevolution\"\n",
        "526853773650853889,\"#HongKong protesters to hold street vote on next steps: http://t.co/9ooYzMYguP l #HK #OccupyHK #UmbrellaRevolution\",\"umbrellarevolution\"\n",
        "526852550096867329,\"RT @JoeRangzen: Inspired by #OccupyCentral #occupyhongkong #UmbrellaRevolution  The #YellowUmbrella !  https://t.co/1vCFGRTvS7\",\"umbrellarevolution\"\n",
        "526852420241227780,\"RT @JoeRangzen: Inspired by #OccupyCentral #occupyhongkong #UmbrellaRevolution  The #YellowUmbrella !  https://t.co/1vCFGRTvS7\",\"umbrellarevolution\"\n",
        "526851072665862144,\"RT @kahumphrey: #UmbrellaRevolution sticker spotted on a gate along the East Side Gallery, Berlin #OccupyCentral http://t.co/OXWfRoG9RQ\",\"umbrellarevolution\"\n",
        "526849464896847873,\"Inspired by #OccupyCentral #occupyhongkong #UmbrellaRevolution  The #YellowUmbrella !  https://t.co/1vCFGRTvS7\",\"umbrellarevolution\"\n",
        "526846818660126721,\"#UmbrellaRevolution sticker spotted on a gate along the East Side Gallery, Berlin #OccupyCentral http://t.co/OXWfRoG9RQ\",\"umbrellarevolution\"\n",
        "526846814511964160,\"RT @PRHacks: #Anonymous sleeping in #OccupyHK.  #UmbrellaRevolution #OpHongKong http://t.co/4BBqx56KjF\",\"umbrellarevolution\"\n",
        "526845980399116288,\"Doubts over anti-Occupy petition authenticity #OccupyHK #OccupyCentral #UmbrellaRevolution #UmbrellaMovement   http://t.co/cIsoqR3iBt\",\"umbrellarevolution\"\n",
        "526600607789244416,\"When in #China, do not take drugs and go whoring. There, you've been told! ;) photo via @_youhadonejob http://t.co/Uj04Kc3c2Q\",\"china\""
       ]
      },
      {
       "output_type": "stream",
       "stream": "stdout",
       "text": [
        "\n",
        "526540307504984064,\"About a quarter of #expats in #China make more than $300,000/yr @YouGov @sophia_yan http://t.co/iVXaBZ9jXe http://t.co/k26Zp4lc7w\",\"china\"\n",
        "526876084550533121,\"RT @AmazingGems: #Vintage #Royal Albert #China Purple #Violet #Cup &amp; Saucer  by JustSparkles http://t.co/ioebBSP18R via @Etsy\",\"china\"\n",
        "526876017768419329,\"ICYMI: #China isn't alone in #LatinAmerica. Japan in getting in on regional affairs.  http://t.co/gpvHfluFJa   #Politics #Economics #Trade\",\"china\"\n",
        "526875983307997187,\"RT @clint_jasper: One of Australia's biggest #citrus exporters has had a tough time in #China this year.  http://t.co/v1BcTTtib9\",\"china\"\n",
        "526875914286936064,\"Dry critique of 40 year influence of arms race policy wonks at #Pentagon from @ArmsControlWonk. What next? #China http://t.co/vnqZzM2p8z\",\"china\"\n",
        "526875787879018496,\"At http://t.co/KuF1hYUapw -- #Yeah #Baby #18th #China #HK #HongKong  #Birthday #Party #eighteen #adult #lad #br... http://t.co/NqjetjfQ1e\",\"china\"\n",
        "526875717532155904,\"Dozens of Chassdic businessmen currently at #CantonFair in #CHINA during morning prayer cc @joeberg @rachael_levy http://t.co/3fi9HiThAu\",\"china\"\n",
        "526875679925608448,\"New #Afghan president Ashraf Ghani heads to #China to discuss #Mining http://t.co/lwcrRNJs5c via @SCMP_News #mesaynak #Afghanistan\",\"china\"\n",
        "526875591148961792,\"#Corporate #Convoy from #China - Wake up America! - http://t.co/wABPTcb7Uv http://t.co/AuyoCEHNHi\",\"china\"\n",
        "526875508529983488,\"G'day, very nice #proxy from #China: https://t.co/kYEhcItRq6\",\"china\"\n",
        "526875388912234497,\"Thailand - $23 billion trains to China; will they really roll? http://t.co/brbnUumIl2 #china #thailand #train #thaicoup #bangkok\",\"china\"\n",
        "526875290039898113,\"#Ebola outbreak will hit #China, virus pioneer Peter Piot warns http://t.co/O0R0kBtyQ1 via @SCMP_News #health\",\"china\"\n",
        "526874967326334976,\"#RMB #Investor, everything you want to know on #Renminbi, #China! http://t.co/yiihA55FBm .\",\"china\"\n",
        "526874925081309185,\"Chinese President demands better think tanks in #China. http://t.co/AgAmyMf1XF #thinktanks\",\"china\"\n",
        "526874915052736512,\"Company Credit Report #China without any searching and #database skills #rating #asia #financials http://t.co/NSH5BtsXHp\",\"china\"\n",
        "526874712173846528,\"Playing dress-up with your food: http://t.co/Untf23tbKg #china #uighur #notvegetarian http://t.co/imyKkmMw4G\",\"china\"\n",
        "526874495672274944,\"#Crisis 6 Killed, 5 Hurt in Road #Accident in Northeast #China - 20:52 UTC - View geolocation: http://t.co/SfoYCypk8c\",\"china\"\n",
        "526874377875243010,\"http://t.co/xKi7TpjAI7 #Vintage #VERSACE Tortoise #Gold Glasses #New Old Stock #ferrari #cartier #prada #miumiu #china #tokyo\",\"china\"\n",
        "526873930637008899,\"#entrance to #chinatown in #london ! #iloveit !  #soho #china #ilovelondon #instalondon #england #greatbrittain #... http://t.co/0bYM1Ux8co\",\"china\"\n",
        "526873723215699968,\"International #Lithium Presentation September 2014 http://t.co/PRC74s4Dt5 #EVs #green #climate #China\",\"china\"\n",
        "526873618651701250,\"#China has announced the war on pollution, electric cars are at the forefront of the battle. http://t.co/NNJxBYtkO1 http://t.co/UuNIKv8mga\",\"china\"\n",
        "526873582740467712,\"#China &gt;&lt;&gt;&lt; #Expat InterNations #socialmedia.. #chinaready  #itsfree to join . . #Expatife #checkitout http://t.co/ofUu2VM16J\",\"china\"\n",
        "526873430772039680,\"#Cleantech firms operating in the #cleanwater sector - Register now for our #China #trademission! http://t.co/BpMiB5Jxfh #water #wastewater\",\"china\"\n",
        "526873303445929986,\"Sin dudas lo mejor del modelo fue hacer que se vayan Australia y Nueva Zelanda del bloque #CHINA # RUSIA Asamblea general #Aliados jajajaja\",\"china\"\n",
        "526873183840788480,\"5 Reasons To Teach English in China - check out our GP via @travelpulse http://t.co/xICy3q44Ws #esl #travel #china #teachingenglish\",\"china\"\n",
        "526873166488956928,\"@AddedValueGroup report sees 'significant growth potential' for #luxury brands with Chinese origin #mrx #china http://t.co/805OLWMslO\",\"china\"\n",
        "526872605723459584,\"China http://t.co/xJCFnVhWOm #china http://t.co/eHgm5PqJEw\",\"china\"\n",
        "526872596051427328,\"Primary School Teacher (EAL/TEFL) in Changzhou, Jiangsu Province, China: CNY 24,... http://t.co/nhjjvfYC1q #esl #jobs #china\",\"china\"\n",
        "526872356107857920,\"Advertising products like #flags &amp; pennants from #China on eBay? Use Tweet Eye. It's FREE! http://t.co/II11g1IAKk\",\"china\"\n",
        "526872317105041409,\"#China &gt;&lt;&gt;&lt; #Expat InterNations #socialmedia . #chinaready  #itsfree to join . . #Expatife #checkitout http://t.co/l59zswMJkg\",\"china\"\n",
        "526872273689399296,\"Depressed #cotton #trade (#Dawn) http://t.co/WWFOTRGZJx #agriculturalcommodities #agriculture #china #emergingmarkets #globaleconomy #india\",\"china\"\n",
        "526872231620521984,\"#worldnews #Tibet @tchrd_ http://t.co/lFx5l2w0K2 #China #Genocide\",\"china\"\n",
        "526872219126091776,\"Photo: #fluffy #dog #cutedogs #furbaby #hairdye #fur #ohmydogboarding #trend #China #panda #pooch #puppy... http://t.co/oZGgdacvAr\",\"china\"\n",
        "526872097357041664,\"#Apple offers #security guidance following #China #iCloudHack reports http://t.co/T0JWOaMpHw\",\"china\"\n",
        "526871975600599040,\"FBI warns of cyberattacks linked to China http://t.co/h24ZSG2Yxf http://t.co/juNe6Gbi3i #cio #security #janco #china #cyberattacks #fbi\",\"china\"\n",
        "526871905874112512,\"#China Fake Invoice Evidence Mounts as #HK Figures Diverge http://t.co/yvAV3a5hAp #economy #trade\",\"china\"\n",
        "526871691285123072,\"#Buddhism and the #Environment in #China: PBS Religion and Ethics Newsweekly http://t.co/eO8DETVIFB via @Buddhistethics\",\"china\"\n",
        "526871645840232448,\"#China es considerada el mayor mercado mundial de #robots industriales http://t.co/0WyLLHEq9P\",\"china\"\n",
        "526871312967675904,\"#China #Tuna's bungled #IPO shows a culture of flouting regulation: http://t.co/EpMZEvlFCf Our story by @shannonservice @GuardianSustBiz\",\"china\"\n",
        "526871208001011712,\"Did you know? #Vietnam #China #Indonesia &amp; #Thailand produce 80% of the world's farmed #shrimp! #weloveshrimp\",\"china\"\n",
        "526871148261568513,\"#RMB #Investor, everything you want to know on #Renminbi, #China! http://t.co/yiihA55FBm .,,,\",\"china\"\n",
        "526871095618461699,\"Chinese Film '12 Citizens' Wins Category at Rome Film Festival http://t.co/QJW0bPmD9S #china #deluxtrade\",\"china\"\n",
        "526871088534663168,\"RT @FroehlicherT: Press Conference @KedgeBS @FT Ranking Global AEMBA #EMBA 2014 #SJTU #Shanghai #China http://t.co/FOeiVdbQke\",\"china\"\n",
        "526871059803283457,\"MT @witschinaafrica: Multiverse signs $111m deal w/ #China firm http://t.co/aTqwPokM7t via @nigeriantribune #Nigeria #Lead #Zinc #SinoAfrica\",\"china\"\n",
        "526871053189267456,\"#China #TopStories: Brazil election: Dilma Rousseff secures re-election http://t.co/syWdMlV2CM via Mag Nota China... http://t.co/7p76vKBGi1\",\"china\"\n",
        "526871024353427460,\"Teacher/Trainer - teach motivated Adults in Nanjing! (#China) #job #socialrecruiting https://t.co/dKwmB1mxLc\",\"china\"\n",
        "526870977884721152,\"How are you?, try this #proxy from #China: https://t.co/kYEhcItRq6\",\"china\"\n",
        "526870704835559424,\"Bicester Village (luxury outlets) head to #China! http://t.co/zPWg1vyvn5 #ChinaLuxury\",\"china\"\n",
        "526870494566682624,\"RT @FullHoteles: Ark Hotel en #China http://t.co/4sxwhWRG0Z\",\"china\"\n",
        "526870464594202625,\"#China tests new-generation military planes, report says http://t.co/nC0750Be0Z\",\"china\"\n",
        "526591364104876032,\"Chow Yun-fatt shows why he is a #HK screen god. Asked abt being banned on Mainland: 'I'll just make less then' http://t.co/sIhXGbfyEo\",\"hk\""
       ]
      },
      {
       "output_type": "stream",
       "stream": "stdout",
       "text": [
        "\n",
        "526665532489990144,\"#hk people's new favourite backdrop -- yellow umbrella Xi in Admiralty. #OccupyHK http://t.co/2WMCw1Ph4y\",\"hk\"\n",
        "526875787879018496,\"At http://t.co/KuF1hYUapw -- #Yeah #Baby #18th #China #HK #HongKong  #Birthday #Party #eighteen #adult #lad #br... http://t.co/NqjetjfQ1e\",\"hk\"\n",
        "526874888771211264,\"People of #HK dont give up on your fight for democracy! Show the SAR govt that democracy should be for all! #hongkongdemocracy :)\",\"hk\"\n",
        "526872537712844800,\"RT creativity at Traffic light Democracy? thehongkongkid: #HK creativity at #UMHK Traffic light Democracy? ... http://t.co/nskQCijtKX\",\"hk\"\n",
        "526872402018717696,\"RT @thehongkongkid: #HK creativity at #UMHK Traffic light Democracy? http://t.co/LPViTK8FZG\",\"hk\"\n",
        "526871905874112512,\"#China Fake Invoice Evidence Mounts as #HK Figures Diverge http://t.co/yvAV3a5hAp #economy #trade\",\"hk\"\n",
        "526871622980886528,\"RT @shirleyZhaoXY: #hk people's new favourite backdrop -- yellow umbrella Xi in Admiralty. #OccupyHK http://t.co/2WMCw1Ph4y\",\"hk\"\n",
        "526871377509638144,\"RT @top_president: Message Xi Jinping now https://t.co/Jprq5mLRzb #HK #OccupyCentral #OccupyHK http://t.co/mzqvy9HlJn\",\"hk\"\n",
        "526870594160050177,\"A policy forum of 'elites'. That should come up with something different! #HK http://t.co/ABK9VA4eQy\",\"hk\"\n",
        "526866875443982336,\"RT @sayakaj: 3rd place!!! #AVC #BeachVolleyball #HK http://t.co/9bAjyiixm5\",\"hk\"\n",
        "526866722243248128,\"Jackie Chan no friend Hong Kong protesters. via /r/news http://t.co/G6AwAhIKfs #Occupycentral #HK #Mongkok #CWB via @boniemylurv\",\"hk\"\n",
        "526863399557550081,\"@UBS @RacingThePlanet @Habitat_org #ultramarathoner UBS high flyer Mo Yee Lam runs 250km to relax! Watch @BloombergTV 07:20 #HK\",\"hk\"\n",
        "526862745174425602,\"RT @SunBabyCho: G.Morning #HK !!!\",\"hk\"\n",
        "526862665642020864,\"G.Morning #HK !!!\",\"hk\"\n",
        "526859777184636928,\"RT @nagoul1: #HongKong protesters to hold street vote on next steps: http://t.co/9ooYzMYguP l #HK #OccupyHK #UmbrellaRevolution\",\"hk\"\n",
        "526855251912318976,\"Teaching Chinese some more about Roman Style Law &amp; Legality Principle; Nuremberg (1996): http://t.co/27HwW7c3SW #OccupyCentral #HK\",\"hk\"\n",
        "526855110622990337,\"RT @nagoul1: #HongKong protesters to hold street vote on next steps: http://t.co/9ooYzMYguP l #HK #OccupyHK #UmbrellaRevolution\",\"hk\"\n",
        "526853773650853889,\"#HongKong protesters to hold street vote on next steps: http://t.co/9ooYzMYguP l #HK #OccupyHK #UmbrellaRevolution\",\"hk\"\n",
        "526851029028306944,\"Shot my #hk #klr goggles today. #stormtrooper #hostilekids #paintball  #hhh #hkarmy @markyhkarmy  @hkarmy @Cassid... http://t.co/wqMXFTqwhh\",\"hk\"\n",
        "526850750409101312,\"Shot my #hk #klr goggles today. #stormtrooper #hostilekids #paintball  #hhh #hkarmy @markyhkarmy  @hkarmy @Cassid... http://t.co/OviSp7Vf9b\",\"hk\"\n",
        "526850695555993600,\"Shot my #hk #klr goggles today. #stormtrooper #hostilekids #paintball  #hhh #hkarmy @markyhkarmy  @hkarmy @Cassid... http://t.co/3Wzd2wtMXN\",\"hk\"\n",
        "526850466668621825,\"Shot my #hk #klr goggles today. #stormtrooper #hostilekids #paintball  #hhh #hkarmy @markyhkarmy  @hkarmy @Cassid... http://t.co/wdTjHaM97l\",\"hk\"\n",
        "526850357671264256,\"Shot my #hk #klr goggles today. #stormtrooper #hostilekids #paintball  #hhh #hkarmy @markyhkarmy  @hkarmy @Cassid... http://t.co/Ab2hNfcvGO\",\"hk\"\n",
        "526850351736291329,\"Shot my #hk #klr goggles today. #stormtrooper #hostilekids #paintball  #hhh #hkarmy @markyhkarmy  @hkarmy @Cassid... http://t.co/Lc3PdyGyR7\",\"hk\"\n",
        "526850313199030273,\"Shot my #hk #klr goggles today. #stormtrooper #hostilekids #paintball  #hhh #hkarmy @markyhkarmy  @hkarmy @Cassid... http://t.co/JSpGyEmK1r\",\"hk\"\n",
        "526850311072538625,\"Shot my #hk #klr goggles today. #stormtrooper #hostilekids #paintball  #hhh #hkarmy @markyhkarmy  @hkarmy @Cassid... http://t.co/ih1bNVzvMY\",\"hk\"\n",
        "526848434238943232,\"Shot my #hk #klr goggles today. #stormtrooper #hostilekids #paintball  #hhh #hkarmy @markyhkarmy  @hkarmy @Cassid... http://t.co/qUUWNckrwU\",\"hk\"\n",
        "526848334716477440,\"Shot my #hk #klr goggles today. #stormtrooper #hostilekids #paintball  #hhh #hkarmy @markyhkarmy  @hkarmy @Cassid... http://t.co/qkqwYF2g6L\",\"hk\"\n",
        "526848330253733889,\"Shot my #hk #klr goggles today. #stormtrooper #hostilekids #paintball  #hhh #hkarmy @markyhkarmy  @hkarmy @Cassid... http://t.co/GMtQl2CXI0\",\"hk\"\n",
        "526848308321742848,\"Shot my #hk #klr goggles today. #stormtrooper #hostilekids #paintball  #hhh #hkarmy @markyhkarmy  @hkarmy @Cassid... http://t.co/IjC5NXtYsF\",\"hk\"\n",
        "526848116092600320,\"Shot my #hk #klr goggles today. #stormtrooper #hostilekids #paintball  #hhh #hkarmy @markyhkarmy  @hkarmy @Cassid... http://t.co/tbFW7UGQIw\",\"hk\"\n",
        "526848071985278977,\"Shot my #hk #klr goggles today. #stormtrooper #hostilekids #paintball  #hhh #hkarmy @markyhkarmy  @hkarmy @Cassid... http://t.co/N0x3IW5HRl\",\"hk\"\n",
        "526848062174810112,\"Shot my #hk #klr goggles today. #stormtrooper #hostilekids #paintball  #hhh #hkarmy @markyhkarmy  @hkarmy @Cassid... http://t.co/0lCcSLXtyt\",\"hk\"\n",
        "526848061713424384,\"Shot my #hk #klr goggles today. #stormtrooper #hostilekids #paintball  #hhh #hkarmy @markyhkarmy  @hkarmy @Cassid... http://t.co/VTgmcLS3cZ\",\"hk\"\n",
        "526839323157467136,\"Kush - Gotta Get it - SoundCloud - Listen to Kush - Gotta Get it by Kush_Rogers #np on #SoundCloud http://t.co/CVgtVfJxKI #HK\",\"hk\"\n",
        "526836902490820608,\"Graaaaciaaassss!! #gifts #hk #hellokitty #mac #love http://t.co/mYsjNDNK45\",\"hk\"\n",
        "526836758655537152,\"RT @Tibet_TW: Is this Chinese policy to Tibetan In occupied Tibet? http://t.co/djW8WUoEzH #CCP #China #HK #PRC #India #EU\",\"hk\"\n",
        "526836132768931840,\"I'm hiring - Accounting and Finance Recruitment Consultant in Hong Kong, Hong Kong http://t.co/cRWmhdIVKv #job #recruitment #hk\",\"hk\"\n",
        "526835944914436096,\"RT @Newsweek: 'Welcome to the anarchist utopia. The crowd is h... http://t.co/G6AwAhIKfs #Occupycentral #HK #Mongkok #CWB via @SyLvanAshkii\",\"hk\"\n",
        "526828255165546496,\"Day 27 of Inktober. Chow Yun Fat. #bryanfu #inktober #inktober2014 #hk #china #hongkong #chowyunfat #occupycentral http://t.co/tVPILXbnA5\",\"hk\"\n",
        "526827422646550528,\"RT @casperpschultz: Great #pentest talk today by @kramse at #HK. Looking forward to the next talk about web security #webdev\",\"hk\"\n",
        "526827414618664961,\"RT @casperpschultz: Great #pentest talk today by @kramse at #HK. Looking forward to the next talk about web security #webdev\",\"hk\"\n",
        "524050755070611456,\"The LEGO replica of #OccupyHK makes its appearance in #Admiralty, along with their own tiny yellow umbrellas. #umhk http://t.co/OpzR8kRaZn\",\"admiralty\""
       ]
      },
      {
       "output_type": "stream",
       "stream": "stdout",
       "text": [
        "\n",
        "526031541084758017,\"#Admiralty bustling with activity #hongkong #occupycentral #umvrellamovement http://t.co/kzFBCXQzSi\",\"admiralty\"\n",
        "524185430766268418,\"BREAKING: High Court orders protesters to leave #MongKok and #Admiralty sites #OccupyCentral @SCMP_News #HK http://t.co/56vgmtfA9v\",\"admiralty\"\n",
        "526801733314703360,\"RT @VivienneChow: #organic farming in #Admiralty #OccupyCentral protest site #UmbrellaMovement #HK http://t.co/DiSFPpxKOs\",\"admiralty\"\n",
        "526800502126678017,\"RT @VivienneChow: #organic farming in #Admiralty #OccupyCentral protest site #UmbrellaMovement #HK http://t.co/DiSFPpxKOs\",\"admiralty\"\n",
        "526795693709467648,\"#organic farming in #Admiralty #OccupyCentral protest site #UmbrellaMovement #HK http://t.co/DiSFPpxKOs\",\"admiralty\"\n",
        "526791776032800769,\"Hong Kong protest support http://t.co/CQhAHCy4ch #occupycentral #hk #mongkok #cwb #umbrellamovement #occupyhk #hongkong #admiralty #dash\",\"admiralty\"\n",
        "526754027699458049,\"vote on future of #HongKong protests http://t.co/CQhAHCy4ch #occupycentral #hk #mongkok #cwb #umbrellamovement #occupyhk #admiralty #dash\",\"admiralty\"\n",
        "526738550390149122,\"Occupied zone in #Admiralty the night b4 one month mark of #UmbrellaMovement spirit going ever stronger. #OccupyHK http://t.co/XMlgsyZocU\",\"admiralty\"\n",
        "526735317001179138,\"Back again tonight long queue for yellow ribbon necklace in #Admiralty support #UmbrellaMovement #OccupyCentral http://t.co/aoMfKw9tAD\",\"admiralty\"\n",
        "526735111933292544,\"Protesters study at the occupied areas outside government headquarters in #HongKong's #Admiralty. http://t.co/LgPsUYtAkP\",\"admiralty\"\n",
        "526714102182195200,\"#Hongkong #Mongkok #Admiralty #Malaysia #HK Citizens need to avoid and Discourage services that levy a percentile of your hard work to GOV.\",\"admiralty\"\n",
        "526712816653180930,\"#Hongkong #Mongkok #Admiralty #Malaysia #HK You Guys NEED new Strategy fast you cannot just occupy.You cannot hit hard and specific.\",\"admiralty\"\n",
        "526711398462521344,\"#Hongkong #Mongkok #Admiralty #Malaysia #HK http://t.co/UZuhD0JS4l Please help the words to all domestic workers in ASIA.\",\"admiralty\"\n",
        "526710551733223424,\"#Hongkong #Mongkok #Admiralty #Malaysia #HK Citizens need to identify beyond simple #Slave Jobs that DO NOT add value to an Economy.\",\"admiralty\"\n",
        "526709626905952256,\"http://t.co/NP7UGdB1s8 #Hongkong #Mongkok #Admiralty Learn hard and learn fast-Such speculative services work against poor people.\",\"admiralty\"\n",
        "526706785260797952,\"#Hongkong #Mongkok #Admiralty #Malaysia #America #USA #UK #London #Shanghai #Korea #Japan http://t.co/UZuhD0JS4l\",\"admiralty\"\n",
        "526686103181733888,\"Company profile ADMIRALTY AUTO LEASING, LLC - http://t.co/y6K4fzi25R  #ADMIRALTY #AUTO #LEASING, #LLC\",\"admiralty\"\n",
        "526655880784531456,\"vote on what to do next http://t.co/CQhAHCy4ch #occupycentral #hk #mongkok #cwb #umbrellamovement #occupyhk #hongkong #admiralty #dash\",\"admiralty\"\n",
        "526640577400807424,\". #Monday #WorkOut #View  #ConcreteJungle  #LippoCenter #HongKong #Admiralty #Central  #Asia  #HK http://t.co/x4RnTY6jvb\",\"admiralty\"\n",
        "526572833577893888,\"protesters yesterday #OccupyCentral http://t.co/CQhAHCy4ch #hk #mongkok #cwb #umbrellamovement #occupyhk #hongkong #admiralty #dash\",\"admiralty\"\n",
        "526546409903116289,\"referendumhttp //t co/bqH9ca19dT http://t.co/CQhAHCy4ch #occupycentral #hk #mongkok #cwb #umbrellamovement #occupyhk #hongkong #admiralty\",\"admiralty\"\n",
        "526410740765581312,\"#subway #underground #danger #line #metro #station #admiralty #petersburg by tronarvinge http://t.co/vtTnlJY9ov\",\"admiralty\"\n",
        "526404428832571392,\"#HongKong late Sunday eve: thousands dance and sing, cheer and clap. #Admiralty #HongKongProtests #OccupyCentral #HK http://t.co/Tq6u0XeJFt\",\"admiralty\"\n",
        "526402865175076867,\"Busy, lively night in the #Admiralty area of #HongKongIsland #HongKongProtests #OccupyCentral #HongKong #China http://t.co/Bv4mlrUi8v\",\"admiralty\"\n",
        "526400202010136576,\"'@scharlt: Below the bridge, @OCLPHK @HKFS1958 and @Scholarismhk speak to the crowd #admiralty http://t.co/A9BkNkjfXe'\",\"admiralty\"\n",
        "526392136493973504,\"#occupycentral #admiralty #prodemocracy  #umbrellarevolution #respect http://t.co/WaVDWbJn5Y\",\"admiralty\"\n",
        "526385196724015105,\"RT @scharlt: Below the bridge, @OCLPHK @HKFS1958 and @Scholarismhk speak to the crowd #admiralty http://t.co/CKXByT8EpX\",\"admiralty\"\n",
        "526384721735864320,\"RT @scharlt: Below the bridge, @OCLPHK @HKFS1958 and @Scholarismhk speak to the crowd #admiralty http://t.co/CKXByT8EpX\",\"admiralty\"\n",
        "526383629811712001,\"RT @scharlt: Below the bridge, @OCLPHK @HKFS1958 and @Scholarismhk speak to the crowd #admiralty http://t.co/CKXByT8EpX\",\"admiralty\"\n",
        "526383257701478400,\"RT @scharlt: Below the bridge, @OCLPHK @HKFS1958 and @Scholarismhk speak to the crowd #admiralty http://t.co/CKXByT8EpX\",\"admiralty\"\n",
        "526382698353287171,\"Below the bridge, @OCLPHK @HKFS1958 and @Scholarismhk speak to the crowd #admiralty http://t.co/CKXByT8EpX\",\"admiralty\"\n",
        "526377591842693120,\"back at the camp site in #Admiralty. http://t.co/rPIDLJyQZF\",\"admiralty\"\n",
        "526377201605021696,\"#hongkong #umbrellamovement #admiralty #yellowribbon http://t.co/HATqNp854k\",\"admiralty\"\n",
        "526373771397984256,\"Crowd, songs, emotion in #Admiralty tonight. #United #Hongkongers under #Umbrellamovement #Occupycentral http://t.co/0tXmlunTjt\",\"admiralty\"\n",
        "526361925479706624,\"RT @libongjai: 2268 tents are in occupy admiralty area as of today #occupyhk #umbrellarevolution #umbrellamovement #hongkong #admiralty\",\"admiralty\"\n",
        "526361778410639362,\"2268 tents are in occupy admiralty area as of today #occupyhk #umbrellarevolution #umbrellamovement #hongkong #admiralty\",\"admiralty\"\n",
        "526347259693117440,\"Mini concert @ #admiralty celebrating day 29 #UmbrellaMovement #UmbrellaRevolution #HongHong #democracy #hk http://t.co/akedqiCIhC\",\"admiralty\"\n",
        "526342596197502981,\"#Mainland #Chinese migrant in #Admiralty: Must defend #HK rule of law or it will become #China #OccupyCentral #UmbrellaMovement #justice\",\"admiralty\"\n",
        "526341908587888640,\"#umbrellamovement #umbrellarevolution #928visuals #admiralty http://t.co/lImXSCBop0\",\"admiralty\"\n",
        "526335353251049473,\"4 wks ago 2day i was running around connaught rd like a maniac dodging tear gas - now #OccupyHK #Admiralty http://t.co/R6MNQEubA8\",\"admiralty\"\n",
        "526335016549490688,\"Hong Kong protest leaders http://t.co/CQhAHCy4ch #occupycentral #hk #mongkok #cwb #umbrellamovement #occupyhk #hongkong #admiralty #dash\",\"admiralty\"\n",
        "526319916987973632,\"street vote next steps http://t.co/CQhAHCy4ch #occupycentral #hk #mongkok #cwb #umbrellamovement #occupyhk #hongkong #admiralty #dash\",\"admiralty\"\n",
        "526306677306298368,\"Back-to-back tents outside Legislative Council in #Admiralty http://t.co/2X9i9E14tu via @freakingcat #HongKong #OccupyHK #UmbrellaRevolution\",\"admiralty\"\n",
        "526293492990226433,\"the most #china #OccupyCentral #dictatorship http://t.co/CQhAHCy4ch #hk #mongkok #cwb #umbrellamovement #occupyhk #hongkong #admiralty #dash\",\"admiralty\"\n",
        "526285942542594048,\"Hong Kong protest leaders http://t.co/CQhAHCy4ch #occupycentral #hk #mongkok #cwb #umbrellamovement #occupyhk #hongkong #admiralty #dash\",\"admiralty\"\n",
        "526274618680950784,\"more #HongKong real estate http://t.co/CQhAHCy4ch #occupycentral #hk #mongkok #cwb #umbrellamovement #occupyhk #admiralty #dash\",\"admiralty\"\n",
        "526266135553916928,\"#OccupyHK pop vote cancelled. Presser at 330p. I guess it's time to camp out at the #Admiralty green stage.\",\"admiralty\"\n",
        "526265100852686848,\"Art spreads all over the occupied camp in #admiralty #HongKong http://t.co/m3OBJpfCMi\",\"admiralty\"\n",
        "526264582952591360,\"RT @MabelSieh: Study room at protest site #admiralty 'Dont disturb us. Study hard.' #HongKongProtests http://t.co/4hV7jAC16s\",\"admiralty\"\n",
        "526264380023775233,\"RT @MabelSieh: A temporary place for washing hair and body for protesters #HongKongProtests #admiralty http://t.co/9oxMp8Bm2l\",\"admiralty\"\n",
        "526264320523374592,\"RT @MabelSieh: Lots of people come to look at the protest site today #HongKongProtests #admiralty #UmbrellaMovement http://t.co/6yVk1O2rHJ\",\"admiralty\"\n",
        "526648963529592832,\"Police spokesman blasts 'selfish and illegal' makeover of HK traffic lights, says it may cause accidents. #OccupyHK  http://t.co/pdf4Th9Pw8\",\"occupyhk\""
       ]
      },
      {
       "output_type": "stream",
       "stream": "stdout",
       "text": [
        "\n",
        "526651261471301632,\"People's Daily on Chow Yun-fat response to PRC ban for #OccupyHK support: 'I'll just make less then' http://t.co/jPODbNmSIk ht @anjalitsui\",\"occupyhk\"\n",
        "526352752717230080,\"Protest songs &amp; speeches about press freedom at #OccupyHK Admiralty tonight. 1000s present. http://t.co/mTImX160ck\",\"occupyhk\"\n",
        "526875379697721344,\"Reporter @ottawacarl travels through #OccupyHK encampments &amp; finds a flourishing arts scene http://t.co/NIQULkU5mD #cdnpoli\",\"occupyhk\"\n",
        "526875219172921344,\"RT @antd: Subtle yet awesome window display at Star St #OccupyHK http://t.co/YQMz8Ry2y1\",\"occupyhk\"\n",
        "526874649167007745,\"RT @krislc: Lester Shum speech on 'new Lion Rock spirit'. Very CUSU style speech. He got a new haircut too. #OccupyHK http://t.co/xbUFbuec8G\",\"occupyhk\"\n",
        "526874471819268096,\"RT @antd: Subtle yet awesome window display at Star St #OccupyHK http://t.co/YQMz8Ry2y1\",\"occupyhk\"\n",
        "526874352487522304,\"#OccupyHK Very strange article about two Chinese Communist Party rivals using Hong Kong and OC as their battlefield http://t.co/pU3n96GVF2\",\"occupyhk\"\n",
        "526874231829581825,\"RT @antd: Subtle yet awesome window display at Star St #OccupyHK http://t.co/YQMz8Ry2y1\",\"occupyhk\"\n",
        "526874110278651905,\"RT @kvn_ptrsn: Just in time for #halloween - #OccupyHK Chinese Charms. http://t.co/OFX0Ue7JxW\",\"occupyhk\"\n",
        "526873870649679872,\"RT @antd: Breaking: 'Lester Shum has a cold'. Somebody call Gay Talese #OccupyHK http://t.co/UlwIP6ZLWf\",\"occupyhk\"\n",
        "526873305936977921,\"RT @Winkypedia_net: Lester Shum noted that he will give up bail tomorrow. #hkprotest #umbrellaresolution #OccupyHK http://t.co/5Nx7Yknaz7\",\"occupyhk\"\n",
        "526872246389071872,\"RT @antd: Subtle yet awesome window display at Star St #OccupyHK http://t.co/YQMz8Ry2y1\",\"occupyhk\"\n",
        "526871622980886528,\"RT @shirleyZhaoXY: #hk people's new favourite backdrop -- yellow umbrella Xi in Admiralty. #OccupyHK http://t.co/2WMCw1Ph4y\",\"occupyhk\"\n",
        "526871403576848384,\"'@krislc: the things that threw down. very smelly. #OccupyHK http://t.co/ODNTJqrxJW'\",\"occupyhk\"\n",
        "526871382227824640,\"RT @hkdemonow: Hope for #HongKong by Chris Patten via @ProSyn #oped http://t.co/yZaDuvEVBd via @po_st #umbrellarevolution #occupyhk\",\"occupyhk\"\n",
        "526871377509638144,\"RT @top_president: Message Xi Jinping now https://t.co/Jprq5mLRzb #HK #OccupyCentral #OccupyHK http://t.co/mzqvy9HlJn\",\"occupyhk\"\n",
        "526870706802655232,\"RT @antd: Subtle yet awesome window display at Star St #OccupyHK http://t.co/YQMz8Ry2y1\",\"occupyhk\"\n",
        "526870044945690625,\"RT @hkdemonow: Hope for #HongKong by Chris Patten via @ProSyn #oped http://t.co/yZaDuvEVBd via @po_st #umbrellarevolution #occupyhk\",\"occupyhk\"\n",
        "526869584956366849,\"RT @antd: Subtle yet awesome window display at Star St #OccupyHK http://t.co/YQMz8Ry2y1\",\"occupyhk\"\n",
        "526869513271537664,\"RT @antd: Subtle yet awesome window display at Star St #OccupyHK http://t.co/YQMz8Ry2y1\",\"occupyhk\"\n",
        "526868580772483072,\"RT @antd: Subtle yet awesome window display at Star St #OccupyHK http://t.co/YQMz8Ry2y1\",\"occupyhk\"\n",
        "526866856632934400,\"RT @hkdemonow: Hope for #HongKong by Chris Patten via @ProSyn #oped http://t.co/yZaDuvEVBd via @po_st #umbrellarevolution #occupyhk\",\"occupyhk\"\n",
        "526865344628260864,\"RT @hkdemonow: Hope for #HongKong by Chris Patten via @ProSyn #oped http://t.co/yZaDuvEVBd via @po_st #umbrellarevolution #occupyhk\",\"occupyhk\"\n",
        "526865314525753344,\"'I'll just make less then': Actor Chow Yun-fat responds to alleged PRC ban for supporting HK protests http://t.co/7tZn30ZsFp #OccupyHK\",\"occupyhk\"\n",
        "526864531788931072,\"RT @philippe_lopez: Pro-democracy debates are still being held in the streets at night in Hong Kong #OccupyHK #AFP http://t.co/SZsREqLJr0\",\"occupyhk\"\n",
        "526863352077635585,\"RT @tomgrundy: English version of an image doing the rounds on HK social media re: gov't/#OccupyHK talks. http://t.co/myd1uOH5z2\",\"occupyhk\"\n",
        "526862186812301313,\"Good morning, #UmbrellaRevolution #OccupyHK! :) #Sunrise 06:25, noon 12:07, sunset 17:49 HKT (UTC+8), October 28. Day length: 11h 24m.\",\"occupyhk\"\n",
        "526862043706425345,\"RT @hkdemonow: Hope for #HongKong by Chris Patten via @ProSyn #oped http://t.co/yZaDuvEVBd via @po_st #umbrellarevolution #occupyhk\",\"occupyhk\"\n",
        "526860866080100352,\"Hope for #HongKong by Chris Patten via @ProSyn #oped http://t.co/yZaDuvEVBd via @po_st #umbrellarevolution #occupyhk\",\"occupyhk\"\n",
        "526859777184636928,\"RT @nagoul1: #HongKong protesters to hold street vote on next steps: http://t.co/9ooYzMYguP l #HK #OccupyHK #UmbrellaRevolution\",\"occupyhk\"\n",
        "526859253966180352,\"RT @kvn_ptrsn: Just in time for #halloween - #OccupyHK Chinese Charms. http://t.co/OFX0Ue7JxW\",\"occupyhk\"\n",
        "526859085506158592,\"#OccupyHK ignores #Tibet tears - it appears money *does* talk  - via @HarryWilson54 http://t.co/qdXc1ekgZw\",\"occupyhk\"\n",
        "526855110622990337,\"RT @nagoul1: #HongKong protesters to hold street vote on next steps: http://t.co/9ooYzMYguP l #HK #OccupyHK #UmbrellaRevolution\",\"occupyhk\"\n",
        "526853773650853889,\"#HongKong protesters to hold street vote on next steps: http://t.co/9ooYzMYguP l #HK #OccupyHK #UmbrellaRevolution\",\"occupyhk\"\n",
        "526852041314824192,\"RT @kvn_ptrsn: Just in time for #halloween - #OccupyHK Chinese Charms. http://t.co/OFX0Ue7JxW\",\"occupyhk\"\n",
        "526848079774097408,\"RT @tomgrundy: Student leader Lester Shum rallies crowds at #OccupyHK.   Goodnight from Admiralty. https://t.co/M9z4a1rLMt\",\"occupyhk\"\n",
        "526846814511964160,\"RT @PRHacks: #Anonymous sleeping in #OccupyHK.  #UmbrellaRevolution #OpHongKong http://t.co/4BBqx56KjF\",\"occupyhk\"\n",
        "526845980399116288,\"Doubts over anti-Occupy petition authenticity #OccupyHK #OccupyCentral #UmbrellaRevolution #UmbrellaMovement   http://t.co/cIsoqR3iBt\",\"occupyhk\"\n",
        "526841352508567553,\"Some teachers were surely uneasy about #HKClassBoycott, but nor do they like gov's ideas for the curriculum #OccupyHK http://t.co/3May7AQCcl\",\"occupyhk\"\n"
       ]
      }
     ],
     "prompt_number": 4
    },
    {
     "cell_type": "markdown",
     "metadata": {},
     "source": [
      "#### Get previous Twitter data"
     ]
    },
    {
     "cell_type": "code",
     "collapsed": false,
     "input": [
      "tweets = pd.read_csv('https://raw.githubusercontent.com/TeachingDataScience/data-science-course/forstudentviewing/11_nltk/twitter5.csv')\n",
      "\n",
      "tweets.head()"
     ],
     "language": "python",
     "metadata": {},
     "outputs": [
      {
       "html": [
        "<div style=\"max-height:1000px;max-width:1500px;overflow:auto;\">\n",
        "<table border=\"1\" class=\"dataframe\">\n",
        "  <thead>\n",
        "    <tr style=\"text-align: right;\">\n",
        "      <th></th>\n",
        "      <th>id</th>\n",
        "      <th>tweet</th>\n",
        "      <th>hashtag</th>\n",
        "    </tr>\n",
        "  </thead>\n",
        "  <tbody>\n",
        "    <tr>\n",
        "      <th>0</th>\n",
        "      <td> 522205943074160640</td>\n",
        "      <td> Is this #HongKong 's Rodney King? Police need ...</td>\n",
        "      <td> hongkong</td>\n",
        "    </tr>\n",
        "    <tr>\n",
        "      <th>1</th>\n",
        "      <td> 521669229188501504</td>\n",
        "      <td> 'We won't move and I'm ready to get arrested',...</td>\n",
        "      <td> hongkong</td>\n",
        "    </tr>\n",
        "    <tr>\n",
        "      <th>2</th>\n",
        "      <td> 522228472786067456</td>\n",
        "      <td> RT @stanyee: Footage of beating prompts #HongK...</td>\n",
        "      <td> hongkong</td>\n",
        "    </tr>\n",
        "    <tr>\n",
        "      <th>3</th>\n",
        "      <td> 522228386002108418</td>\n",
        "      <td> What is happening in Hong Kong is something th...</td>\n",
        "      <td> hongkong</td>\n",
        "    </tr>\n",
        "    <tr>\n",
        "      <th>4</th>\n",
        "      <td> 522228373964480512</td>\n",
        "      <td> #Funding:#HongKong #travel #startup @KlookTrav...</td>\n",
        "      <td> hongkong</td>\n",
        "    </tr>\n",
        "  </tbody>\n",
        "</table>\n",
        "</div>"
       ],
       "metadata": {},
       "output_type": "pyout",
       "prompt_number": 10,
       "text": [
        "                   id                                              tweet   hashtag\n",
        "0  522205943074160640  Is this #HongKong 's Rodney King? Police need ...  hongkong\n",
        "1  521669229188501504  'We won't move and I'm ready to get arrested',...  hongkong\n",
        "2  522228472786067456  RT @stanyee: Footage of beating prompts #HongK...  hongkong\n",
        "3  522228386002108418  What is happening in Hong Kong is something th...  hongkong\n",
        "4  522228373964480512  #Funding:#HongKong #travel #startup @KlookTrav...  hongkong"
       ]
      }
     ],
     "prompt_number": 10
    },
    {
     "cell_type": "markdown",
     "metadata": {},
     "source": [
      "####Get unique tweets"
     ]
    },
    {
     "cell_type": "code",
     "collapsed": false,
     "input": [
      "unique_tweets = tweets.drop_duplicates(cols=['id'])"
     ],
     "language": "python",
     "metadata": {},
     "outputs": [
      {
       "output_type": "stream",
       "stream": "stderr",
       "text": [
        "//anaconda/lib/python2.7/site-packages/pandas/util/decorators.py:53: FutureWarning: cols is deprecated, use subset instead\n",
        "  warnings.warn(msg, FutureWarning)\n"
       ]
      }
     ],
     "prompt_number": 14
    },
    {
     "cell_type": "markdown",
     "metadata": {},
     "source": [
      "####Tokenize"
     ]
    },
    {
     "cell_type": "code",
     "collapsed": false,
     "input": [
      "def tokenize_tweet(t, remove_stop=True, remove_hashtag=False):\n",
      "    import string\n",
      "    import re\n",
      "    tweet = t\n",
      "    tweet = tweet.lower()\n",
      "    tweet = re.sub('@\\w+', 'TWITTER_HANDLE', tweet)\n",
      "    tweet = re.sub('(https?:\\/\\/)?([\\da-z\\.-]+)\\.([a-z\\.]{2,6})([\\/\\w \\.-]*)*\\/?', 'URL', tweet)\n",
      "    tweet = tweet.translate(string.maketrans(\"\",\"\"), string.punctuation)\n",
      "    words = nltk.tokenize.wordpunct_tokenize(tweet)\n",
      "    if remove_stop:\n",
      "        stopwords_filter = set(nltk.corpus.stopwords.words('english'))\n",
      "        words = [w for w in words if not w in stopwords_filter]\n",
      "    if remove_hashtag:\n",
      "        print None\n",
      "    return words\n",
      "\n",
      "unique_tweets['tokens'] = unique_tweets.tweet.apply(tokenize_tweet, remove_stop=True)\n",
      "unique_tweets['tokens_w_stopwords'] = unique_tweets.tweet.apply(tokenize_tweet, remove_stop=False)"
     ],
     "language": "python",
     "metadata": {},
     "outputs": [
      {
       "output_type": "stream",
       "stream": "stderr",
       "text": [
        "-c:17: SettingWithCopyWarning: A value is trying to be set on a copy of a slice from a DataFrame.\n",
        "Try using .loc[row_index,col_indexer] = value instead\n",
        "-c:18: SettingWithCopyWarning: A value is trying to be set on a copy of a slice from a DataFrame.\n",
        "Try using .loc[row_index,col_indexer] = value instead\n"
       ]
      }
     ],
     "prompt_number": 16
    },
    {
     "cell_type": "markdown",
     "metadata": {},
     "source": [
      "####Get adjectives"
     ]
    },
    {
     "cell_type": "code",
     "collapsed": false,
     "input": [
      "nltk.pos_tag\n",
      "unique_tweets['pos'] = unique_tweets['tokens'].apply(nltk.pos_tag)\n",
      "\n",
      "adjectives = []\n",
      "for i in unique_tweets.pos:\n",
      "    bb = [j[0] for j in i if j[1] == 'JJ']\n",
      "    if bb:\n",
      "        adjectives.extend(bb)\n",
      "\n",
      "print list(set(adjectives))"
     ],
     "language": "python",
     "metadata": {},
     "outputs": [
      {
       "output_type": "stream",
       "stream": "stdout",
       "text": [
        "['heutejournal', 'malicious', 'excessive', 'global', 'yellow', 'kong', 'top', 'govt', 'violent', 'asian', 'human', 'japan', 'taiwan', 'hate', 'blow', '116th', 'le', 'recipient', 'young', 'easy', 'rabble', 'cardinal', 'govern', 'te', 'real', 'good', 'animal', 'big', 'stop', 'possible', 'early', 'joint', 'traffic', 'shameful', 'anonymous', 'international', 'front', 'trouble', 'occupyhongkong', 'helpful', 'cable', 'tear', 'large', 'investigate', 'small', 'insane', 'financial', 'verbal', 'national', 'dead', 'hair', 'likely', 'economic', '3nsailing', 'agricultural', 'corrupt', 'sexual', 'special', 'viral', 'tungchung', 'symbiotic', 'bad', 'legal', 'creative', 'current', 'outside', 'various', 'new', 'adorable', 'public', '3d', 'available', 'suisheng', 'full', 'christian', 'pathetic', 'free', 'strong', 'soundcloud', 'jubilant', 'sheung', 'prodemocratic', 'great', 'bible', 'central', 'standby', 'many', 'aguus', 'equal', 'urged', 'foreign', 'protestorsoccupycentral', 'social', 'military', 'weird', 'create', 'first', 'major', 'industrial', 'vid', 'civic', 'irresponsible', 'powerful', 'arsenal', 'private', 'supporthongkong', 'lung', 'female', 'spanish', 'open', 'legislative', 'wan', 'additive', 'silent', 'ophongkong', 'angry', 'fiveyear', 'genetic', 'next', 'occupy', 'live', 'occupycentral', 'low', 'peaceful', 'australian', '3dprinting', 'website', 'british', 'gear', 'riot', 'successful', 'basic', 'alive', 'icable', 'last', 'general', 'former', 'main', 'dangerous', 'outrageous', 'sous', 'future', 'obvious', 'dirty', 'ive', 'gratuitous', 'chaotic', 'pic', 'site', 'overzealous', 'comfortable', 'high', 'middle', 'brutal', 'want', 'ready', 'wonderful', 'david', 'occupied', 'eric', 'physical', 'opportunityfinancial', 'kush', 'hong', 'hongkong', 'mic', 'responsible', 'hot', 'republic', 'fourth', 'automotive', 'widespread', 'several', 'beach', 'poor', 'independent', 'finish', 'normal', 'impartial', 'english', 'evil', 'sigue', 'wrong', 'serious', 'recent', 'natural', 'third', 'clear', 'proud', 'acknowledged', 'thought', 'concrete', 'tech', 'african', 'professional', 'democratic', 'microsoft', 'unspeakable']\n"
       ]
      }
     ],
     "prompt_number": 17
    },
    {
     "cell_type": "markdown",
     "metadata": {},
     "source": [
      "####Add sentiments to some adjectives"
     ]
    },
    {
     "cell_type": "code",
     "collapsed": false,
     "input": [
      "adjective_list = {\n",
      "    'industrial': 0,\n",
      "    'excessive': -1,\n",
      "    'gratuitous': 1,\n",
      "    'chaotic': -1,\n",
      "    'national': 1,\n",
      "    'young': 1,\n",
      "    'yellow': 0,\n",
      "    'high': 1,\n",
      "    'middle': 0,\n",
      "    'likely': 1,\n",
      "    'economic': 0,\n",
      "    'creative': 1,\n",
      "    'open': 1,\n",
      "    'physical': 0,\n",
      "    'symbiotic': 1,\n",
      "    'legal': 1,\n",
      "    'next': 1,\n",
      "    'genetic': 0,\n",
      "    'angry': -1,\n",
      "    'strong': 1,\n",
      "    'peaceful': 1,\n",
      "    'new': 1,\n",
      "    'widespread': 1,\n",
      "    'real': 1,\n",
      "    'good': 1,\n",
      "    'normal': 0,\n",
      "    'successful': 1,\n",
      "    'big': 1,\n",
      "    'basic': -1,\n",
      "    'hate': -1,\n",
      "    'private': -1,\n",
      "    'front': 0,\n",
      "    'central': 0,\n",
      "    'comfortable': 1,\n",
      "    'last': 0,\n",
      "    'helpful': 1,\n",
      "    'third': 0,\n",
      "    'many': 1,\n",
      "    'clear': 1,\n",
      "    'proud': 1,\n",
      "    'brutal': -1,\n",
      "    'large': 1,\n",
      "    'dirty': -1,\n",
      "    'professional': 1,\n",
      "    'first': 0,\n",
      "}"
     ],
     "language": "python",
     "metadata": {},
     "outputs": [],
     "prompt_number": 18
    },
    {
     "cell_type": "markdown",
     "metadata": {},
     "source": [
      "#####Create sentiment score using short adjective list"
     ]
    },
    {
     "cell_type": "code",
     "collapsed": false,
     "input": [
      "def measure_sentiment(words):\n",
      "    sent = []\n",
      "    for i in words:\n",
      "        if i in adjective_list.keys():\n",
      "            sent.append(adjective_list[i])\n",
      "    if sent:\n",
      "        return sum(sent) / len(sent)\n",
      "    else:\n",
      "        return 0\n",
      "    \n",
      "unique_tweets['sentiment'] = unique_tweets.tokens.apply(measure_sentiment)\n",
      "print unique_tweets.sentiment.hist()"
     ],
     "language": "python",
     "metadata": {},
     "outputs": [
      {
       "output_type": "stream",
       "stream": "stdout",
       "text": [
        "Axes(0.125,0.125;0.775x0.775)\n"
       ]
      },
      {
       "metadata": {},
       "output_type": "display_data",
       "png": "[encoded data removed]",
       "text": [
        "<matplotlib.figure.Figure at 0x110970090>"
       ]
      }
     ],
     "prompt_number": 21
    },
    {
     "cell_type": "markdown",
     "metadata": {},
     "source": [
      "Most of the tweets are of 0 sentiment, or slightly positive."
     ]
    },
    {
     "cell_type": "markdown",
     "metadata": {},
     "source": [
      "#####Create numeric target column"
     ]
    },
    {
     "cell_type": "code",
     "collapsed": false,
     "input": [
      "def numeric_hashtag(tag):\n",
      "    targets = {\n",
      "        u'hongkong': 0,\n",
      "        u'occupycentral': 1,\n",
      "        u'umbrellarevolution':2,\n",
      "        u'china':3,\n",
      "        u'hk':4,\n",
      "        u'admiralty':5,\n",
      "        u'occupyhk':6,\n",
      "    }\n",
      "    return targets[tag]\n",
      "\n",
      "unique_tweets['target'] = unique_tweets.hashtag.apply(numeric_hashtag)"
     ],
     "language": "python",
     "metadata": {},
     "outputs": [],
     "prompt_number": 22
    },
    {
     "cell_type": "markdown",
     "metadata": {},
     "source": [
      "#####Regress sentiment on target"
     ]
    },
    {
     "cell_type": "code",
     "collapsed": false,
     "input": [
      "from sklearn import linear_model as lm\n",
      "\n",
      "lmfit = lm.LogisticRegression()\n",
      "lmfit.fit(unique_tweets[['sentiment']], unique_tweets['target'])\n",
      "print lmfit.score(unique_tweets[['sentiment']], unique_tweets['target'])"
     ],
     "language": "python",
     "metadata": {},
     "outputs": [
      {
       "output_type": "stream",
       "stream": "stdout",
       "text": [
        "0.197541703248\n"
       ]
      }
     ],
     "prompt_number": 23
    },
    {
     "cell_type": "markdown",
     "metadata": {},
     "source": [
      "#####Add in length of a tweet as a feature"
     ]
    },
    {
     "cell_type": "code",
     "collapsed": false,
     "input": [
      "unique_tweets['tweet_len'] = unique_tweets['tweet'].map(lambda x: len(x))"
     ],
     "language": "python",
     "metadata": {},
     "outputs": [],
     "prompt_number": 27
    },
    {
     "cell_type": "code",
     "collapsed": false,
     "input": [
      "lmfit = lm.LogisticRegression()\n",
      "lmfit.fit(unique_tweets[['sentiment','tweet_len']], unique_tweets['target'])\n",
      "print lmfit.score(unique_tweets[['sentiment','tweet_len']], unique_tweets['target'])"
     ],
     "language": "python",
     "metadata": {},
     "outputs": [
      {
       "output_type": "stream",
       "stream": "stdout",
       "text": [
        "0.208955223881\n"
       ]
      }
     ],
     "prompt_number": 34
    }
   ],
   "metadata": {}
  }
 ]
}