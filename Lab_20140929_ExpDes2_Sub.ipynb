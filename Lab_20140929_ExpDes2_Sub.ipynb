{
 "metadata": {
  "name": "",
  "signature": "sha256:d776619cbfe1c82b3b157d64c1dbcad97fddc6d45afc40b446b45cdb5b5d0a54"
 },
 "nbformat": 3,
 "nbformat_minor": 0,
 "worksheets": [
  {
   "cells": [
    {
     "cell_type": "heading",
     "level": 2,
     "metadata": {},
     "source": [
      "Experimental Design 2 - Submission"
     ]
    },
    {
     "cell_type": "heading",
     "level": 3,
     "metadata": {},
     "source": [
      "Shirin Hashim"
     ]
    },
    {
     "cell_type": "heading",
     "level": 3,
     "metadata": {},
     "source": [
      "9/29/2014"
     ]
    },
    {
     "cell_type": "heading",
     "level": 5,
     "metadata": {},
     "source": [
      "Are animal sleep patterns dependent on their weight?"
     ]
    },
    {
     "cell_type": "code",
     "collapsed": false,
     "input": [
      "import numpy as np\n",
      "import pandas as pd\n",
      "from pandas.tools.plotting import scatter_matrix\n",
      "from matplotlib import pyplot as plt\n",
      "import statsmodels.formula.api as smf\n",
      "\n",
      "pd.options.display.mpl_style = 'default'\n",
      "spat = pd.read_csv('https://raw.githubusercontent.com/TeachingDataScience/data-science-course/forstudentviewing/08_data_results/data/msleep.csv')"
     ],
     "language": "python",
     "metadata": {},
     "outputs": [],
     "prompt_number": 15
    },
    {
     "cell_type": "code",
     "collapsed": false,
     "input": [
      "#1. Is there a linear relationship between one of these variables and the number of hours?"
     ],
     "language": "python",
     "metadata": {},
     "outputs": [],
     "prompt_number": 1
    },
    {
     "cell_type": "code",
     "collapsed": false,
     "input": [
      "spat_C = pd.DataFrame(spat)\n",
      "\n",
      "spat_C.dropna(subset=['sleep_rem'], inplace=True)\n",
      "spat_C.dropna(subset=['brainwt'], inplace=True)\n",
      "spat_C.dropna(subset=['bodywt'], inplace=True)\n",
      "\n",
      "fig, axes = plt.subplots(nrows=1,ncols=2)\n",
      "\n",
      "axes[0].plot(spat_C.sleep_rem, spat_C.brainwt, 'go')\n",
      "axes[0].set_title('Rem v. Brain Weight')\n",
      "axes[0].set_xlabel('Rem Hours')\n",
      "axes[0].set_ylabel('Brain Weight')\n",
      "\n",
      "axes[1].plot(spat_C.sleep_rem, spat_C.bodywt, 'mo')\n",
      "axes[1].set_title('Rem v. Body Weight')\n",
      "axes[1].set_xlabel('Rem Hours')\n",
      "axes[1].set_ylabel('Body Weight')\n",
      "\n",
      "print fig\n",
      "\n",
      "model_bd = smf.ols(formula='sleep_rem ~ bodywt', data=spat_C)\n",
      "results_bd = model_bd.fit()\n",
      "print 'SLEEP REM V BODY WEIGHT SUMMARY'\n",
      "print(results_bd.summary())\n",
      "print\n",
      "\n",
      "model_br = smf.ols(formula='sleep_rem ~ brainwt', data=spat_C)\n",
      "results_br = model_br.fit()\n",
      "print 'SLEEP REM V BRAIN WEIGHT SUMMARY'\n",
      "print(results_br.summary())\n",
      "print"
     ],
     "language": "python",
     "metadata": {},
     "outputs": [
      {
       "output_type": "stream",
       "stream": "stdout",
       "text": [
        "Figure(480x320)\n",
        "SLEEP REM V BODY WEIGHT SUMMARY\n",
        "                            OLS Regression Results                            \n",
        "==============================================================================\n",
        "Dep. Variable:              sleep_rem   R-squared:                       0.075\n",
        "Model:                            OLS   Adj. R-squared:                  0.055\n",
        "Method:                 Least Squares   F-statistic:                     3.747\n",
        "Date:                Mon, 29 Sep 2014   Prob (F-statistic):             0.0591\n",
        "Time:                        21:11:46   Log-Likelihood:                -73.846\n",
        "No. Observations:                  48   AIC:                             151.7\n",
        "Df Residuals:                      46   BIC:                             155.4\n",
        "Df Model:                           1                                         \n",
        "==============================================================================\n",
        "                 coef    std err          t      P>|t|      [95.0% Conf. Int.]\n",
        "------------------------------------------------------------------------------\n",
        "Intercept      2.0339      0.177     11.500      0.000         1.678     2.390\n",
        "bodywt        -0.0028      0.001     -1.936      0.059        -0.006     0.000\n",
        "==============================================================================\n",
        "Omnibus:                       20.129   Durbin-Watson:                   2.437\n",
        "Prob(Omnibus):                  0.000   Jarque-Bera (JB):               29.747\n",
        "Skew:                           1.351   Prob(JB):                     3.47e-07\n",
        "Kurtosis:                       5.752   Cond. No.                         132.\n",
        "==============================================================================\n",
        "\n",
        "SLEEP REM V BRAIN WEIGHT SUMMARY\n",
        "                            OLS Regression Results                            \n",
        "==============================================================================\n",
        "Dep. Variable:              sleep_rem   R-squared:                       0.049\n",
        "Model:                            OLS   Adj. R-squared:                  0.028\n",
        "Method:                 Least Squares   F-statistic:                     2.370\n",
        "Date:                Mon, 29 Sep 2014   Prob (F-statistic):              0.131\n",
        "Time:                        21:11:46   Log-Likelihood:                -74.520\n",
        "No. Observations:                  48   AIC:                             153.0\n",
        "Df Residuals:                      46   BIC:                             156.8\n",
        "Df Model:                           1                                         \n",
        "==============================================================================\n",
        "                 coef    std err          t      P>|t|      [95.0% Conf. Int.]\n",
        "------------------------------------------------------------------------------\n",
        "Intercept      2.0382      0.186     10.953      0.000         1.664     2.413\n",
        "brainwt       -1.1411      0.741     -1.539      0.131        -2.633     0.351\n",
        "==============================================================================\n",
        "Omnibus:                       17.539   Durbin-Watson:                   2.600\n",
        "Prob(Omnibus):                  0.000   Jarque-Bera (JB):               22.586\n",
        "Skew:                           1.272   Prob(JB):                     1.25e-05\n",
        "Kurtosis:                       5.196   Cond. No.                         4.45\n",
        "==============================================================================\n",
        "\n"
       ]
      },
      {
       "metadata": {},
       "output_type": "display_data",
       "png": "[encoded data removed]",
       "text": [
        "<matplotlib.figure.Figure at 0x10b51da90>"
       ]
      }
     ],
     "prompt_number": 69
    },
    {
     "cell_type": "markdown",
     "metadata": {},
     "source": [
      "There does not appear to be a linear relationship based on the scatterplot as well as the low P-values of the coefficients."
     ]
    },
    {
     "cell_type": "code",
     "collapsed": false,
     "input": [
      "#2. If so, what's the measure of goodness of fit?"
     ],
     "language": "python",
     "metadata": {},
     "outputs": [],
     "prompt_number": 65
    },
    {
     "cell_type": "markdown",
     "metadata": {},
     "source": [
      "For body weight: R-squared:  0.075"
     ]
    },
    {
     "cell_type": "markdown",
     "metadata": {},
     "source": [
      "For brain weight: R-squared: 0.049"
     ]
    },
    {
     "cell_type": "code",
     "collapsed": false,
     "input": [
      "#3. Does one seem to fit better than another?"
     ],
     "language": "python",
     "metadata": {},
     "outputs": [],
     "prompt_number": 70
    },
    {
     "cell_type": "markdown",
     "metadata": {},
     "source": [
      "Body weight seems to fit better as both the P-value of the slope and the R-squared value indicate more statistical significance and better fit, but neither shows a strong case."
     ]
    }
   ],
   "metadata": {}
  }
 ]
}