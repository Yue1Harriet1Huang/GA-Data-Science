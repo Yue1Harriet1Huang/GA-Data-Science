{
 "metadata": {
  "name": "",
  "signature": "sha256:58c60bbe3feb5937cd2964824f7af5f043bdf693a6af3b05384911411aa5a3e9"
 },
 "nbformat": 3,
 "nbformat_minor": 0,
 "worksheets": [
  {
   "cells": [
    {
     "cell_type": "code",
     "collapsed": false,
     "input": [
      "import pandas as pd\n",
      "import numpy as np\n",
      "import matplotlib.pyplot as plt"
     ],
     "language": "python",
     "metadata": {},
     "outputs": [],
     "prompt_number": 1
    },
    {
     "cell_type": "code",
     "collapsed": false,
     "input": [
      "%pylab inline"
     ],
     "language": "python",
     "metadata": {},
     "outputs": [
      {
       "output_type": "stream",
       "stream": "stdout",
       "text": [
        "Populating the interactive namespace from numpy and matplotlib\n"
       ]
      }
     ],
     "prompt_number": 2
    },
    {
     "cell_type": "heading",
     "level": 3,
     "metadata": {},
     "source": [
      "Acquitions"
     ]
    },
    {
     "cell_type": "code",
     "collapsed": false,
     "input": [
      "movie = pd.read_table(\"http://bit.ly/gamoviedata\", header=None)"
     ],
     "language": "python",
     "metadata": {},
     "outputs": [],
     "prompt_number": 52
    },
    {
     "cell_type": "heading",
     "level": 3,
     "metadata": {},
     "source": [
      "Cleaning"
     ]
    },
    {
     "cell_type": "heading",
     "level": 5,
     "metadata": {},
     "source": [
      "Rename columns"
     ]
    },
    {
     "cell_type": "code",
     "collapsed": false,
     "input": [
      "movie.head()"
     ],
     "language": "python",
     "metadata": {},
     "outputs": [
      {
       "html": [
        "<div style=\"max-height:1000px;max-width:1500px;overflow:auto;\">\n",
        "<table border=\"1\" class=\"dataframe\">\n",
        "  <thead>\n",
        "    <tr style=\"text-align: right;\">\n",
        "      <th></th>\n",
        "      <th>0</th>\n",
        "      <th>1</th>\n",
        "      <th>2</th>\n",
        "      <th>3</th>\n",
        "      <th>4</th>\n",
        "      <th>5</th>\n",
        "      <th>6</th>\n",
        "    </tr>\n",
        "  </thead>\n",
        "  <tbody>\n",
        "    <tr>\n",
        "      <th>0</th>\n",
        "      <td> tt0111161</td>\n",
        "      <td> The Shawshank Redemption (1994)</td>\n",
        "      <td> 1994</td>\n",
        "      <td> 9.2</td>\n",
        "      <td> 619479</td>\n",
        "      <td> 142 mins.</td>\n",
        "      <td>                      Crime|Drama</td>\n",
        "    </tr>\n",
        "    <tr>\n",
        "      <th>1</th>\n",
        "      <td> tt0110912</td>\n",
        "      <td>             Pulp Fiction (1994)</td>\n",
        "      <td> 1994</td>\n",
        "      <td> 9.0</td>\n",
        "      <td> 490065</td>\n",
        "      <td> 154 mins.</td>\n",
        "      <td>                   Crime|Thriller</td>\n",
        "    </tr>\n",
        "    <tr>\n",
        "      <th>2</th>\n",
        "      <td> tt0137523</td>\n",
        "      <td>               Fight Club (1999)</td>\n",
        "      <td> 1999</td>\n",
        "      <td> 8.8</td>\n",
        "      <td> 458173</td>\n",
        "      <td> 139 mins.</td>\n",
        "      <td>           Drama|Mystery|Thriller</td>\n",
        "    </tr>\n",
        "    <tr>\n",
        "      <th>3</th>\n",
        "      <td> tt0133093</td>\n",
        "      <td>               The Matrix (1999)</td>\n",
        "      <td> 1999</td>\n",
        "      <td> 8.7</td>\n",
        "      <td> 448114</td>\n",
        "      <td> 136 mins.</td>\n",
        "      <td>          Action|Adventure|Sci-Fi</td>\n",
        "    </tr>\n",
        "    <tr>\n",
        "      <th>4</th>\n",
        "      <td> tt1375666</td>\n",
        "      <td>                Inception (2010)</td>\n",
        "      <td> 2010</td>\n",
        "      <td> 8.9</td>\n",
        "      <td> 385149</td>\n",
        "      <td> 148 mins.</td>\n",
        "      <td> Action|Adventure|Sci-Fi|Thriller</td>\n",
        "    </tr>\n",
        "  </tbody>\n",
        "</table>\n",
        "</div>"
       ],
       "metadata": {},
       "output_type": "pyout",
       "prompt_number": 43,
       "text": [
        "           0                                1     2    3       4          5  \\\n",
        "0  tt0111161  The Shawshank Redemption (1994)  1994  9.2  619479  142 mins.   \n",
        "1  tt0110912              Pulp Fiction (1994)  1994  9.0  490065  154 mins.   \n",
        "2  tt0137523                Fight Club (1999)  1999  8.8  458173  139 mins.   \n",
        "3  tt0133093                The Matrix (1999)  1999  8.7  448114  136 mins.   \n",
        "4  tt1375666                 Inception (2010)  2010  8.9  385149  148 mins.   \n",
        "\n",
        "                                  6  \n",
        "0                       Crime|Drama  \n",
        "1                    Crime|Thriller  \n",
        "2            Drama|Mystery|Thriller  \n",
        "3           Action|Adventure|Sci-Fi  \n",
        "4  Action|Adventure|Sci-Fi|Thriller  "
       ]
      }
     ],
     "prompt_number": 43
    },
    {
     "cell_type": "code",
     "collapsed": false,
     "input": [
      "header_row = ['id','title','year','rating','votes','length','genre',]\n",
      "movie.columns = header_row"
     ],
     "language": "python",
     "metadata": {},
     "outputs": [],
     "prompt_number": 53
    },
    {
     "cell_type": "code",
     "collapsed": false,
     "input": [
      "movie.head()"
     ],
     "language": "python",
     "metadata": {},
     "outputs": [
      {
       "html": [
        "<div style=\"max-height:1000px;max-width:1500px;overflow:auto;\">\n",
        "<table border=\"1\" class=\"dataframe\">\n",
        "  <thead>\n",
        "    <tr style=\"text-align: right;\">\n",
        "      <th></th>\n",
        "      <th>id</th>\n",
        "      <th>title</th>\n",
        "      <th>year</th>\n",
        "      <th>rating</th>\n",
        "      <th>votes</th>\n",
        "      <th>length</th>\n",
        "      <th>genre</th>\n",
        "    </tr>\n",
        "  </thead>\n",
        "  <tbody>\n",
        "    <tr>\n",
        "      <th>0</th>\n",
        "      <td> tt0111161</td>\n",
        "      <td> The Shawshank Redemption (1994)</td>\n",
        "      <td> 1994</td>\n",
        "      <td> 9.2</td>\n",
        "      <td> 619479</td>\n",
        "      <td> 142 mins.</td>\n",
        "      <td>                      Crime|Drama</td>\n",
        "    </tr>\n",
        "    <tr>\n",
        "      <th>1</th>\n",
        "      <td> tt0110912</td>\n",
        "      <td>             Pulp Fiction (1994)</td>\n",
        "      <td> 1994</td>\n",
        "      <td> 9.0</td>\n",
        "      <td> 490065</td>\n",
        "      <td> 154 mins.</td>\n",
        "      <td>                   Crime|Thriller</td>\n",
        "    </tr>\n",
        "    <tr>\n",
        "      <th>2</th>\n",
        "      <td> tt0137523</td>\n",
        "      <td>               Fight Club (1999)</td>\n",
        "      <td> 1999</td>\n",
        "      <td> 8.8</td>\n",
        "      <td> 458173</td>\n",
        "      <td> 139 mins.</td>\n",
        "      <td>           Drama|Mystery|Thriller</td>\n",
        "    </tr>\n",
        "    <tr>\n",
        "      <th>3</th>\n",
        "      <td> tt0133093</td>\n",
        "      <td>               The Matrix (1999)</td>\n",
        "      <td> 1999</td>\n",
        "      <td> 8.7</td>\n",
        "      <td> 448114</td>\n",
        "      <td> 136 mins.</td>\n",
        "      <td>          Action|Adventure|Sci-Fi</td>\n",
        "    </tr>\n",
        "    <tr>\n",
        "      <th>4</th>\n",
        "      <td> tt1375666</td>\n",
        "      <td>                Inception (2010)</td>\n",
        "      <td> 2010</td>\n",
        "      <td> 8.9</td>\n",
        "      <td> 385149</td>\n",
        "      <td> 148 mins.</td>\n",
        "      <td> Action|Adventure|Sci-Fi|Thriller</td>\n",
        "    </tr>\n",
        "  </tbody>\n",
        "</table>\n",
        "</div>"
       ],
       "metadata": {},
       "output_type": "pyout",
       "prompt_number": 35,
       "text": [
        "          id                            title  year  rating   votes  \\\n",
        "0  tt0111161  The Shawshank Redemption (1994)  1994     9.2  619479   \n",
        "1  tt0110912              Pulp Fiction (1994)  1994     9.0  490065   \n",
        "2  tt0137523                Fight Club (1999)  1999     8.8  458173   \n",
        "3  tt0133093                The Matrix (1999)  1999     8.7  448114   \n",
        "4  tt1375666                 Inception (2010)  2010     8.9  385149   \n",
        "\n",
        "      length                             genre  \n",
        "0  142 mins.                       Crime|Drama  \n",
        "1  154 mins.                    Crime|Thriller  \n",
        "2  139 mins.            Drama|Mystery|Thriller  \n",
        "3  136 mins.           Action|Adventure|Sci-Fi  \n",
        "4  148 mins.  Action|Adventure|Sci-Fi|Thriller  "
       ]
      }
     ],
     "prompt_number": 35
    },
    {
     "cell_type": "heading",
     "level": 5,
     "metadata": {},
     "source": [
      "Substring/Strip, Convert to Integer/Date-Time"
     ]
    },
    {
     "cell_type": "markdown",
     "metadata": {},
     "source": [
      "Clean title"
     ]
    },
    {
     "cell_type": "code",
     "collapsed": false,
     "input": [
      "movie['title'] = movie['title'].map(lambda x: str(x)[:-7])"
     ],
     "language": "python",
     "metadata": {},
     "outputs": [],
     "prompt_number": 54
    },
    {
     "cell_type": "code",
     "collapsed": false,
     "input": [
      "movie.head()"
     ],
     "language": "python",
     "metadata": {},
     "outputs": [
      {
       "html": [
        "<div style=\"max-height:1000px;max-width:1500px;overflow:auto;\">\n",
        "<table border=\"1\" class=\"dataframe\">\n",
        "  <thead>\n",
        "    <tr style=\"text-align: right;\">\n",
        "      <th></th>\n",
        "      <th>id</th>\n",
        "      <th>title</th>\n",
        "      <th>year</th>\n",
        "      <th>rating</th>\n",
        "      <th>votes</th>\n",
        "      <th>length</th>\n",
        "      <th>genre</th>\n",
        "    </tr>\n",
        "  </thead>\n",
        "  <tbody>\n",
        "    <tr>\n",
        "      <th>0</th>\n",
        "      <td> tt0111161</td>\n",
        "      <td> The Shawshank Redemption</td>\n",
        "      <td> 1994</td>\n",
        "      <td> 9.2</td>\n",
        "      <td> 619479</td>\n",
        "      <td> 142 mins.</td>\n",
        "      <td>                      Crime|Drama</td>\n",
        "    </tr>\n",
        "    <tr>\n",
        "      <th>1</th>\n",
        "      <td> tt0110912</td>\n",
        "      <td>             Pulp Fiction</td>\n",
        "      <td> 1994</td>\n",
        "      <td> 9.0</td>\n",
        "      <td> 490065</td>\n",
        "      <td> 154 mins.</td>\n",
        "      <td>                   Crime|Thriller</td>\n",
        "    </tr>\n",
        "    <tr>\n",
        "      <th>2</th>\n",
        "      <td> tt0137523</td>\n",
        "      <td>               Fight Club</td>\n",
        "      <td> 1999</td>\n",
        "      <td> 8.8</td>\n",
        "      <td> 458173</td>\n",
        "      <td> 139 mins.</td>\n",
        "      <td>           Drama|Mystery|Thriller</td>\n",
        "    </tr>\n",
        "    <tr>\n",
        "      <th>3</th>\n",
        "      <td> tt0133093</td>\n",
        "      <td>               The Matrix</td>\n",
        "      <td> 1999</td>\n",
        "      <td> 8.7</td>\n",
        "      <td> 448114</td>\n",
        "      <td> 136 mins.</td>\n",
        "      <td>          Action|Adventure|Sci-Fi</td>\n",
        "    </tr>\n",
        "    <tr>\n",
        "      <th>4</th>\n",
        "      <td> tt1375666</td>\n",
        "      <td>                Inception</td>\n",
        "      <td> 2010</td>\n",
        "      <td> 8.9</td>\n",
        "      <td> 385149</td>\n",
        "      <td> 148 mins.</td>\n",
        "      <td> Action|Adventure|Sci-Fi|Thriller</td>\n",
        "    </tr>\n",
        "  </tbody>\n",
        "</table>\n",
        "</div>"
       ],
       "metadata": {},
       "output_type": "pyout",
       "prompt_number": 37,
       "text": [
        "          id                     title  year  rating   votes     length  \\\n",
        "0  tt0111161  The Shawshank Redemption  1994     9.2  619479  142 mins.   \n",
        "1  tt0110912              Pulp Fiction  1994     9.0  490065  154 mins.   \n",
        "2  tt0137523                Fight Club  1999     8.8  458173  139 mins.   \n",
        "3  tt0133093                The Matrix  1999     8.7  448114  136 mins.   \n",
        "4  tt1375666                 Inception  2010     8.9  385149  148 mins.   \n",
        "\n",
        "                              genre  \n",
        "0                       Crime|Drama  \n",
        "1                    Crime|Thriller  \n",
        "2            Drama|Mystery|Thriller  \n",
        "3           Action|Adventure|Sci-Fi  \n",
        "4  Action|Adventure|Sci-Fi|Thriller  "
       ]
      }
     ],
     "prompt_number": 37
    },
    {
     "cell_type": "markdown",
     "metadata": {},
     "source": [
      "Clean length"
     ]
    },
    {
     "cell_type": "code",
     "collapsed": false,
     "input": [
      "movie['length'] = movie['length'].map(lambda x: int(str(x)[:-6]))"
     ],
     "language": "python",
     "metadata": {},
     "outputs": [],
     "prompt_number": 55
    },
    {
     "cell_type": "code",
     "collapsed": false,
     "input": [
      "movie.head()"
     ],
     "language": "python",
     "metadata": {},
     "outputs": [
      {
       "html": [
        "<div style=\"max-height:1000px;max-width:1500px;overflow:auto;\">\n",
        "<table border=\"1\" class=\"dataframe\">\n",
        "  <thead>\n",
        "    <tr style=\"text-align: right;\">\n",
        "      <th></th>\n",
        "      <th>id</th>\n",
        "      <th>title</th>\n",
        "      <th>year</th>\n",
        "      <th>rating</th>\n",
        "      <th>votes</th>\n",
        "      <th>length</th>\n",
        "      <th>genre</th>\n",
        "    </tr>\n",
        "  </thead>\n",
        "  <tbody>\n",
        "    <tr>\n",
        "      <th>0</th>\n",
        "      <td> tt0111161</td>\n",
        "      <td> The Shawshank Redemption</td>\n",
        "      <td> 1994</td>\n",
        "      <td> 9.2</td>\n",
        "      <td> 619479</td>\n",
        "      <td> 142</td>\n",
        "      <td>                      Crime|Drama</td>\n",
        "    </tr>\n",
        "    <tr>\n",
        "      <th>1</th>\n",
        "      <td> tt0110912</td>\n",
        "      <td>             Pulp Fiction</td>\n",
        "      <td> 1994</td>\n",
        "      <td> 9.0</td>\n",
        "      <td> 490065</td>\n",
        "      <td> 154</td>\n",
        "      <td>                   Crime|Thriller</td>\n",
        "    </tr>\n",
        "    <tr>\n",
        "      <th>2</th>\n",
        "      <td> tt0137523</td>\n",
        "      <td>               Fight Club</td>\n",
        "      <td> 1999</td>\n",
        "      <td> 8.8</td>\n",
        "      <td> 458173</td>\n",
        "      <td> 139</td>\n",
        "      <td>           Drama|Mystery|Thriller</td>\n",
        "    </tr>\n",
        "    <tr>\n",
        "      <th>3</th>\n",
        "      <td> tt0133093</td>\n",
        "      <td>               The Matrix</td>\n",
        "      <td> 1999</td>\n",
        "      <td> 8.7</td>\n",
        "      <td> 448114</td>\n",
        "      <td> 136</td>\n",
        "      <td>          Action|Adventure|Sci-Fi</td>\n",
        "    </tr>\n",
        "    <tr>\n",
        "      <th>4</th>\n",
        "      <td> tt1375666</td>\n",
        "      <td>                Inception</td>\n",
        "      <td> 2010</td>\n",
        "      <td> 8.9</td>\n",
        "      <td> 385149</td>\n",
        "      <td> 148</td>\n",
        "      <td> Action|Adventure|Sci-Fi|Thriller</td>\n",
        "    </tr>\n",
        "  </tbody>\n",
        "</table>\n",
        "</div>"
       ],
       "metadata": {},
       "output_type": "pyout",
       "prompt_number": 47,
       "text": [
        "          id                     title  year  rating   votes  length  \\\n",
        "0  tt0111161  The Shawshank Redemption  1994     9.2  619479     142   \n",
        "1  tt0110912              Pulp Fiction  1994     9.0  490065     154   \n",
        "2  tt0137523                Fight Club  1999     8.8  458173     139   \n",
        "3  tt0133093                The Matrix  1999     8.7  448114     136   \n",
        "4  tt1375666                 Inception  2010     8.9  385149     148   \n",
        "\n",
        "                              genre  \n",
        "0                       Crime|Drama  \n",
        "1                    Crime|Thriller  \n",
        "2            Drama|Mystery|Thriller  \n",
        "3           Action|Adventure|Sci-Fi  \n",
        "4  Action|Adventure|Sci-Fi|Thriller  "
       ]
      }
     ],
     "prompt_number": 47
    }
   ],
   "metadata": {}
  }
 ]
}