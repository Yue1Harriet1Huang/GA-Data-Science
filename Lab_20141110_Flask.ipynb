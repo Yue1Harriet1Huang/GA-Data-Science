{
 "metadata": {
  "name": "",
  "signature": "sha256:05f2e12737d236d5e21903f5bfe796c4ddc7077c7b1ce2f50a48fb4df3f29137"
 },
 "nbformat": 3,
 "nbformat_minor": 0,
 "worksheets": [
  {
   "cells": [
    {
     "cell_type": "markdown",
     "metadata": {
      "slideshow": {
       "slide_type": "slide"
      }
     },
     "source": [
      "# Flask"
     ]
    },
    {
     "cell_type": "markdown",
     "metadata": {
      "slideshow": {
       "slide_type": "slide"
      }
     },
     "source": [
      "## Walk Through: Lyric Classifier"
     ]
    },
    {
     "cell_type": "code",
     "collapsed": false,
     "input": [
      "import pandas as pd\n",
      "from sklearn.feature_extraction.text import CountVectorizer\n",
      "from sklearn.naive_bayes import MultinomialNB\n",
      "\n",
      "import pickle\n",
      "\n",
      "from msd.stem import transformLyrics"
     ],
     "language": "python",
     "metadata": {},
     "outputs": [
      {
       "ename": "ImportError",
       "evalue": "cannot import name transformLyrics",
       "output_type": "pyerr",
       "traceback": [
        "\u001b[0;31m---------------------------------------------------------------------------\u001b[0m\n\u001b[0;31mImportError\u001b[0m                               Traceback (most recent call last)",
        "\u001b[0;32m<ipython-input-5-2f57f516d4c3>\u001b[0m in \u001b[0;36m<module>\u001b[0;34m()\u001b[0m\n\u001b[1;32m      5\u001b[0m \u001b[0;32mimport\u001b[0m \u001b[0mpickle\u001b[0m\u001b[0;34m\u001b[0m\u001b[0m\n\u001b[1;32m      6\u001b[0m \u001b[0;34m\u001b[0m\u001b[0m\n\u001b[0;32m----> 7\u001b[0;31m \u001b[0;32mfrom\u001b[0m \u001b[0mstem\u001b[0m \u001b[0;32mimport\u001b[0m \u001b[0mtransformLyrics\u001b[0m\u001b[0;34m\u001b[0m\u001b[0m\n\u001b[0m",
        "\u001b[0;31mImportError\u001b[0m: cannot import name transformLyrics"
       ]
      }
     ],
     "prompt_number": 5
    },
    {
     "cell_type": "markdown",
     "metadata": {
      "slideshow": {
       "slide_type": "subslide"
      }
     },
     "source": [
      "# Lyrics Classifier\n",
      "A Flask web application that provides an interface to enter lyrics and receive an artist prediction."
     ]
    },
    {
     "cell_type": "code",
     "collapsed": false,
     "input": [],
     "language": "python",
     "metadata": {},
     "outputs": [
      {
       "ename": "ImportError",
       "evalue": "No module named lyrics_classifier",
       "output_type": "pyerr",
       "traceback": [
        "\u001b[0;31m---------------------------------------------------------------------------\u001b[0m\n\u001b[0;31mImportError\u001b[0m                               Traceback (most recent call last)",
        "\u001b[0;32m<ipython-input-1-3821da6de077>\u001b[0m in \u001b[0;36m<module>\u001b[0;34m()\u001b[0m\n\u001b[1;32m      4\u001b[0m \u001b[0;32mfrom\u001b[0m \u001b[0mflask\u001b[0m \u001b[0;32mimport\u001b[0m \u001b[0mFlask\u001b[0m\u001b[0;34m,\u001b[0m \u001b[0mrequest\u001b[0m\u001b[0;34m,\u001b[0m \u001b[0mg\u001b[0m\u001b[0;34m,\u001b[0m \u001b[0mredirect\u001b[0m\u001b[0;34m,\u001b[0m \u001b[0murl_for\u001b[0m\u001b[0;34m,\u001b[0m \u001b[0mrender_template\u001b[0m\u001b[0;34m,\u001b[0m \u001b[0mflash\u001b[0m\u001b[0;34m\u001b[0m\u001b[0m\n\u001b[1;32m      5\u001b[0m \u001b[0;34m\u001b[0m\u001b[0m\n\u001b[0;32m----> 6\u001b[0;31m \u001b[0;32mfrom\u001b[0m \u001b[0mlyrics_classifier\u001b[0m \u001b[0;32mimport\u001b[0m \u001b[0mLyricsClf\u001b[0m\u001b[0;34m\u001b[0m\u001b[0m\n\u001b[0m",
        "\u001b[0;31mImportError\u001b[0m: No module named lyrics_classifier"
       ]
      }
     ],
     "prompt_number": 1
    },
    {
     "cell_type": "code",
     "collapsed": false,
     "input": [
      "app = Flask(__name__)"
     ],
     "language": "python",
     "metadata": {},
     "outputs": [],
     "prompt_number": 2
    },
    {
     "cell_type": "markdown",
     "metadata": {
      "slideshow": {
       "slide_type": "slide"
      }
     },
     "source": [
      "# The Flask Library"
     ]
    },
    {
     "cell_type": "markdown",
     "metadata": {
      "slideshow": {
       "slide_type": "subslide"
      }
     },
     "source": [
      "## Application Code Setup\n",
      "\n",
      "\n",
      "`app = Flask(__name__)`\n",
      "\n",
      "The \"\\__name__\" let's python know you're referring to the name if the module, in this case its flaskr because this file is named flaskr.py.\n",
      "\n",
      "\n",
      "### app.config.from_object\n",
      "\n",
      "app.config.from_object(__name__)\n",
      "    \n",
      "Pulls in the configuration dictionary.  In this case, the dictionary is loaded from object \"name\", so from this file.\n",
      "\n",
      "### app.config.update\n",
      "\n",
      "`app.config.update` takes the app.config file that we just created\n",
      "\n",
      "\n",
      "    "
     ]
    },
    {
     "cell_type": "markdown",
     "metadata": {
      "slideshow": {
       "slide_type": "subslide"
      }
     },
     "source": [
      "## Configuration\n",
      "```python\n",
      "\n",
      "# Specify a basic configuration\n",
      "# (Remember that this step happens in the application context)\n",
      "app.config.update(dict(\n",
      "    DATABASE=os.path.join(app.root_path, 'lyrics.db'),\n",
      "    DEBUG=True,\n",
      "    SECRET_KEY='my super secret string',\n",
      "    CLF_PICKLE='classifier.p'\n",
      "))\n",
      "\n",
      "# Load our pickled classifier before servicing requests\n",
      "clf = LyricsClf(app.config['CLF_PICKLE'])\n",
      "\n",
      "```"
     ]
    },
    {
     "cell_type": "markdown",
     "metadata": {
      "slideshow": {
       "slide_type": "subslide"
      }
     },
     "source": [
      "## Database \n",
      "\n",
      "```python\n",
      "def connect_db():\n",
      "    \"\"\"Connects to the database defined in the application configuration.\n",
      "    Returns a sqlite3 object that allows rows to be manipulated as python\n",
      "    dictionaries.\n",
      "    \"\"\"\n",
      "    rv = sqlite3.connect(app.config['DATABASE'])\n",
      "    # allows a row to be accessed as a dictionary rather than a tuple.\n",
      "    rv.row_factory = sqlite3.Row\n",
      "    return rv\n",
      "# end of connect_db()\n",
      "\n",
      "def init_db():\n",
      "    \"\"\"Initialize the database from schema.sql.\n",
      "    This needs to be run once manually, or whenever the database table \n",
      "    should be dropped. This is not executed during online operation.\n",
      "    \"\"\"\n",
      "    # establish the application context\n",
      "    with app.app_context():\n",
      "        # Open a connection to the database\n",
      "        db = get_db()\n",
      "        # Open schema.sql\n",
      "        with app.open_resource('schema.sql','r') as f:\n",
      "            # Execute the commands in the schema file\n",
      "            db.cursor().executescript(f.read())\n",
      "        # Write changes to the database\n",
      "        db.commit()\n",
      "# end of init_db()\n",
      "\n",
      "\n",
      "\n",
      "```"
     ]
    },
    {
     "cell_type": "markdown",
     "metadata": {
      "slideshow": {
       "slide_type": "subslide"
      }
     },
     "source": [
      "## Database Schema\n",
      "\n",
      "```python\n",
      "named `schema.sql` in the just created `flaskr` folder:\n",
      "\n",
      "\n",
      "\n",
      "    drop table if exists entries;\n",
      "    create table entries (\n",
      "      id integer primary key autoincrement,\n",
      "      title text not null,\n",
      "      'text' text not null\n",
      "    );\n",
      "```"
     ]
    },
    {
     "cell_type": "markdown",
     "metadata": {
      "slideshow": {
       "slide_type": "slide"
      }
     },
     "source": [
      "## Views\n",
      "\n",
      "### Flask 'Views': Portions of the DataBase\n",
      "\n",
      "A view is like a virtual table -- a specific look at data that is shown to, or used by,  a user of a website.\n",
      "\n",
      "\n",
      "A view in database theory,is the result set of a stored query on the data, which the database users can query just as they would in a persistent database collection object. "
     ]
    },
    {
     "cell_type": "markdown",
     "metadata": {
      "slideshow": {
       "slide_type": "subslide"
      }
     },
     "source": [
      "### Views\n",
      "```python\n",
      "\n",
      "@app.route('/')\n",
      "def show_predictions():\n",
      "    \"\"\"Main view to display all lyric/artist predictions.\n",
      "    Returns them in descending order by id.\n",
      "    \"\"\"\n",
      "    db = get_db()\n",
      "    cur = db.execute('SELECT lyrics, artist FROM predictions ORDER BY id DESC')\n",
      "    predictions = cur.fetchall()\n",
      "    return render_template('show_predictions.html', predictions=predictions)\n",
      "# end of show_predictions()\n",
      "\n",
      "\n",
      "```"
     ]
    },
    {
     "cell_type": "markdown",
     "metadata": {
      "slideshow": {
       "slide_type": "subslide"
      }
     },
     "source": [
      "## Add Prediction\n",
      "\n",
      "```python\n",
      "\n",
      "@app.route('/add', methods=['POST'])\n",
      "def add_prediction():\n",
      "    \"\"\"Predicts an artist based on the lyrics posted in the form.\n",
      "    Finds the lyrics in the request object's form dictionary.\n",
      "    Calls our classifier's predictArtist routine to return an artist\n",
      "    name. Connects to the database and inserts the prediction.\n",
      "    Flashes a message that the prediction was posted. Redirects the\n",
      "    user from the /add endpoint back to the show_predictions endpoint.\n",
      "    \"\"\"\n",
      "    lyrics = request.form['lyrics']\n",
      "    \"\"\"\n",
      "    The step below is actually where our classifier gets run.\n",
      "    \"\"\"\n",
      "    ######################################\n",
      "    artistName = clf.predictArtist(lyrics)\n",
      "    ######################################\n",
      "    \"\"\"\n",
      "    Again, the code above is all of the 'datascience', everything else is WSGI and Jinja and SQL web stuff\n",
      "    \"\"\"\n",
      "```"
     ]
    },
    {
     "cell_type": "markdown",
     "metadata": {
      "slideshow": {
       "slide_type": "subslide"
      }
     },
     "source": [
      "## Feedback to the User\n",
      "\n",
      "```python\n",
      "    db = get_db()\n",
      "    # remember how we set our SQL driver to treat rows as dictionaries? win!\n",
      "    # note: question mark notation safer than string replacement\n",
      "    # helps to prevent SQLi attacks\n",
      "    db.execute('INSERT INTO predictions (lyrics, artist) values (?, ?)',\n",
      "        [lyrics, artistName])\n",
      "    # Note: question marks above are for safety and speed via 'parameterized queries'\n",
      "    db.commit()\n",
      "    flash('Prediction was successfully posted')\n",
      "    # another example where the framework is omnipotent: url_for()\n",
      "    return redirect(url_for('show_predictions'))\n",
      "# end of add_prediction()\n",
      "\n",
      "```"
     ]
    },
    {
     "cell_type": "markdown",
     "metadata": {
      "slideshow": {
       "slide_type": "slide"
      }
     },
     "source": [
      "## Templates"
     ]
    },
    {
     "cell_type": "markdown",
     "metadata": {
      "slideshow": {
       "slide_type": "subslide"
      }
     },
     "source": [
      "### Layout - The Parent\n",
      "```html\n",
      "<!doctype html>\n",
      "<head>\n",
      "<link href=\"//maxcdn.bootstrapcdn.com/bootswatch/3.3.0/yeti/bootstrap.min.css\"\n",
      "      rel=\"stylesheet\">\n",
      "\n",
      "{# Using a css via a cdn is a quick way to access\n",
      "the nice features from\n",
      "http://getbootstrap.com/css/\n",
      "\n",
      "Keep in mind that http is specified for local hosting, and\n",
      "otherwise just leave the http: off and go with //netd... etc.\n",
      "\n",
      "\n",
      "#}\n",
      "\n",
      "\n",
      "\n",
      "</head>\n",
      "<title>Artist Prediction</title>\n",
      "\n",
      "<div class=container>\n",
      "    <h1>Artist Prediction</h1>\n",
      "    <h3>Enter lyrics to predict the artist</h3>\n",
      "    {% for message in get_flashed_messages() %}\n",
      "        <div class=flash>{{ message }}</div>\n",
      "    {% endfor %}\n",
      "    {% block body %}{% endblock %}\n",
      "</div>\n",
      "~                                                                                                    \n",
      "~   \n",
      "```"
     ]
    },
    {
     "cell_type": "markdown",
     "metadata": {
      "slideshow": {
       "slide_type": "subslide"
      }
     },
     "source": [
      "### Show Prediction (The Child)\n",
      "\n",
      "```html\n",
      "\n",
      "{% extends \"layout.html\" %}\n",
      "{% block body %}\n",
      "    <form action=\"{{ url_for('add_prediction') }}\" method=post class=add-prediction>\n",
      "\n",
      "{#\n",
      "Note that the form action is set to the url for a function.\n",
      "\n",
      "That url is specified buy the route in lyricsapp.py as /add\n",
      "#}\n",
      "        <dl>\n",
      "            <dt>Lyrics:\n",
      "            <dd><textarea name=lyrics rows=5 cols=40></textarea>\n",
      "            <dd><input type=submit value=Predict>\n",
      "        </dl>\n",
      "        {# Note that the form returns via 'request.form' to flask the\n",
      "        key: \"lyrics\" and the associated value when the button is\n",
      "        clicked.   \n",
      "\n",
      "\n",
      "        #}\n",
      "    </form>\n",
      "    <ul class=predictions>\n",
      "    {% for prediction in predictions %}\n",
      "        <li><h3>{{ prediction.lyrics}}</h3>{{ prediction.artist|safe }}\n",
      "    {% else %}\n",
      "        <li><em>No predictions yet. Try it out!</em>\n",
      "    {% endfor %}\n",
      "    </ul>\n",
      "{% endblock %}\n",
      "\n",
      "\n",
      "```"
     ]
    },
    {
     "cell_type": "markdown",
     "metadata": {
      "slideshow": {
       "slide_type": "skip"
      }
     },
     "source": [
      "## Test Phrases"
     ]
    },
    {
     "cell_type": "markdown",
     "metadata": {
      "slideshow": {
       "slide_type": "skip"
      }
     },
     "source": [
      "* She comes on like a rose\n",
      "* poison\n",
      "* jumping jack\n",
      "* beast of burden\n",
      "* mephis\n",
      "* club\n",
      "* bad romance\n",
      "* ready for those flashing lights\n",
      "* I want your leather-studded kiss in the sand\n",
      "* fashion\n",
      "* let it be\n",
      "* hello\n",
      "* goodbye\n",
      "* diamonds\n",
      "* lucy in the sky"
     ]
    }
   ],
   "metadata": {}
  }
 ]
}